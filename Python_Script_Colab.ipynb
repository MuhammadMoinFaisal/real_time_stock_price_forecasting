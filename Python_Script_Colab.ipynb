{
  "cells": [
    {
      "cell_type": "markdown",
      "id": "6oDMzMMiY-ok",
      "metadata": {
        "id": "6oDMzMMiY-ok"
      },
      "source": [
        "### **1 MINUTE INTERVAL DATA IMPLEMENTATION**"
      ]
    },
    {
      "cell_type": "markdown",
      "id": "YasHv7mfY3yc",
      "metadata": {
        "id": "YasHv7mfY3yc"
      },
      "source": [
        "## **IMPORT LIBRARIES**"
      ]
    },
    {
      "cell_type": "code",
      "execution_count": 1,
      "id": "58b520a4",
      "metadata": {},
      "outputs": [],
      "source": [
        "import tensorflow as tf"
      ]
    },
    {
      "cell_type": "code",
      "execution_count": 3,
      "id": "cfbd04a3",
      "metadata": {},
      "outputs": [],
      "source": [
        "import pytz"
      ]
    },
    {
      "cell_type": "code",
      "execution_count": 4,
      "id": "2a59600a",
      "metadata": {},
      "outputs": [
        {
          "name": "stdout",
          "output_type": "stream",
          "text": [
            "2021.3\n"
          ]
        }
      ],
      "source": [
        "print(pytz. __version__)"
      ]
    },
    {
      "cell_type": "code",
      "execution_count": null,
      "id": "7J8_Iqx4Xgt1",
      "metadata": {
        "colab": {
          "base_uri": "https://localhost:8080/"
        },
        "id": "7J8_Iqx4Xgt1",
        "outputId": "61d2778c-10a2-44d6-9c82-ad5699c4cc70"
      },
      "outputs": [
        {
          "name": "stdout",
          "output_type": "stream",
          "text": [
            "Looking in indexes: https://pypi.org/simple, https://us-python.pkg.dev/colab-wheels/public/simple/\n",
            "Collecting yfinance\n",
            "  Downloading yfinance-0.1.74-py2.py3-none-any.whl (27 kB)\n",
            "Requirement already satisfied: pandas>=0.24.0 in /usr/local/lib/python3.7/dist-packages (from yfinance) (1.3.5)\n",
            "Requirement already satisfied: lxml>=4.5.1 in /usr/local/lib/python3.7/dist-packages (from yfinance) (4.9.1)\n",
            "Requirement already satisfied: multitasking>=0.0.7 in /usr/local/lib/python3.7/dist-packages (from yfinance) (0.0.11)\n",
            "Collecting requests>=2.26\n",
            "  Downloading requests-2.28.1-py3-none-any.whl (62 kB)\n",
            "\u001b[K     |████████████████████████████████| 62 kB 1.2 MB/s \n",
            "\u001b[?25hRequirement already satisfied: numpy>=1.15 in /usr/local/lib/python3.7/dist-packages (from yfinance) (1.21.6)\n",
            "Requirement already satisfied: python-dateutil>=2.7.3 in /usr/local/lib/python3.7/dist-packages (from pandas>=0.24.0->yfinance) (2.8.2)\n",
            "Requirement already satisfied: pytz>=2017.3 in /usr/local/lib/python3.7/dist-packages (from pandas>=0.24.0->yfinance) (2022.2.1)\n",
            "Requirement already satisfied: six>=1.5 in /usr/local/lib/python3.7/dist-packages (from python-dateutil>=2.7.3->pandas>=0.24.0->yfinance) (1.15.0)\n",
            "Requirement already satisfied: idna<4,>=2.5 in /usr/local/lib/python3.7/dist-packages (from requests>=2.26->yfinance) (2.10)\n",
            "Requirement already satisfied: urllib3<1.27,>=1.21.1 in /usr/local/lib/python3.7/dist-packages (from requests>=2.26->yfinance) (1.24.3)\n",
            "Requirement already satisfied: certifi>=2017.4.17 in /usr/local/lib/python3.7/dist-packages (from requests>=2.26->yfinance) (2022.6.15)\n",
            "Requirement already satisfied: charset-normalizer<3,>=2 in /usr/local/lib/python3.7/dist-packages (from requests>=2.26->yfinance) (2.1.1)\n",
            "Installing collected packages: requests, yfinance\n",
            "  Attempting uninstall: requests\n",
            "    Found existing installation: requests 2.23.0\n",
            "    Uninstalling requests-2.23.0:\n",
            "      Successfully uninstalled requests-2.23.0\n",
            "Successfully installed requests-2.28.1 yfinance-0.1.74\n"
          ]
        }
      ],
      "source": [
        "!pip install yfinance \n"
      ]
    },
    {
      "cell_type": "code",
      "execution_count": null,
      "id": "0185b05d",
      "metadata": {
        "id": "0185b05d"
      },
      "outputs": [],
      "source": [
        "import pandas as pd"
      ]
    },
    {
      "cell_type": "code",
      "execution_count": null,
      "id": "IesCk3NrKu8S",
      "metadata": {
        "id": "IesCk3NrKu8S"
      },
      "outputs": [],
      "source": [
        "import time"
      ]
    },
    {
      "cell_type": "code",
      "execution_count": null,
      "id": "oHbsI1BqXi2H",
      "metadata": {
        "id": "oHbsI1BqXi2H"
      },
      "outputs": [],
      "source": [
        "from pandas_datareader import data as pdr \n",
        "\n",
        "# Market Data \n",
        "import yfinance as yf\n",
        "\n",
        "# Graphing / Visualization \n",
        "import plotly.graph_objs as go "
      ]
    },
    {
      "cell_type": "code",
      "execution_count": null,
      "id": "38b7c621",
      "metadata": {
        "id": "38b7c621"
      },
      "outputs": [],
      "source": [
        "import matplotlib.pyplot as plt"
      ]
    },
    {
      "cell_type": "code",
      "execution_count": null,
      "id": "7e8a31e5",
      "metadata": {
        "id": "7e8a31e5"
      },
      "outputs": [],
      "source": [
        "import numpy as np"
      ]
    },
    {
      "cell_type": "code",
      "execution_count": null,
      "id": "c0e56c91",
      "metadata": {
        "id": "c0e56c91"
      },
      "outputs": [],
      "source": [
        "from sklearn.preprocessing import MinMaxScaler"
      ]
    },
    {
      "cell_type": "code",
      "execution_count": null,
      "id": "JOsPHs3j-G55",
      "metadata": {
        "id": "JOsPHs3j-G55"
      },
      "outputs": [],
      "source": [
        "from math import sqrt\n"
      ]
    },
    {
      "cell_type": "code",
      "execution_count": null,
      "id": "pnjxQ1WQXmnd",
      "metadata": {
        "id": "pnjxQ1WQXmnd"
      },
      "outputs": [],
      "source": [
        "import datetime"
      ]
    },
    {
      "cell_type": "code",
      "execution_count": null,
      "id": "c86f710d",
      "metadata": {
        "id": "c86f710d"
      },
      "outputs": [],
      "source": [
        "import keras\n",
        "import tensorflow as tf\n",
        "from keras.models import Model\n",
        "from keras.layers import Dense, Dropout, LSTM, Input, Activation, concatenate, Bidirectional, GRU, Conv1D, MaxPooling1D, Flatten\n",
        "from keras import optimizers\n",
        "import numpy as np\n"
      ]
    },
    {
      "cell_type": "code",
      "execution_count": null,
      "id": "C1HWEtXVFoK3",
      "metadata": {
        "id": "C1HWEtXVFoK3"
      },
      "outputs": [],
      "source": [
        "from tensorflow import keras"
      ]
    },
    {
      "cell_type": "code",
      "execution_count": null,
      "id": "YQwCHuAf2cT8",
      "metadata": {
        "id": "YQwCHuAf2cT8"
      },
      "outputs": [],
      "source": [
        "from keras.models import Sequential"
      ]
    },
    {
      "cell_type": "code",
      "execution_count": null,
      "id": "Xu37_VkfCyXf",
      "metadata": {
        "id": "Xu37_VkfCyXf"
      },
      "outputs": [],
      "source": [
        "from sklearn.metrics import r2_score"
      ]
    },
    {
      "cell_type": "code",
      "execution_count": null,
      "id": "HlSh4zanqr8n",
      "metadata": {
        "id": "HlSh4zanqr8n"
      },
      "outputs": [],
      "source": [
        "from keras.wrappers.scikit_learn import KerasRegressor\n",
        "from sklearn.model_selection import GridSearchCV"
      ]
    },
    {
      "cell_type": "code",
      "execution_count": null,
      "id": "r8fPy66QucVV",
      "metadata": {
        "id": "r8fPy66QucVV"
      },
      "outputs": [],
      "source": [
        "from matplotlib import pyplot\n"
      ]
    },
    {
      "cell_type": "code",
      "execution_count": null,
      "id": "zJ-IvGyM943B",
      "metadata": {
        "id": "zJ-IvGyM943B"
      },
      "outputs": [],
      "source": [
        "from sklearn.metrics import mean_squared_error\n"
      ]
    },
    {
      "cell_type": "code",
      "execution_count": null,
      "id": "S2-FJpTDu5S_",
      "metadata": {
        "id": "S2-FJpTDu5S_"
      },
      "outputs": [],
      "source": [
        "from pandas import DataFrame"
      ]
    },
    {
      "cell_type": "code",
      "execution_count": null,
      "id": "AQGB7IxFu65V",
      "metadata": {
        "id": "AQGB7IxFu65V"
      },
      "outputs": [],
      "source": [
        "from pandas import concat\n"
      ]
    },
    {
      "cell_type": "code",
      "execution_count": null,
      "id": "hW9mgaJGXpaN",
      "metadata": {
        "id": "hW9mgaJGXpaN"
      },
      "outputs": [],
      "source": [
        "yf.pdr_override() \n"
      ]
    },
    {
      "cell_type": "markdown",
      "id": "c79e1e5e",
      "metadata": {
        "id": "c79e1e5e"
      },
      "source": [
        "# LOADING THE DATASET"
      ]
    },
    {
      "cell_type": "code",
      "execution_count": null,
      "id": "vjac5G_pPvIv",
      "metadata": {
        "colab": {
          "base_uri": "https://localhost:8080/"
        },
        "id": "vjac5G_pPvIv",
        "outputId": "c2e4ee68-a677-4e2b-d9f7-335c2537f3eb"
      },
      "outputs": [
        {
          "name": "stdout",
          "output_type": "stream",
          "text": [
            "\r[*********************100%***********************]  1 of 1 completed\n"
          ]
        }
      ],
      "source": [
        "# Import the data frame (df) from yahoo finance using the specified stock as the ticker symbol\n",
        "data_1_Minute  = yf.download(tickers='^DJI;',period='7d',interval='1m')"
      ]
    },
    {
      "cell_type": "code",
      "execution_count": null,
      "id": "JK-l91UizrTD",
      "metadata": {
        "id": "JK-l91UizrTD"
      },
      "outputs": [],
      "source": [
        "data_1_Minute = data_1_Minute.reset_index()"
      ]
    },
    {
      "cell_type": "code",
      "execution_count": null,
      "id": "jTiImb7uEALY",
      "metadata": {
        "colab": {
          "base_uri": "https://localhost:8080/"
        },
        "id": "jTiImb7uEALY",
        "outputId": "f21b8380-495a-4938-8cd5-a16510c81307"
      },
      "outputs": [
        {
          "data": {
            "text/plain": [
              "Datetime     datetime64[ns, America/New_York]\n",
              "Open                                  float64\n",
              "High                                  float64\n",
              "Low                                   float64\n",
              "Close                                 float64\n",
              "Adj Close                             float64\n",
              "Volume                                  int64\n",
              "dtype: object"
            ]
          },
          "execution_count": 271,
          "metadata": {},
          "output_type": "execute_result"
        }
      ],
      "source": [
        "data_1_Minute.dtypes"
      ]
    },
    {
      "cell_type": "code",
      "execution_count": null,
      "id": "4zJ8iF0hdOie",
      "metadata": {
        "colab": {
          "base_uri": "https://localhost:8080/",
          "height": 206
        },
        "id": "4zJ8iF0hdOie",
        "outputId": "53e69872-3ef0-475f-edb7-238896c8d223"
      },
      "outputs": [
        {
          "data": {
            "text/html": [
              "\n",
              "  <div id=\"df-c35dc9ac-c8ac-476e-a81e-6bb4d16a5260\">\n",
              "    <div class=\"colab-df-container\">\n",
              "      <div>\n",
              "<style scoped>\n",
              "    .dataframe tbody tr th:only-of-type {\n",
              "        vertical-align: middle;\n",
              "    }\n",
              "\n",
              "    .dataframe tbody tr th {\n",
              "        vertical-align: top;\n",
              "    }\n",
              "\n",
              "    .dataframe thead th {\n",
              "        text-align: right;\n",
              "    }\n",
              "</style>\n",
              "<table border=\"1\" class=\"dataframe\">\n",
              "  <thead>\n",
              "    <tr style=\"text-align: right;\">\n",
              "      <th></th>\n",
              "      <th>Datetime</th>\n",
              "      <th>Open</th>\n",
              "      <th>High</th>\n",
              "      <th>Low</th>\n",
              "      <th>Close</th>\n",
              "      <th>Adj Close</th>\n",
              "      <th>Volume</th>\n",
              "    </tr>\n",
              "  </thead>\n",
              "  <tbody>\n",
              "    <tr>\n",
              "      <th>0</th>\n",
              "      <td>2022-09-07 09:30:00-04:00</td>\n",
              "      <td>31145.630859</td>\n",
              "      <td>31145.630859</td>\n",
              "      <td>31095.210938</td>\n",
              "      <td>31110.140625</td>\n",
              "      <td>31110.140625</td>\n",
              "      <td>0</td>\n",
              "    </tr>\n",
              "    <tr>\n",
              "      <th>1</th>\n",
              "      <td>2022-09-07 09:31:00-04:00</td>\n",
              "      <td>31111.320312</td>\n",
              "      <td>31141.259766</td>\n",
              "      <td>31108.210938</td>\n",
              "      <td>31139.140625</td>\n",
              "      <td>31139.140625</td>\n",
              "      <td>1851455</td>\n",
              "    </tr>\n",
              "    <tr>\n",
              "      <th>2</th>\n",
              "      <td>2022-09-07 09:32:00-04:00</td>\n",
              "      <td>31137.130859</td>\n",
              "      <td>31141.449219</td>\n",
              "      <td>31115.539062</td>\n",
              "      <td>31123.449219</td>\n",
              "      <td>31123.449219</td>\n",
              "      <td>1465345</td>\n",
              "    </tr>\n",
              "    <tr>\n",
              "      <th>3</th>\n",
              "      <td>2022-09-07 09:33:00-04:00</td>\n",
              "      <td>31127.720703</td>\n",
              "      <td>31127.720703</td>\n",
              "      <td>31101.679688</td>\n",
              "      <td>31121.679688</td>\n",
              "      <td>31121.679688</td>\n",
              "      <td>1155305</td>\n",
              "    </tr>\n",
              "    <tr>\n",
              "      <th>4</th>\n",
              "      <td>2022-09-07 09:34:00-04:00</td>\n",
              "      <td>31125.560547</td>\n",
              "      <td>31141.160156</td>\n",
              "      <td>31117.529297</td>\n",
              "      <td>31139.970703</td>\n",
              "      <td>31139.970703</td>\n",
              "      <td>1245284</td>\n",
              "    </tr>\n",
              "  </tbody>\n",
              "</table>\n",
              "</div>\n",
              "      <button class=\"colab-df-convert\" onclick=\"convertToInteractive('df-c35dc9ac-c8ac-476e-a81e-6bb4d16a5260')\"\n",
              "              title=\"Convert this dataframe to an interactive table.\"\n",
              "              style=\"display:none;\">\n",
              "        \n",
              "  <svg xmlns=\"http://www.w3.org/2000/svg\" height=\"24px\"viewBox=\"0 0 24 24\"\n",
              "       width=\"24px\">\n",
              "    <path d=\"M0 0h24v24H0V0z\" fill=\"none\"/>\n",
              "    <path d=\"M18.56 5.44l.94 2.06.94-2.06 2.06-.94-2.06-.94-.94-2.06-.94 2.06-2.06.94zm-11 1L8.5 8.5l.94-2.06 2.06-.94-2.06-.94L8.5 2.5l-.94 2.06-2.06.94zm10 10l.94 2.06.94-2.06 2.06-.94-2.06-.94-.94-2.06-.94 2.06-2.06.94z\"/><path d=\"M17.41 7.96l-1.37-1.37c-.4-.4-.92-.59-1.43-.59-.52 0-1.04.2-1.43.59L10.3 9.45l-7.72 7.72c-.78.78-.78 2.05 0 2.83L4 21.41c.39.39.9.59 1.41.59.51 0 1.02-.2 1.41-.59l7.78-7.78 2.81-2.81c.8-.78.8-2.07 0-2.86zM5.41 20L4 18.59l7.72-7.72 1.47 1.35L5.41 20z\"/>\n",
              "  </svg>\n",
              "      </button>\n",
              "      \n",
              "  <style>\n",
              "    .colab-df-container {\n",
              "      display:flex;\n",
              "      flex-wrap:wrap;\n",
              "      gap: 12px;\n",
              "    }\n",
              "\n",
              "    .colab-df-convert {\n",
              "      background-color: #E8F0FE;\n",
              "      border: none;\n",
              "      border-radius: 50%;\n",
              "      cursor: pointer;\n",
              "      display: none;\n",
              "      fill: #1967D2;\n",
              "      height: 32px;\n",
              "      padding: 0 0 0 0;\n",
              "      width: 32px;\n",
              "    }\n",
              "\n",
              "    .colab-df-convert:hover {\n",
              "      background-color: #E2EBFA;\n",
              "      box-shadow: 0px 1px 2px rgba(60, 64, 67, 0.3), 0px 1px 3px 1px rgba(60, 64, 67, 0.15);\n",
              "      fill: #174EA6;\n",
              "    }\n",
              "\n",
              "    [theme=dark] .colab-df-convert {\n",
              "      background-color: #3B4455;\n",
              "      fill: #D2E3FC;\n",
              "    }\n",
              "\n",
              "    [theme=dark] .colab-df-convert:hover {\n",
              "      background-color: #434B5C;\n",
              "      box-shadow: 0px 1px 3px 1px rgba(0, 0, 0, 0.15);\n",
              "      filter: drop-shadow(0px 1px 2px rgba(0, 0, 0, 0.3));\n",
              "      fill: #FFFFFF;\n",
              "    }\n",
              "  </style>\n",
              "\n",
              "      <script>\n",
              "        const buttonEl =\n",
              "          document.querySelector('#df-c35dc9ac-c8ac-476e-a81e-6bb4d16a5260 button.colab-df-convert');\n",
              "        buttonEl.style.display =\n",
              "          google.colab.kernel.accessAllowed ? 'block' : 'none';\n",
              "\n",
              "        async function convertToInteractive(key) {\n",
              "          const element = document.querySelector('#df-c35dc9ac-c8ac-476e-a81e-6bb4d16a5260');\n",
              "          const dataTable =\n",
              "            await google.colab.kernel.invokeFunction('convertToInteractive',\n",
              "                                                     [key], {});\n",
              "          if (!dataTable) return;\n",
              "\n",
              "          const docLinkHtml = 'Like what you see? Visit the ' +\n",
              "            '<a target=\"_blank\" href=https://colab.research.google.com/notebooks/data_table.ipynb>data table notebook</a>'\n",
              "            + ' to learn more about interactive tables.';\n",
              "          element.innerHTML = '';\n",
              "          dataTable['output_type'] = 'display_data';\n",
              "          await google.colab.output.renderOutput(dataTable, element);\n",
              "          const docLink = document.createElement('div');\n",
              "          docLink.innerHTML = docLinkHtml;\n",
              "          element.appendChild(docLink);\n",
              "        }\n",
              "      </script>\n",
              "    </div>\n",
              "  </div>\n",
              "  "
            ],
            "text/plain": [
              "                   Datetime          Open          High           Low  \\\n",
              "0 2022-09-07 09:30:00-04:00  31145.630859  31145.630859  31095.210938   \n",
              "1 2022-09-07 09:31:00-04:00  31111.320312  31141.259766  31108.210938   \n",
              "2 2022-09-07 09:32:00-04:00  31137.130859  31141.449219  31115.539062   \n",
              "3 2022-09-07 09:33:00-04:00  31127.720703  31127.720703  31101.679688   \n",
              "4 2022-09-07 09:34:00-04:00  31125.560547  31141.160156  31117.529297   \n",
              "\n",
              "          Close     Adj Close   Volume  \n",
              "0  31110.140625  31110.140625        0  \n",
              "1  31139.140625  31139.140625  1851455  \n",
              "2  31123.449219  31123.449219  1465345  \n",
              "3  31121.679688  31121.679688  1155305  \n",
              "4  31139.970703  31139.970703  1245284  "
            ]
          },
          "execution_count": 270,
          "metadata": {},
          "output_type": "execute_result"
        }
      ],
      "source": [
        "data_1_Minute.head()"
      ]
    },
    {
      "cell_type": "code",
      "execution_count": null,
      "id": "hjTII0c9P5hg",
      "metadata": {
        "colab": {
          "base_uri": "https://localhost:8080/",
          "height": 206
        },
        "id": "hjTII0c9P5hg",
        "outputId": "9671ac8f-2704-4033-aa36-0357c95fa188"
      },
      "outputs": [
        {
          "data": {
            "text/html": [
              "\n",
              "  <div id=\"df-993660d6-00c2-40b4-bb90-288784571ec9\">\n",
              "    <div class=\"colab-df-container\">\n",
              "      <div>\n",
              "<style scoped>\n",
              "    .dataframe tbody tr th:only-of-type {\n",
              "        vertical-align: middle;\n",
              "    }\n",
              "\n",
              "    .dataframe tbody tr th {\n",
              "        vertical-align: top;\n",
              "    }\n",
              "\n",
              "    .dataframe thead th {\n",
              "        text-align: right;\n",
              "    }\n",
              "</style>\n",
              "<table border=\"1\" class=\"dataframe\">\n",
              "  <thead>\n",
              "    <tr style=\"text-align: right;\">\n",
              "      <th></th>\n",
              "      <th>Datetime</th>\n",
              "      <th>Open</th>\n",
              "      <th>High</th>\n",
              "      <th>Low</th>\n",
              "      <th>Close</th>\n",
              "      <th>Adj Close</th>\n",
              "      <th>Volume</th>\n",
              "    </tr>\n",
              "  </thead>\n",
              "  <tbody>\n",
              "    <tr>\n",
              "      <th>2721</th>\n",
              "      <td>2022-09-15 15:56:00-04:00</td>\n",
              "      <td>31003.339844</td>\n",
              "      <td>31006.970703</td>\n",
              "      <td>30980.230469</td>\n",
              "      <td>30983.109375</td>\n",
              "      <td>30983.109375</td>\n",
              "      <td>2581889</td>\n",
              "    </tr>\n",
              "    <tr>\n",
              "      <th>2722</th>\n",
              "      <td>2022-09-15 15:57:00-04:00</td>\n",
              "      <td>30982.949219</td>\n",
              "      <td>30982.949219</td>\n",
              "      <td>30963.929688</td>\n",
              "      <td>30966.869141</td>\n",
              "      <td>30966.869141</td>\n",
              "      <td>2332871</td>\n",
              "    </tr>\n",
              "    <tr>\n",
              "      <th>2723</th>\n",
              "      <td>2022-09-15 15:58:00-04:00</td>\n",
              "      <td>30967.199219</td>\n",
              "      <td>30968.910156</td>\n",
              "      <td>30958.439453</td>\n",
              "      <td>30968.910156</td>\n",
              "      <td>30968.910156</td>\n",
              "      <td>2846964</td>\n",
              "    </tr>\n",
              "    <tr>\n",
              "      <th>2724</th>\n",
              "      <td>2022-09-15 15:59:00-04:00</td>\n",
              "      <td>30972.089844</td>\n",
              "      <td>30980.070312</td>\n",
              "      <td>30960.630859</td>\n",
              "      <td>30960.630859</td>\n",
              "      <td>30960.630859</td>\n",
              "      <td>5452960</td>\n",
              "    </tr>\n",
              "    <tr>\n",
              "      <th>2725</th>\n",
              "      <td>2022-09-15 16:00:00-04:00</td>\n",
              "      <td>30961.820312</td>\n",
              "      <td>30961.820312</td>\n",
              "      <td>30961.820312</td>\n",
              "      <td>30961.820312</td>\n",
              "      <td>30961.820312</td>\n",
              "      <td>0</td>\n",
              "    </tr>\n",
              "  </tbody>\n",
              "</table>\n",
              "</div>\n",
              "      <button class=\"colab-df-convert\" onclick=\"convertToInteractive('df-993660d6-00c2-40b4-bb90-288784571ec9')\"\n",
              "              title=\"Convert this dataframe to an interactive table.\"\n",
              "              style=\"display:none;\">\n",
              "        \n",
              "  <svg xmlns=\"http://www.w3.org/2000/svg\" height=\"24px\"viewBox=\"0 0 24 24\"\n",
              "       width=\"24px\">\n",
              "    <path d=\"M0 0h24v24H0V0z\" fill=\"none\"/>\n",
              "    <path d=\"M18.56 5.44l.94 2.06.94-2.06 2.06-.94-2.06-.94-.94-2.06-.94 2.06-2.06.94zm-11 1L8.5 8.5l.94-2.06 2.06-.94-2.06-.94L8.5 2.5l-.94 2.06-2.06.94zm10 10l.94 2.06.94-2.06 2.06-.94-2.06-.94-.94-2.06-.94 2.06-2.06.94z\"/><path d=\"M17.41 7.96l-1.37-1.37c-.4-.4-.92-.59-1.43-.59-.52 0-1.04.2-1.43.59L10.3 9.45l-7.72 7.72c-.78.78-.78 2.05 0 2.83L4 21.41c.39.39.9.59 1.41.59.51 0 1.02-.2 1.41-.59l7.78-7.78 2.81-2.81c.8-.78.8-2.07 0-2.86zM5.41 20L4 18.59l7.72-7.72 1.47 1.35L5.41 20z\"/>\n",
              "  </svg>\n",
              "      </button>\n",
              "      \n",
              "  <style>\n",
              "    .colab-df-container {\n",
              "      display:flex;\n",
              "      flex-wrap:wrap;\n",
              "      gap: 12px;\n",
              "    }\n",
              "\n",
              "    .colab-df-convert {\n",
              "      background-color: #E8F0FE;\n",
              "      border: none;\n",
              "      border-radius: 50%;\n",
              "      cursor: pointer;\n",
              "      display: none;\n",
              "      fill: #1967D2;\n",
              "      height: 32px;\n",
              "      padding: 0 0 0 0;\n",
              "      width: 32px;\n",
              "    }\n",
              "\n",
              "    .colab-df-convert:hover {\n",
              "      background-color: #E2EBFA;\n",
              "      box-shadow: 0px 1px 2px rgba(60, 64, 67, 0.3), 0px 1px 3px 1px rgba(60, 64, 67, 0.15);\n",
              "      fill: #174EA6;\n",
              "    }\n",
              "\n",
              "    [theme=dark] .colab-df-convert {\n",
              "      background-color: #3B4455;\n",
              "      fill: #D2E3FC;\n",
              "    }\n",
              "\n",
              "    [theme=dark] .colab-df-convert:hover {\n",
              "      background-color: #434B5C;\n",
              "      box-shadow: 0px 1px 3px 1px rgba(0, 0, 0, 0.15);\n",
              "      filter: drop-shadow(0px 1px 2px rgba(0, 0, 0, 0.3));\n",
              "      fill: #FFFFFF;\n",
              "    }\n",
              "  </style>\n",
              "\n",
              "      <script>\n",
              "        const buttonEl =\n",
              "          document.querySelector('#df-993660d6-00c2-40b4-bb90-288784571ec9 button.colab-df-convert');\n",
              "        buttonEl.style.display =\n",
              "          google.colab.kernel.accessAllowed ? 'block' : 'none';\n",
              "\n",
              "        async function convertToInteractive(key) {\n",
              "          const element = document.querySelector('#df-993660d6-00c2-40b4-bb90-288784571ec9');\n",
              "          const dataTable =\n",
              "            await google.colab.kernel.invokeFunction('convertToInteractive',\n",
              "                                                     [key], {});\n",
              "          if (!dataTable) return;\n",
              "\n",
              "          const docLinkHtml = 'Like what you see? Visit the ' +\n",
              "            '<a target=\"_blank\" href=https://colab.research.google.com/notebooks/data_table.ipynb>data table notebook</a>'\n",
              "            + ' to learn more about interactive tables.';\n",
              "          element.innerHTML = '';\n",
              "          dataTable['output_type'] = 'display_data';\n",
              "          await google.colab.output.renderOutput(dataTable, element);\n",
              "          const docLink = document.createElement('div');\n",
              "          docLink.innerHTML = docLinkHtml;\n",
              "          element.appendChild(docLink);\n",
              "        }\n",
              "      </script>\n",
              "    </div>\n",
              "  </div>\n",
              "  "
            ],
            "text/plain": [
              "                      Datetime          Open          High           Low  \\\n",
              "2721 2022-09-15 15:56:00-04:00  31003.339844  31006.970703  30980.230469   \n",
              "2722 2022-09-15 15:57:00-04:00  30982.949219  30982.949219  30963.929688   \n",
              "2723 2022-09-15 15:58:00-04:00  30967.199219  30968.910156  30958.439453   \n",
              "2724 2022-09-15 15:59:00-04:00  30972.089844  30980.070312  30960.630859   \n",
              "2725 2022-09-15 16:00:00-04:00  30961.820312  30961.820312  30961.820312   \n",
              "\n",
              "             Close     Adj Close   Volume  \n",
              "2721  30983.109375  30983.109375  2581889  \n",
              "2722  30966.869141  30966.869141  2332871  \n",
              "2723  30968.910156  30968.910156  2846964  \n",
              "2724  30960.630859  30960.630859  5452960  \n",
              "2725  30961.820312  30961.820312        0  "
            ]
          },
          "execution_count": 24,
          "metadata": {},
          "output_type": "execute_result"
        }
      ],
      "source": [
        "data_1_Minute.tail()"
      ]
    },
    {
      "cell_type": "code",
      "execution_count": null,
      "id": "lF5rpqmekuyf",
      "metadata": {
        "colab": {
          "base_uri": "https://localhost:8080/"
        },
        "id": "lF5rpqmekuyf",
        "outputId": "c3c8d4b2-0ec9-4756-f6e3-1817bec2a389"
      },
      "outputs": [
        {
          "data": {
            "text/plain": [
              "(2726, 7)"
            ]
          },
          "execution_count": 25,
          "metadata": {},
          "output_type": "execute_result"
        }
      ],
      "source": [
        "data_1_Minute.shape"
      ]
    },
    {
      "cell_type": "markdown",
      "id": "VJ6jSr_XZe5C",
      "metadata": {
        "id": "VJ6jSr_XZe5C"
      },
      "source": [
        "# REMOVING THE MISSING VALUES FROM THE DATA"
      ]
    },
    {
      "cell_type": "code",
      "execution_count": null,
      "id": "b8f74475",
      "metadata": {
        "id": "b8f74475"
      },
      "outputs": [],
      "source": [
        "\n",
        "data_1_Minute = data_1_Minute.fillna(0)"
      ]
    },
    {
      "cell_type": "code",
      "execution_count": null,
      "id": "a12faad2",
      "metadata": {
        "colab": {
          "base_uri": "https://localhost:8080/"
        },
        "id": "a12faad2",
        "outputId": "295f504b-cd18-4c82-aef8-184532dd0e6b"
      },
      "outputs": [
        {
          "data": {
            "text/plain": [
              "(2726, 7)"
            ]
          },
          "execution_count": 28,
          "metadata": {},
          "output_type": "execute_result"
        }
      ],
      "source": [
        "data_1_Minute.shape"
      ]
    },
    {
      "cell_type": "code",
      "execution_count": null,
      "id": "qUEKm6Z0hNLh",
      "metadata": {
        "id": "qUEKm6Z0hNLh"
      },
      "outputs": [],
      "source": [
        "data_1_Minute[\"Difference\"] = data_1_Minute[\"Close\"] - data_1_Minute[\"Open\"]"
      ]
    },
    {
      "cell_type": "markdown",
      "id": "FJnUiRvzZ_k0",
      "metadata": {
        "id": "FJnUiRvzZ_k0"
      },
      "source": [
        "# CHANGING THE DATETIME COLUMN INTO THE DATATIME FORMAT AND CREATING AN YEAR AND MONTH COLUMN"
      ]
    },
    {
      "cell_type": "code",
      "execution_count": null,
      "id": "b23c51f7",
      "metadata": {
        "id": "b23c51f7"
      },
      "outputs": [],
      "source": [
        "data_1_Minute[\"Datetime\"] = pd.to_datetime(data_1_Minute[\"Datetime\"])"
      ]
    },
    {
      "cell_type": "code",
      "execution_count": null,
      "id": "9f614998",
      "metadata": {
        "id": "9f614998"
      },
      "outputs": [],
      "source": [
        "data_1_Minute['year'] = pd.to_datetime(data_1_Minute[\"Datetime\"]).dt.year"
      ]
    },
    {
      "cell_type": "code",
      "execution_count": null,
      "id": "855c313e",
      "metadata": {
        "id": "855c313e"
      },
      "outputs": [],
      "source": [
        "data_1_Minute['month'] = pd.to_datetime(data_1_Minute[\"Datetime\"]).dt.month"
      ]
    },
    {
      "cell_type": "markdown",
      "id": "c87413e1",
      "metadata": {
        "id": "c87413e1"
      },
      "source": [
        "# SIMPLE MOVING AVERAGE"
      ]
    },
    {
      "cell_type": "code",
      "execution_count": null,
      "id": "273e6efa",
      "metadata": {
        "id": "273e6efa"
      },
      "outputs": [],
      "source": [
        "data_1_Minute['10SMA'] = data_1_Minute.Close.rolling(14).mean()\n",
        "\n"
      ]
    },
    {
      "cell_type": "code",
      "execution_count": null,
      "id": "yPnu9fI9g9zM",
      "metadata": {
        "id": "yPnu9fI9g9zM"
      },
      "outputs": [],
      "source": [
        "data_1_Minute['21SMA'] = data_1_Minute.Close.rolling(21).mean()\n",
        "\n"
      ]
    },
    {
      "cell_type": "code",
      "execution_count": null,
      "id": "vBOJYjy9g98R",
      "metadata": {
        "id": "vBOJYjy9g98R"
      },
      "outputs": [],
      "source": [
        "data_1_Minute['40SMA'] = data_1_Minute.Close.rolling(40).mean()\n",
        "\n"
      ]
    },
    {
      "cell_type": "code",
      "execution_count": null,
      "id": "ny8cG3P0g-EW",
      "metadata": {
        "id": "ny8cG3P0g-EW"
      },
      "outputs": [],
      "source": [
        "data_1_Minute['200SMA'] = data_1_Minute.Close.rolling(200).mean()\n",
        "\n"
      ]
    },
    {
      "cell_type": "markdown",
      "id": "961b61c2",
      "metadata": {
        "id": "961b61c2"
      },
      "source": [
        "\n",
        "\n",
        "# Exponential Moving Average"
      ]
    },
    {
      "cell_type": "code",
      "execution_count": null,
      "id": "421f44fc",
      "metadata": {
        "id": "421f44fc"
      },
      "outputs": [],
      "source": [
        "data_1_Minute['EMA'] = data_1_Minute.Close.ewm(span=14).mean()\n"
      ]
    },
    {
      "cell_type": "markdown",
      "id": "90ae6890",
      "metadata": {
        "id": "90ae6890"
      },
      "source": [
        "# Bollinger Brands"
      ]
    },
    {
      "cell_type": "code",
      "execution_count": null,
      "id": "27304551",
      "metadata": {
        "id": "27304551"
      },
      "outputs": [],
      "source": [
        "# Boillinger band calculations\n",
        "data_1_Minute['TP'] = (data_1_Minute['Close'] + data_1_Minute['Low'] + data_1_Minute['High'])/3\n",
        "data_1_Minute['std'] = data_1_Minute['TP'].rolling(20).std(ddof=2)\n",
        "data_1_Minute['MA-TP'] = data_1_Minute['TP'].rolling(20).mean()\n",
        "data_1_Minute['BOLINGER BRANDS-UPPER VALUE'] = data_1_Minute['MA-TP'] + 2*data_1_Minute['std']\n",
        "data_1_Minute[\"BOLINGER BRANDS- LOWER VALUE\"] = data_1_Minute['MA-TP'] - 2*data_1_Minute['std']"
      ]
    },
    {
      "cell_type": "markdown",
      "id": "82789368",
      "metadata": {
        "id": "82789368"
      },
      "source": [
        "# Relative Strength Index"
      ]
    },
    {
      "cell_type": "code",
      "execution_count": null,
      "id": "d4f4bc7d",
      "metadata": {
        "id": "d4f4bc7d"
      },
      "outputs": [],
      "source": [
        "delta = data_1_Minute['Close'].diff()\n",
        "up = delta.clip(lower=0)\n",
        "down = -1*delta.clip(upper=0)\n",
        "ema_up = up.ewm(com=70, adjust=False).mean()\n",
        "ema_down = down.ewm(com=30, adjust=False).mean()\n",
        "rs = ema_up/ema_down\n",
        "data_1_Minute['RSI'] = 100 - (100/(1 + rs))"
      ]
    },
    {
      "cell_type": "markdown",
      "id": "4eb0d6ab",
      "metadata": {
        "id": "4eb0d6ab"
      },
      "source": [
        "# Weighted Moving Avaerage"
      ]
    },
    {
      "cell_type": "code",
      "execution_count": null,
      "id": "64363705",
      "metadata": {
        "id": "64363705"
      },
      "outputs": [],
      "source": [
        "weights = np.array([0.1, 0.2, 0.3, 0.4, 0.5, 0.6, 0.7, 0.8, 0.9, 1.0])\n",
        "data_1_Minute['WMA'] = data_1_Minute['Close'].rolling(10).apply(lambda x: np.sum(weights*x))\n"
      ]
    },
    {
      "cell_type": "markdown",
      "id": "50fcf425",
      "metadata": {
        "id": "50fcf425"
      },
      "source": [
        "# Average True Range"
      ]
    },
    {
      "cell_type": "code",
      "execution_count": null,
      "id": "205fc65b",
      "metadata": {
        "id": "205fc65b"
      },
      "outputs": [],
      "source": [
        "data_1_Minute['TR'] = [max(tup) for tup in list(zip(data_1_Minute['High'] - data_1_Minute['Low'],\n",
        "                                        (data_1_Minute['High'] - data_1_Minute['Close'].shift(1)).abs(),\n",
        "                                        (data_1_Minute['Low']  - data_1_Minute['Close'].shift(1)).abs()))]"
      ]
    },
    {
      "cell_type": "code",
      "execution_count": null,
      "id": "045c4faa",
      "metadata": {
        "id": "045c4faa"
      },
      "outputs": [],
      "source": [
        "data_1_Minute['ATR'] = data_1_Minute['TR'].ewm(span = 14).mean()\n",
        "\n"
      ]
    },
    {
      "cell_type": "markdown",
      "id": "80db0a47",
      "metadata": {
        "id": "80db0a47"
      },
      "source": [
        "\n",
        "# Average Directional Movement Index"
      ]
    },
    {
      "cell_type": "code",
      "execution_count": null,
      "id": "244ff199",
      "metadata": {
        "id": "244ff199"
      },
      "outputs": [],
      "source": [
        "def get_adx(high, low, Close, lookback):\n",
        "    plus_dm = high.diff()\n",
        "    minus_dm = low.diff()\n",
        "    plus_dm[plus_dm < 0] = 0\n",
        "    minus_dm[minus_dm > 0] = 0\n",
        "    \n",
        "    tr1 = pd.DataFrame(high - low)\n",
        "    tr2 = pd.DataFrame(abs(high - Close.shift(1)))\n",
        "    tr3 = pd.DataFrame(abs(low - Close.shift(1)))\n",
        "    frames = [tr1, tr2, tr3]\n",
        "    tr = pd.concat(frames, axis = 1, join = 'inner').max(axis = 1)\n",
        "    atr = tr.rolling(lookback).mean()\n",
        "    \n",
        "    plus_di = 100 * (plus_dm.ewm(alpha = 1/lookback).mean() / atr)\n",
        "    minus_di = abs(100 * (minus_dm.ewm(alpha = 1/lookback).mean() / atr))\n",
        "    dx = (abs(plus_di - minus_di) / abs(plus_di + minus_di)) * 100\n",
        "    adx = ((dx.shift(1) * (lookback - 1)) + dx) / lookback\n",
        "    adx_smooth = adx.ewm(alpha = 1/lookback).mean()\n",
        "    return plus_di, minus_di, adx_smooth\n",
        "\n",
        "data_1_Minute['plus_di'] = pd.DataFrame(get_adx(data_1_Minute['High'], data_1_Minute['Low'], data_1_Minute['Close'], 14)[0]).rename(columns = {0:'plus_di'})\n",
        "data_1_Minute['minus_di'] = pd.DataFrame(get_adx(data_1_Minute['High'], data_1_Minute['Low'], data_1_Minute['Close'], 14)[1]).rename(columns = {0:'minus_di'})\n",
        "data_1_Minute['adx'] = pd.DataFrame(get_adx(data_1_Minute['High'], data_1_Minute['Low'], data_1_Minute['Close'], 14)[2]).rename(columns = {0:'adx'})"
      ]
    },
    {
      "cell_type": "markdown",
      "id": "a70291dc",
      "metadata": {
        "id": "a70291dc"
      },
      "source": [
        "# MOVING AVERAGE CONVERGENCE DIVERGENCE"
      ]
    },
    {
      "cell_type": "code",
      "execution_count": null,
      "id": "9616eb71",
      "metadata": {
        "id": "9616eb71"
      },
      "outputs": [],
      "source": [
        "exp1 = data_1_Minute['Close'].ewm(span=12, adjust=False).mean()\n",
        "exp2 = data_1_Minute['Close'].ewm(span=26, adjust=False).mean()\n",
        "data_1_Minute['MACD'] = exp1 - exp2\n",
        "\n"
      ]
    },
    {
      "cell_type": "markdown",
      "id": "33ac4795",
      "metadata": {
        "id": "33ac4795"
      },
      "source": [
        "# Calculating Stochastic Tehnical Indicator"
      ]
    },
    {
      "cell_type": "code",
      "execution_count": null,
      "id": "a26ced97",
      "metadata": {
        "id": "a26ced97"
      },
      "outputs": [],
      "source": [
        "data_1_Minute['14-high'] = data_1_Minute['High'].rolling(14).max()\n",
        "data_1_Minute['14-low'] = data_1_Minute['Low'].rolling(14).min()\n",
        "data_1_Minute['%K'] = (data_1_Minute['Close'] - data_1_Minute['14-low'])*100/(data_1_Minute['14-high'] - data_1_Minute['14-low'])\n",
        "data_1_Minute['%D'] = data_1_Minute['%K'].rolling(3).mean()"
      ]
    },
    {
      "cell_type": "markdown",
      "id": "vpomWYd4aQ6Q",
      "metadata": {
        "id": "vpomWYd4aQ6Q"
      },
      "source": [
        "## **ALL THE TECHNICAL INDICATORS ARE CALCULATED CHECKING THE DATASET NOW **"
      ]
    },
    {
      "cell_type": "code",
      "execution_count": null,
      "id": "69800e58",
      "metadata": {
        "id": "69800e58"
      },
      "outputs": [],
      "source": [
        "data_1_Minute_14 = data_1_Minute.iloc[15:,:]"
      ]
    },
    {
      "cell_type": "code",
      "execution_count": null,
      "id": "IsrDMiELmfqY",
      "metadata": {
        "colab": {
          "base_uri": "https://localhost:8080/"
        },
        "id": "IsrDMiELmfqY",
        "outputId": "c0b50b54-4d75-4fbf-e124-c9e0fc581bf0"
      },
      "outputs": [
        {
          "data": {
            "text/plain": [
              "Index(['Datetime', 'Open', 'High', 'Low', 'Close', 'Adj Close', 'Volume',\n",
              "       'Difference', 'year', 'month', '10SMA', '21SMA', '40SMA', '200SMA',\n",
              "       'EMA', 'TP', 'std', 'MA-TP', 'BOLINGER BRANDS-UPPER VALUE',\n",
              "       'BOLINGER BRANDS- LOWER VALUE', 'RSI', 'WMA', 'TR', 'ATR', 'plus_di',\n",
              "       'minus_di', 'adx', 'MACD', '14-high', '14-low', '%K', '%D'],\n",
              "      dtype='object')"
            ]
          },
          "execution_count": 47,
          "metadata": {},
          "output_type": "execute_result"
        }
      ],
      "source": [
        "data_1_Minute_14.columns"
      ]
    },
    {
      "cell_type": "code",
      "execution_count": null,
      "id": "6tt3Gss_mlus",
      "metadata": {
        "colab": {
          "base_uri": "https://localhost:8080/"
        },
        "id": "6tt3Gss_mlus",
        "outputId": "5214a186-4820-4271-dd16-9c09717b560d"
      },
      "outputs": [
        {
          "data": {
            "text/plain": [
              "Datetime                          0\n",
              "Open                              0\n",
              "High                              0\n",
              "Low                               0\n",
              "Close                             0\n",
              "Adj Close                         0\n",
              "Volume                            0\n",
              "Difference                        0\n",
              "year                              0\n",
              "month                             0\n",
              "10SMA                             0\n",
              "21SMA                             5\n",
              "40SMA                            24\n",
              "200SMA                          184\n",
              "EMA                               0\n",
              "TP                                0\n",
              "std                               4\n",
              "MA-TP                             4\n",
              "BOLINGER BRANDS-UPPER VALUE       4\n",
              "BOLINGER BRANDS- LOWER VALUE      4\n",
              "RSI                               0\n",
              "WMA                               0\n",
              "TR                                0\n",
              "ATR                               0\n",
              "plus_di                           0\n",
              "minus_di                          0\n",
              "adx                               0\n",
              "MACD                              0\n",
              "14-high                           0\n",
              "14-low                            0\n",
              "%K                                0\n",
              "%D                                0\n",
              "dtype: int64"
            ]
          },
          "execution_count": 48,
          "metadata": {},
          "output_type": "execute_result"
        }
      ],
      "source": [
        "data_1_Minute_14.isnull().sum()"
      ]
    },
    {
      "cell_type": "code",
      "execution_count": null,
      "id": "wFmszlRWeNA7",
      "metadata": {
        "colab": {
          "base_uri": "https://localhost:8080/"
        },
        "id": "wFmszlRWeNA7",
        "outputId": "d48b68d6-5070-485c-9d32-e628ed0cdd97"
      },
      "outputs": [
        {
          "name": "stderr",
          "output_type": "stream",
          "text": [
            "/usr/local/lib/python3.7/dist-packages/pandas/core/frame.py:4913: SettingWithCopyWarning: \n",
            "A value is trying to be set on a copy of a slice from a DataFrame\n",
            "\n",
            "See the caveats in the documentation: https://pandas.pydata.org/pandas-docs/stable/user_guide/indexing.html#returning-a-view-versus-a-copy\n",
            "  errors=errors,\n"
          ]
        }
      ],
      "source": [
        "data_1_Minute_14.drop([\"40SMA\", \"200SMA\"], axis = 1, inplace = True)"
      ]
    },
    {
      "cell_type": "code",
      "execution_count": null,
      "id": "SdWCYF8tmyee",
      "metadata": {
        "id": "SdWCYF8tmyee"
      },
      "outputs": [],
      "source": [
        "data_1_Minute_14 = data_1_Minute_14.fillna(0)"
      ]
    },
    {
      "cell_type": "code",
      "execution_count": null,
      "id": "EeLxs2hHrirp",
      "metadata": {
        "colab": {
          "base_uri": "https://localhost:8080/"
        },
        "id": "EeLxs2hHrirp",
        "outputId": "49eef2cf-4973-468b-a71a-bc69ef62e285"
      },
      "outputs": [
        {
          "data": {
            "text/plain": [
              "Index(['Datetime', 'Open', 'High', 'Low', 'Close', 'Adj Close', 'Volume',\n",
              "       'Difference', 'year', 'month', '10SMA', '21SMA', 'EMA', 'TP', 'std',\n",
              "       'MA-TP', 'BOLINGER BRANDS-UPPER VALUE', 'BOLINGER BRANDS- LOWER VALUE',\n",
              "       'RSI', 'WMA', 'TR', 'ATR', 'plus_di', 'minus_di', 'adx', 'MACD',\n",
              "       '14-high', '14-low', '%K', '%D'],\n",
              "      dtype='object')"
            ]
          },
          "execution_count": 51,
          "metadata": {},
          "output_type": "execute_result"
        }
      ],
      "source": [
        "data_1_Minute_14.columns"
      ]
    },
    {
      "cell_type": "markdown",
      "id": "I6n0rYjdMre7",
      "metadata": {
        "id": "I6n0rYjdMre7"
      },
      "source": [
        "## **Implementation of the Next One Minute Interval Prediction with  Technical Indicators**"
      ]
    },
    {
      "cell_type": "markdown",
      "id": "7F3tVk8wahXV",
      "metadata": {
        "id": "7F3tVk8wahXV"
      },
      "source": [
        "## **CHOOSING ONLY THE REQUIRED COLUMNS**"
      ]
    },
    {
      "cell_type": "code",
      "execution_count": null,
      "id": "I-Al3Cs5bw1_",
      "metadata": {
        "id": "I-Al3Cs5bw1_"
      },
      "outputs": [],
      "source": [
        "data_1_Minute_14_ = data_1_Minute_14[['Datetime', 'Open', 'High', 'Low', 'Close', 'Volume', 'Difference',\n",
        "       '10SMA', '21SMA', 'EMA', 'BOLINGER BRANDS-UPPER VALUE',\n",
        "       'BOLINGER BRANDS- LOWER VALUE', 'RSI', 'WMA', 'ATR', 'adx', 'MACD',  '%K', '%D']]"
      ]
    },
    {
      "cell_type": "code",
      "execution_count": null,
      "id": "8rv-kpfTMtBY",
      "metadata": {
        "id": "8rv-kpfTMtBY"
      },
      "outputs": [],
      "source": [
        "data_1_Minute_14 = data_1_Minute_14[['Open', 'High', 'Low', 'Close', 'Volume', 'Difference',\n",
        "       '10SMA', '21SMA',  'EMA', 'BOLINGER BRANDS-UPPER VALUE',\n",
        "       'BOLINGER BRANDS- LOWER VALUE', 'RSI', 'WMA', 'ATR', 'adx', 'MACD',  '%K', '%D']]"
      ]
    },
    {
      "cell_type": "code",
      "execution_count": null,
      "id": "DUcS5X24ciWW",
      "metadata": {
        "id": "DUcS5X24ciWW"
      },
      "outputs": [],
      "source": [
        "df_for_training = data_1_Minute_14[['Open', 'High', 'Low', 'Close', 'Volume', 'Difference',\n",
        "        '10SMA', '21SMA', 'EMA', 'BOLINGER BRANDS-UPPER VALUE',\n",
        "       'BOLINGER BRANDS- LOWER VALUE', 'RSI', 'WMA', 'ATR', 'adx', 'MACD',  '%K', '%D']].astype('float')"
      ]
    },
    {
      "cell_type": "code",
      "execution_count": null,
      "id": "fvafGM8EMtEM",
      "metadata": {
        "id": "fvafGM8EMtEM"
      },
      "outputs": [],
      "source": [
        "data_1_Minute_14 = data_1_Minute_14.fillna(0)"
      ]
    },
    {
      "cell_type": "code",
      "execution_count": null,
      "id": "ultul0qWNA6M",
      "metadata": {
        "colab": {
          "base_uri": "https://localhost:8080/"
        },
        "id": "ultul0qWNA6M",
        "outputId": "aa337101-a303-4988-afba-c938be5db0fd"
      },
      "outputs": [
        {
          "data": {
            "text/plain": [
              "(2711, 18)"
            ]
          },
          "execution_count": 56,
          "metadata": {},
          "output_type": "execute_result"
        }
      ],
      "source": [
        "\n",
        "data_1_Minute_14.shape"
      ]
    },
    {
      "cell_type": "code",
      "execution_count": null,
      "id": "Vtp07NFoP4-d",
      "metadata": {
        "colab": {
          "base_uri": "https://localhost:8080/"
        },
        "id": "Vtp07NFoP4-d",
        "outputId": "3afb2428-c530-4ca3-83f0-6db818cb0b34"
      },
      "outputs": [
        {
          "data": {
            "text/plain": [
              "Open                            0\n",
              "High                            0\n",
              "Low                             0\n",
              "Close                           0\n",
              "Volume                          0\n",
              "Difference                      0\n",
              "10SMA                           0\n",
              "21SMA                           0\n",
              "EMA                             0\n",
              "BOLINGER BRANDS-UPPER VALUE     0\n",
              "BOLINGER BRANDS- LOWER VALUE    0\n",
              "RSI                             0\n",
              "WMA                             0\n",
              "ATR                             0\n",
              "adx                             0\n",
              "MACD                            0\n",
              "%K                              0\n",
              "%D                              0\n",
              "dtype: int64"
            ]
          },
          "execution_count": 57,
          "metadata": {},
          "output_type": "execute_result"
        }
      ],
      "source": [
        "data_1_Minute_14.isnull().sum()"
      ]
    },
    {
      "cell_type": "code",
      "execution_count": null,
      "id": "QZAOhwRJP79z",
      "metadata": {
        "colab": {
          "base_uri": "https://localhost:8080/"
        },
        "id": "QZAOhwRJP79z",
        "outputId": "876accc3-7b7a-4865-d589-d0ef29263bd8"
      },
      "outputs": [
        {
          "data": {
            "text/plain": [
              "Open                            float64\n",
              "High                            float64\n",
              "Low                             float64\n",
              "Close                           float64\n",
              "Volume                            int64\n",
              "Difference                      float64\n",
              "10SMA                           float64\n",
              "21SMA                           float64\n",
              "EMA                             float64\n",
              "BOLINGER BRANDS-UPPER VALUE     float64\n",
              "BOLINGER BRANDS- LOWER VALUE    float64\n",
              "RSI                             float64\n",
              "WMA                             float64\n",
              "ATR                             float64\n",
              "adx                             float64\n",
              "MACD                            float64\n",
              "%K                              float64\n",
              "%D                              float64\n",
              "dtype: object"
            ]
          },
          "execution_count": 58,
          "metadata": {},
          "output_type": "execute_result"
        }
      ],
      "source": [
        "data_1_Minute_14.dtypes"
      ]
    },
    {
      "cell_type": "code",
      "execution_count": null,
      "id": "D_KK4bOLNm7Z",
      "metadata": {
        "colab": {
          "base_uri": "https://localhost:8080/",
          "height": 197
        },
        "id": "D_KK4bOLNm7Z",
        "outputId": "b9c636b5-5a6d-42b7-cc9f-01ffa1ca7757"
      },
      "outputs": [
        {
          "data": {
            "text/html": [
              "\n",
              "  <div id=\"df-6c1136e8-b25a-4cd3-87b9-28d8cfbf04ec\">\n",
              "    <div class=\"colab-df-container\">\n",
              "      <div>\n",
              "<style scoped>\n",
              "    .dataframe tbody tr th:only-of-type {\n",
              "        vertical-align: middle;\n",
              "    }\n",
              "\n",
              "    .dataframe tbody tr th {\n",
              "        vertical-align: top;\n",
              "    }\n",
              "\n",
              "    .dataframe thead th {\n",
              "        text-align: right;\n",
              "    }\n",
              "</style>\n",
              "<table border=\"1\" class=\"dataframe\">\n",
              "  <thead>\n",
              "    <tr style=\"text-align: right;\">\n",
              "      <th></th>\n",
              "      <th>Open</th>\n",
              "      <th>High</th>\n",
              "      <th>Low</th>\n",
              "      <th>Close</th>\n",
              "      <th>Volume</th>\n",
              "      <th>Difference</th>\n",
              "      <th>10SMA</th>\n",
              "      <th>21SMA</th>\n",
              "      <th>EMA</th>\n",
              "      <th>BOLINGER BRANDS-UPPER VALUE</th>\n",
              "      <th>BOLINGER BRANDS- LOWER VALUE</th>\n",
              "      <th>RSI</th>\n",
              "      <th>WMA</th>\n",
              "      <th>ATR</th>\n",
              "      <th>adx</th>\n",
              "      <th>MACD</th>\n",
              "      <th>%K</th>\n",
              "      <th>%D</th>\n",
              "    </tr>\n",
              "  </thead>\n",
              "  <tbody>\n",
              "    <tr>\n",
              "      <th>15</th>\n",
              "      <td>31269.050781</td>\n",
              "      <td>31278.699219</td>\n",
              "      <td>31266.730469</td>\n",
              "      <td>31277.929688</td>\n",
              "      <td>994179</td>\n",
              "      <td>8.878906</td>\n",
              "      <td>31208.657087</td>\n",
              "      <td>0.0</td>\n",
              "      <td>31231.301774</td>\n",
              "      <td>0.0</td>\n",
              "      <td>0.0</td>\n",
              "      <td>97.666555</td>\n",
              "      <td>171888.884766</td>\n",
              "      <td>23.182541</td>\n",
              "      <td>75.520691</td>\n",
              "      <td>41.038824</td>\n",
              "      <td>99.565285</td>\n",
              "      <td>96.408336</td>\n",
              "    </tr>\n",
              "  </tbody>\n",
              "</table>\n",
              "</div>\n",
              "      <button class=\"colab-df-convert\" onclick=\"convertToInteractive('df-6c1136e8-b25a-4cd3-87b9-28d8cfbf04ec')\"\n",
              "              title=\"Convert this dataframe to an interactive table.\"\n",
              "              style=\"display:none;\">\n",
              "        \n",
              "  <svg xmlns=\"http://www.w3.org/2000/svg\" height=\"24px\"viewBox=\"0 0 24 24\"\n",
              "       width=\"24px\">\n",
              "    <path d=\"M0 0h24v24H0V0z\" fill=\"none\"/>\n",
              "    <path d=\"M18.56 5.44l.94 2.06.94-2.06 2.06-.94-2.06-.94-.94-2.06-.94 2.06-2.06.94zm-11 1L8.5 8.5l.94-2.06 2.06-.94-2.06-.94L8.5 2.5l-.94 2.06-2.06.94zm10 10l.94 2.06.94-2.06 2.06-.94-2.06-.94-.94-2.06-.94 2.06-2.06.94z\"/><path d=\"M17.41 7.96l-1.37-1.37c-.4-.4-.92-.59-1.43-.59-.52 0-1.04.2-1.43.59L10.3 9.45l-7.72 7.72c-.78.78-.78 2.05 0 2.83L4 21.41c.39.39.9.59 1.41.59.51 0 1.02-.2 1.41-.59l7.78-7.78 2.81-2.81c.8-.78.8-2.07 0-2.86zM5.41 20L4 18.59l7.72-7.72 1.47 1.35L5.41 20z\"/>\n",
              "  </svg>\n",
              "      </button>\n",
              "      \n",
              "  <style>\n",
              "    .colab-df-container {\n",
              "      display:flex;\n",
              "      flex-wrap:wrap;\n",
              "      gap: 12px;\n",
              "    }\n",
              "\n",
              "    .colab-df-convert {\n",
              "      background-color: #E8F0FE;\n",
              "      border: none;\n",
              "      border-radius: 50%;\n",
              "      cursor: pointer;\n",
              "      display: none;\n",
              "      fill: #1967D2;\n",
              "      height: 32px;\n",
              "      padding: 0 0 0 0;\n",
              "      width: 32px;\n",
              "    }\n",
              "\n",
              "    .colab-df-convert:hover {\n",
              "      background-color: #E2EBFA;\n",
              "      box-shadow: 0px 1px 2px rgba(60, 64, 67, 0.3), 0px 1px 3px 1px rgba(60, 64, 67, 0.15);\n",
              "      fill: #174EA6;\n",
              "    }\n",
              "\n",
              "    [theme=dark] .colab-df-convert {\n",
              "      background-color: #3B4455;\n",
              "      fill: #D2E3FC;\n",
              "    }\n",
              "\n",
              "    [theme=dark] .colab-df-convert:hover {\n",
              "      background-color: #434B5C;\n",
              "      box-shadow: 0px 1px 3px 1px rgba(0, 0, 0, 0.15);\n",
              "      filter: drop-shadow(0px 1px 2px rgba(0, 0, 0, 0.3));\n",
              "      fill: #FFFFFF;\n",
              "    }\n",
              "  </style>\n",
              "\n",
              "      <script>\n",
              "        const buttonEl =\n",
              "          document.querySelector('#df-6c1136e8-b25a-4cd3-87b9-28d8cfbf04ec button.colab-df-convert');\n",
              "        buttonEl.style.display =\n",
              "          google.colab.kernel.accessAllowed ? 'block' : 'none';\n",
              "\n",
              "        async function convertToInteractive(key) {\n",
              "          const element = document.querySelector('#df-6c1136e8-b25a-4cd3-87b9-28d8cfbf04ec');\n",
              "          const dataTable =\n",
              "            await google.colab.kernel.invokeFunction('convertToInteractive',\n",
              "                                                     [key], {});\n",
              "          if (!dataTable) return;\n",
              "\n",
              "          const docLinkHtml = 'Like what you see? Visit the ' +\n",
              "            '<a target=\"_blank\" href=https://colab.research.google.com/notebooks/data_table.ipynb>data table notebook</a>'\n",
              "            + ' to learn more about interactive tables.';\n",
              "          element.innerHTML = '';\n",
              "          dataTable['output_type'] = 'display_data';\n",
              "          await google.colab.output.renderOutput(dataTable, element);\n",
              "          const docLink = document.createElement('div');\n",
              "          docLink.innerHTML = docLinkHtml;\n",
              "          element.appendChild(docLink);\n",
              "        }\n",
              "      </script>\n",
              "    </div>\n",
              "  </div>\n",
              "  "
            ],
            "text/plain": [
              "            Open          High           Low         Close  Volume  \\\n",
              "15  31269.050781  31278.699219  31266.730469  31277.929688  994179   \n",
              "\n",
              "    Difference         10SMA  21SMA           EMA  \\\n",
              "15    8.878906  31208.657087    0.0  31231.301774   \n",
              "\n",
              "    BOLINGER BRANDS-UPPER VALUE  BOLINGER BRANDS- LOWER VALUE        RSI  \\\n",
              "15                          0.0                           0.0  97.666555   \n",
              "\n",
              "              WMA        ATR        adx       MACD         %K         %D  \n",
              "15  171888.884766  23.182541  75.520691  41.038824  99.565285  96.408336  "
            ]
          },
          "execution_count": 59,
          "metadata": {},
          "output_type": "execute_result"
        }
      ],
      "source": [
        "data_1_Minute_14.head(1)"
      ]
    },
    {
      "cell_type": "code",
      "execution_count": null,
      "id": "r9ToqDUDeQHp",
      "metadata": {
        "colab": {
          "base_uri": "https://localhost:8080/"
        },
        "id": "r9ToqDUDeQHp",
        "outputId": "a2682048-2cf1-4d7f-f568-1ea5ee2fbdde"
      },
      "outputs": [
        {
          "data": {
            "text/plain": [
              "array([[0.6208315 ],\n",
              "       [0.62825033],\n",
              "       [0.53516233],\n",
              "       ...,\n",
              "       [0.59387395],\n",
              "       [0.54434406],\n",
              "       [0.5874394 ]])"
            ]
          },
          "execution_count": 60,
          "metadata": {},
          "output_type": "execute_result"
        }
      ],
      "source": [
        "scaler_dataframe = MinMaxScaler(feature_range=(0,1))\n",
        "scaler_dataframe.fit_transform(np.array(data_1_Minute_14[\"Difference\"]).reshape(-1, 1))"
      ]
    },
    {
      "cell_type": "markdown",
      "id": "nrMkz3Swas6p",
      "metadata": {
        "id": "nrMkz3Swas6p"
      },
      "source": [
        "## **CONVERTING THE DATA FRAME INTO AN ARRAY**"
      ]
    },
    {
      "cell_type": "code",
      "execution_count": null,
      "id": "gLjiyz9dNA9p",
      "metadata": {
        "id": "gLjiyz9dNA9p"
      },
      "outputs": [],
      "source": [
        "values = data_1_Minute_14.values"
      ]
    },
    {
      "cell_type": "code",
      "execution_count": null,
      "id": "C2k0yUlINMSp",
      "metadata": {
        "id": "C2k0yUlINMSp"
      },
      "outputs": [],
      "source": [
        "values = values.astype('float32')"
      ]
    },
    {
      "cell_type": "code",
      "execution_count": null,
      "id": "AawzfCxsNMVV",
      "metadata": {
        "colab": {
          "base_uri": "https://localhost:8080/"
        },
        "id": "AawzfCxsNMVV",
        "outputId": "5434a2a8-a572-439b-d8a8-9e99eb86eae1"
      },
      "outputs": [
        {
          "data": {
            "text/plain": [
              "array([[3.1269051e+04, 3.1278699e+04, 3.1266730e+04, ..., 4.1038826e+01,\n",
              "        9.9565285e+01, 9.6408333e+01],\n",
              "       [3.1277949e+04, 3.1289461e+04, 3.1273430e+04, ..., 4.2928608e+01,\n",
              "        9.9648445e+01, 9.8648338e+01],\n",
              "       [3.1289381e+04, 3.1290010e+04, 3.1269340e+04, ..., 4.2857407e+01,\n",
              "        9.1576263e+01, 9.6930000e+01],\n",
              "       ...,\n",
              "       [3.0967199e+04, 3.0968910e+04, 3.0958439e+04, ..., 1.2167431e+01,\n",
              "        5.4578907e+01, 5.8514793e+01],\n",
              "       [3.0972090e+04, 3.0980070e+04, 3.0960631e+04, ..., 1.1164341e+01,\n",
              "        4.6538315e+01, 5.1237988e+01],\n",
              "       [3.0961820e+04, 3.0961820e+04, 3.0961820e+04, ..., 1.0346100e+01,\n",
              "        4.7693474e+01, 4.9603565e+01]], dtype=float32)"
            ]
          },
          "execution_count": 63,
          "metadata": {},
          "output_type": "execute_result"
        }
      ],
      "source": [
        "values"
      ]
    },
    {
      "cell_type": "code",
      "execution_count": null,
      "id": "_luLSOG7QTW9",
      "metadata": {
        "colab": {
          "base_uri": "https://localhost:8080/"
        },
        "id": "_luLSOG7QTW9",
        "outputId": "af7dd272-bafa-4845-8dd9-c71efcedddc8"
      },
      "outputs": [
        {
          "data": {
            "text/plain": [
              "2711"
            ]
          },
          "execution_count": 64,
          "metadata": {},
          "output_type": "execute_result"
        }
      ],
      "source": [
        "len(values)"
      ]
    },
    {
      "cell_type": "code",
      "execution_count": null,
      "id": "aqOCcex21lIv",
      "metadata": {
        "id": "aqOCcex21lIv"
      },
      "outputs": [],
      "source": [
        "train_dates = pd.to_datetime(data_1_Minute_14_['Datetime'])"
      ]
    },
    {
      "cell_type": "code",
      "execution_count": null,
      "id": "3fIOYL_Xvvf9",
      "metadata": {
        "colab": {
          "base_uri": "https://localhost:8080/"
        },
        "id": "3fIOYL_Xvvf9",
        "outputId": "b3c8f8ed-e08d-4269-c898-6428add4501b"
      },
      "outputs": [
        {
          "data": {
            "text/plain": [
              "18"
            ]
          },
          "execution_count": 66,
          "metadata": {},
          "output_type": "execute_result"
        }
      ],
      "source": [
        "len(data_1_Minute_14.columns)"
      ]
    },
    {
      "cell_type": "code",
      "execution_count": null,
      "id": "qeXO5xB6rp5L",
      "metadata": {
        "colab": {
          "base_uri": "https://localhost:8080/",
          "height": 273
        },
        "id": "qeXO5xB6rp5L",
        "outputId": "a6360607-0954-41b3-fbe9-abbefbcc2863"
      },
      "outputs": [
        {
          "data": {
            "image/png": "[encoded data removed]",
            "text/plain": [
              "<Figure size 432x288 with 11 Axes>"
            ]
          },
          "metadata": {
            "needs_background": "light"
          },
          "output_type": "display_data"
        }
      ],
      "source": [
        "values = data_1_Minute_14.values\n",
        "# specify columns to plot\n",
        "groups = [0, 1, 2, 3, 4, 5, 6, 7, 8, 9, 10]\n",
        "i = 1\n",
        "# plot each column\n",
        "pyplot.figure()\n",
        "for group in groups:\n",
        "\tpyplot.subplot(len(groups), 1, i)\n",
        "\tpyplot.plot(values[:, group])\n",
        "\tpyplot.title(data_1_Minute_14.columns[group], y=0.5, loc='right')\n",
        "\ti += 1\n",
        "pyplot.show()"
      ]
    },
    {
      "cell_type": "code",
      "execution_count": null,
      "id": "CZkQOYQSvFEU",
      "metadata": {
        "id": "CZkQOYQSvFEU"
      },
      "outputs": [],
      "source": [
        "# convert series to supervised learning\n",
        "def series_to_supervised(data, n_in=1, n_out=1, dropnan=True):\n",
        "\tn_vars = 1 if type(data) is list else data.shape[1]\n",
        "\tdf = DataFrame(data)\n",
        "\tcols, names = list(), list()\n",
        "\t# input sequence (t-n, ... t-1)\n",
        "\tfor i in range(n_in, 0, -1):\n",
        "\t\tcols.append(df.shift(i))\n",
        "\t\tnames += [('var%d(t-%d)' % (j+1, i)) for j in range(n_vars)]\n",
        "\t# forecast sequence (t, t+1, ... t+n)\n",
        "\tfor i in range(0, n_out):\n",
        "\t\tcols.append(df.shift(-i))\n",
        "\t\tif i == 0:\n",
        "\t\t\tnames += [('var%d(t)' % (j+1)) for j in range(n_vars)]\n",
        "\t\telse:\n",
        "\t\t\tnames += [('var%d(t+%d)' % (j+1, i)) for j in range(n_vars)]\n",
        "\t# put it all together\n",
        "\tagg = concat(cols, axis=1)\n",
        "\tagg.columns = names\n",
        "\t# drop rows with NaN values\n",
        "\tif dropnan:\n",
        "\t\tagg.dropna(inplace=True)\n",
        "\treturn agg"
      ]
    },
    {
      "cell_type": "code",
      "execution_count": null,
      "id": "fXpoZEECwNRW",
      "metadata": {
        "id": "fXpoZEECwNRW"
      },
      "outputs": [],
      "source": [
        "scaler = MinMaxScaler(feature_range=(0,1))\n",
        "scaled = scaler.fit_transform(values)"
      ]
    },
    {
      "cell_type": "code",
      "execution_count": null,
      "id": "TP9Ta713wNT_",
      "metadata": {
        "id": "TP9Ta713wNT_"
      },
      "outputs": [],
      "source": [
        "reframed = series_to_supervised(scaled, 1, 1)"
      ]
    },
    {
      "cell_type": "code",
      "execution_count": null,
      "id": "t4Io0vNPwNWs",
      "metadata": {
        "colab": {
          "base_uri": "https://localhost:8080/"
        },
        "id": "t4Io0vNPwNWs",
        "outputId": "592dd2a8-bf62-4908-8b9f-797f596d23e9"
      },
      "outputs": [
        {
          "data": {
            "text/plain": [
              "(2710, 36)"
            ]
          },
          "execution_count": 71,
          "metadata": {},
          "output_type": "execute_result"
        }
      ],
      "source": [
        "reframed.shape"
      ]
    },
    {
      "cell_type": "code",
      "execution_count": null,
      "id": "a0TOA7yKnyi9",
      "metadata": {
        "colab": {
          "base_uri": "https://localhost:8080/",
          "height": 317
        },
        "id": "a0TOA7yKnyi9",
        "outputId": "59da8b9c-db9c-40cc-c7aa-667bdba3985c"
      },
      "outputs": [
        {
          "data": {
            "text/html": [
              "\n",
              "  <div id=\"df-55c60f4a-cf7c-4447-a257-ba23016c6c21\">\n",
              "    <div class=\"colab-df-container\">\n",
              "      <div>\n",
              "<style scoped>\n",
              "    .dataframe tbody tr th:only-of-type {\n",
              "        vertical-align: middle;\n",
              "    }\n",
              "\n",
              "    .dataframe tbody tr th {\n",
              "        vertical-align: top;\n",
              "    }\n",
              "\n",
              "    .dataframe thead th {\n",
              "        text-align: right;\n",
              "    }\n",
              "</style>\n",
              "<table border=\"1\" class=\"dataframe\">\n",
              "  <thead>\n",
              "    <tr style=\"text-align: right;\">\n",
              "      <th></th>\n",
              "      <th>var1(t-1)</th>\n",
              "      <th>var2(t-1)</th>\n",
              "      <th>var3(t-1)</th>\n",
              "      <th>var4(t-1)</th>\n",
              "      <th>var5(t-1)</th>\n",
              "      <th>var6(t-1)</th>\n",
              "      <th>var7(t-1)</th>\n",
              "      <th>var8(t-1)</th>\n",
              "      <th>var9(t-1)</th>\n",
              "      <th>var10(t-1)</th>\n",
              "      <th>...</th>\n",
              "      <th>var9(t)</th>\n",
              "      <th>var10(t)</th>\n",
              "      <th>var11(t)</th>\n",
              "      <th>var12(t)</th>\n",
              "      <th>var13(t)</th>\n",
              "      <th>var14(t)</th>\n",
              "      <th>var15(t)</th>\n",
              "      <th>var16(t)</th>\n",
              "      <th>var17(t)</th>\n",
              "      <th>var18(t)</th>\n",
              "    </tr>\n",
              "  </thead>\n",
              "  <tbody>\n",
              "    <tr>\n",
              "      <th>1</th>\n",
              "      <td>0.238028</td>\n",
              "      <td>0.237327</td>\n",
              "      <td>0.239383</td>\n",
              "      <td>0.243789</td>\n",
              "      <td>0.065077</td>\n",
              "      <td>0.620831</td>\n",
              "      <td>0.194918</td>\n",
              "      <td>0.0</td>\n",
              "      <td>0.207334</td>\n",
              "      <td>0.000000</td>\n",
              "      <td>...</td>\n",
              "      <td>0.212694</td>\n",
              "      <td>0.000000</td>\n",
              "      <td>0.000000</td>\n",
              "      <td>1.000000</td>\n",
              "      <td>0.228459</td>\n",
              "      <td>0.192948</td>\n",
              "      <td>0.988709</td>\n",
              "      <td>0.833892</td>\n",
              "      <td>0.996484</td>\n",
              "      <td>0.986427</td>\n",
              "    </tr>\n",
              "    <tr>\n",
              "      <th>2</th>\n",
              "      <td>0.243541</td>\n",
              "      <td>0.244025</td>\n",
              "      <td>0.243552</td>\n",
              "      <td>0.250531</td>\n",
              "      <td>0.070203</td>\n",
              "      <td>0.628250</td>\n",
              "      <td>0.202390</td>\n",
              "      <td>0.0</td>\n",
              "      <td>0.212694</td>\n",
              "      <td>0.000000</td>\n",
              "      <td>...</td>\n",
              "      <td>0.215987</td>\n",
              "      <td>0.000000</td>\n",
              "      <td>0.000000</td>\n",
              "      <td>0.980976</td>\n",
              "      <td>0.231689</td>\n",
              "      <td>0.190429</td>\n",
              "      <td>1.000000</td>\n",
              "      <td>0.833603</td>\n",
              "      <td>0.915763</td>\n",
              "      <td>0.969171</td>\n",
              "    </tr>\n",
              "    <tr>\n",
              "      <th>3</th>\n",
              "      <td>0.250623</td>\n",
              "      <td>0.244367</td>\n",
              "      <td>0.241007</td>\n",
              "      <td>0.242270</td>\n",
              "      <td>0.055570</td>\n",
              "      <td>0.535162</td>\n",
              "      <td>0.209339</td>\n",
              "      <td>0.0</td>\n",
              "      <td>0.215987</td>\n",
              "      <td>0.000000</td>\n",
              "      <td>...</td>\n",
              "      <td>0.218510</td>\n",
              "      <td>0.000000</td>\n",
              "      <td>0.000000</td>\n",
              "      <td>0.977575</td>\n",
              "      <td>0.233752</td>\n",
              "      <td>0.173934</td>\n",
              "      <td>0.988515</td>\n",
              "      <td>0.830462</td>\n",
              "      <td>0.883030</td>\n",
              "      <td>0.931473</td>\n",
              "    </tr>\n",
              "    <tr>\n",
              "      <th>4</th>\n",
              "      <td>0.241992</td>\n",
              "      <td>0.239375</td>\n",
              "      <td>0.241281</td>\n",
              "      <td>0.240471</td>\n",
              "      <td>0.048565</td>\n",
              "      <td>0.576649</td>\n",
              "      <td>0.215332</td>\n",
              "      <td>0.0</td>\n",
              "      <td>0.218510</td>\n",
              "      <td>0.000000</td>\n",
              "      <td>...</td>\n",
              "      <td>0.220180</td>\n",
              "      <td>0.958383</td>\n",
              "      <td>0.958186</td>\n",
              "      <td>0.970775</td>\n",
              "      <td>0.234457</td>\n",
              "      <td>0.152136</td>\n",
              "      <td>0.979698</td>\n",
              "      <td>0.824366</td>\n",
              "      <td>0.829382</td>\n",
              "      <td>0.875538</td>\n",
              "    </tr>\n",
              "    <tr>\n",
              "      <th>5</th>\n",
              "      <td>0.240902</td>\n",
              "      <td>0.234209</td>\n",
              "      <td>0.238997</td>\n",
              "      <td>0.237221</td>\n",
              "      <td>0.044774</td>\n",
              "      <td>0.563560</td>\n",
              "      <td>0.220563</td>\n",
              "      <td>0.0</td>\n",
              "      <td>0.220180</td>\n",
              "      <td>0.958383</td>\n",
              "      <td>...</td>\n",
              "      <td>0.219505</td>\n",
              "      <td>0.958369</td>\n",
              "      <td>0.958617</td>\n",
              "      <td>0.938062</td>\n",
              "      <td>0.231994</td>\n",
              "      <td>0.163355</td>\n",
              "      <td>0.954175</td>\n",
              "      <td>0.810145</td>\n",
              "      <td>0.532552</td>\n",
              "      <td>0.747266</td>\n",
              "    </tr>\n",
              "  </tbody>\n",
              "</table>\n",
              "<p>5 rows × 36 columns</p>\n",
              "</div>\n",
              "      <button class=\"colab-df-convert\" onclick=\"convertToInteractive('df-55c60f4a-cf7c-4447-a257-ba23016c6c21')\"\n",
              "              title=\"Convert this dataframe to an interactive table.\"\n",
              "              style=\"display:none;\">\n",
              "        \n",
              "  <svg xmlns=\"http://www.w3.org/2000/svg\" height=\"24px\"viewBox=\"0 0 24 24\"\n",
              "       width=\"24px\">\n",
              "    <path d=\"M0 0h24v24H0V0z\" fill=\"none\"/>\n",
              "    <path d=\"M18.56 5.44l.94 2.06.94-2.06 2.06-.94-2.06-.94-.94-2.06-.94 2.06-2.06.94zm-11 1L8.5 8.5l.94-2.06 2.06-.94-2.06-.94L8.5 2.5l-.94 2.06-2.06.94zm10 10l.94 2.06.94-2.06 2.06-.94-2.06-.94-.94-2.06-.94 2.06-2.06.94z\"/><path d=\"M17.41 7.96l-1.37-1.37c-.4-.4-.92-.59-1.43-.59-.52 0-1.04.2-1.43.59L10.3 9.45l-7.72 7.72c-.78.78-.78 2.05 0 2.83L4 21.41c.39.39.9.59 1.41.59.51 0 1.02-.2 1.41-.59l7.78-7.78 2.81-2.81c.8-.78.8-2.07 0-2.86zM5.41 20L4 18.59l7.72-7.72 1.47 1.35L5.41 20z\"/>\n",
              "  </svg>\n",
              "      </button>\n",
              "      \n",
              "  <style>\n",
              "    .colab-df-container {\n",
              "      display:flex;\n",
              "      flex-wrap:wrap;\n",
              "      gap: 12px;\n",
              "    }\n",
              "\n",
              "    .colab-df-convert {\n",
              "      background-color: #E8F0FE;\n",
              "      border: none;\n",
              "      border-radius: 50%;\n",
              "      cursor: pointer;\n",
              "      display: none;\n",
              "      fill: #1967D2;\n",
              "      height: 32px;\n",
              "      padding: 0 0 0 0;\n",
              "      width: 32px;\n",
              "    }\n",
              "\n",
              "    .colab-df-convert:hover {\n",
              "      background-color: #E2EBFA;\n",
              "      box-shadow: 0px 1px 2px rgba(60, 64, 67, 0.3), 0px 1px 3px 1px rgba(60, 64, 67, 0.15);\n",
              "      fill: #174EA6;\n",
              "    }\n",
              "\n",
              "    [theme=dark] .colab-df-convert {\n",
              "      background-color: #3B4455;\n",
              "      fill: #D2E3FC;\n",
              "    }\n",
              "\n",
              "    [theme=dark] .colab-df-convert:hover {\n",
              "      background-color: #434B5C;\n",
              "      box-shadow: 0px 1px 3px 1px rgba(0, 0, 0, 0.15);\n",
              "      filter: drop-shadow(0px 1px 2px rgba(0, 0, 0, 0.3));\n",
              "      fill: #FFFFFF;\n",
              "    }\n",
              "  </style>\n",
              "\n",
              "      <script>\n",
              "        const buttonEl =\n",
              "          document.querySelector('#df-55c60f4a-cf7c-4447-a257-ba23016c6c21 button.colab-df-convert');\n",
              "        buttonEl.style.display =\n",
              "          google.colab.kernel.accessAllowed ? 'block' : 'none';\n",
              "\n",
              "        async function convertToInteractive(key) {\n",
              "          const element = document.querySelector('#df-55c60f4a-cf7c-4447-a257-ba23016c6c21');\n",
              "          const dataTable =\n",
              "            await google.colab.kernel.invokeFunction('convertToInteractive',\n",
              "                                                     [key], {});\n",
              "          if (!dataTable) return;\n",
              "\n",
              "          const docLinkHtml = 'Like what you see? Visit the ' +\n",
              "            '<a target=\"_blank\" href=https://colab.research.google.com/notebooks/data_table.ipynb>data table notebook</a>'\n",
              "            + ' to learn more about interactive tables.';\n",
              "          element.innerHTML = '';\n",
              "          dataTable['output_type'] = 'display_data';\n",
              "          await google.colab.output.renderOutput(dataTable, element);\n",
              "          const docLink = document.createElement('div');\n",
              "          docLink.innerHTML = docLinkHtml;\n",
              "          element.appendChild(docLink);\n",
              "        }\n",
              "      </script>\n",
              "    </div>\n",
              "  </div>\n",
              "  "
            ],
            "text/plain": [
              "   var1(t-1)  var2(t-1)  var3(t-1)  var4(t-1)  var5(t-1)  var6(t-1)  \\\n",
              "1   0.238028   0.237327   0.239383   0.243789   0.065077   0.620831   \n",
              "2   0.243541   0.244025   0.243552   0.250531   0.070203   0.628250   \n",
              "3   0.250623   0.244367   0.241007   0.242270   0.055570   0.535162   \n",
              "4   0.241992   0.239375   0.241281   0.240471   0.048565   0.576649   \n",
              "5   0.240902   0.234209   0.238997   0.237221   0.044774   0.563560   \n",
              "\n",
              "   var7(t-1)  var8(t-1)  var9(t-1)  var10(t-1)  ...   var9(t)  var10(t)  \\\n",
              "1   0.194918        0.0   0.207334    0.000000  ...  0.212694  0.000000   \n",
              "2   0.202390        0.0   0.212694    0.000000  ...  0.215987  0.000000   \n",
              "3   0.209339        0.0   0.215987    0.000000  ...  0.218510  0.000000   \n",
              "4   0.215332        0.0   0.218510    0.000000  ...  0.220180  0.958383   \n",
              "5   0.220563        0.0   0.220180    0.958383  ...  0.219505  0.958369   \n",
              "\n",
              "   var11(t)  var12(t)  var13(t)  var14(t)  var15(t)  var16(t)  var17(t)  \\\n",
              "1  0.000000  1.000000  0.228459  0.192948  0.988709  0.833892  0.996484   \n",
              "2  0.000000  0.980976  0.231689  0.190429  1.000000  0.833603  0.915763   \n",
              "3  0.000000  0.977575  0.233752  0.173934  0.988515  0.830462  0.883030   \n",
              "4  0.958186  0.970775  0.234457  0.152136  0.979698  0.824366  0.829382   \n",
              "5  0.958617  0.938062  0.231994  0.163355  0.954175  0.810145  0.532552   \n",
              "\n",
              "   var18(t)  \n",
              "1  0.986427  \n",
              "2  0.969171  \n",
              "3  0.931473  \n",
              "4  0.875538  \n",
              "5  0.747266  \n",
              "\n",
              "[5 rows x 36 columns]"
            ]
          },
          "execution_count": 72,
          "metadata": {},
          "output_type": "execute_result"
        }
      ],
      "source": [
        "reframed.head()"
      ]
    },
    {
      "cell_type": "code",
      "execution_count": null,
      "id": "SaFIAsyKtRx3",
      "metadata": {
        "colab": {
          "base_uri": "https://localhost:8080/"
        },
        "id": "SaFIAsyKtRx3",
        "outputId": "9b83050a-c352-4d27-c019-67e5cbe75946"
      },
      "outputs": [
        {
          "data": {
            "text/plain": [
              "var1(t-1)     0.0\n",
              "var2(t-1)     0.0\n",
              "var3(t-1)     0.0\n",
              "var4(t-1)     0.0\n",
              "var5(t-1)     0.0\n",
              "var6(t-1)     0.0\n",
              "var7(t-1)     0.0\n",
              "var8(t-1)     0.0\n",
              "var9(t-1)     0.0\n",
              "var10(t-1)    0.0\n",
              "var11(t-1)    0.0\n",
              "var12(t-1)    0.0\n",
              "var13(t-1)    0.0\n",
              "var14(t-1)    0.0\n",
              "var15(t-1)    0.0\n",
              "var16(t-1)    0.0\n",
              "var17(t-1)    0.0\n",
              "var18(t-1)    0.0\n",
              "var1(t)       0.0\n",
              "var2(t)       0.0\n",
              "var3(t)       0.0\n",
              "var4(t)       0.0\n",
              "var5(t)       0.0\n",
              "var6(t)       0.0\n",
              "var7(t)       0.0\n",
              "var8(t)       0.0\n",
              "var9(t)       0.0\n",
              "var10(t)      0.0\n",
              "var11(t)      0.0\n",
              "var12(t)      0.0\n",
              "var13(t)      0.0\n",
              "var14(t)      0.0\n",
              "var15(t)      0.0\n",
              "var16(t)      0.0\n",
              "var17(t)      0.0\n",
              "var18(t)      0.0\n",
              "dtype: float64"
            ]
          },
          "execution_count": 73,
          "metadata": {},
          "output_type": "execute_result"
        }
      ],
      "source": [
        "reframed.min()"
      ]
    },
    {
      "cell_type": "code",
      "execution_count": null,
      "id": "xC6cgHs8n77X",
      "metadata": {
        "colab": {
          "base_uri": "https://localhost:8080/"
        },
        "id": "xC6cgHs8n77X",
        "outputId": "fe83f787-6bd9-46f5-dd59-ebd50fd882ea"
      },
      "outputs": [
        {
          "data": {
            "text/plain": [
              "Index(['var1(t-1)', 'var2(t-1)', 'var3(t-1)', 'var4(t-1)', 'var5(t-1)',\n",
              "       'var6(t-1)', 'var7(t-1)', 'var8(t-1)', 'var9(t-1)', 'var10(t-1)',\n",
              "       'var11(t-1)', 'var12(t-1)', 'var13(t-1)', 'var14(t-1)', 'var15(t-1)',\n",
              "       'var16(t-1)', 'var17(t-1)', 'var18(t-1)', 'var1(t)', 'var2(t)',\n",
              "       'var3(t)', 'var4(t)', 'var5(t)', 'var6(t)', 'var7(t)', 'var8(t)',\n",
              "       'var9(t)', 'var10(t)', 'var11(t)', 'var12(t)', 'var13(t)', 'var14(t)',\n",
              "       'var15(t)', 'var16(t)', 'var17(t)', 'var18(t)'],\n",
              "      dtype='object')"
            ]
          },
          "execution_count": 74,
          "metadata": {},
          "output_type": "execute_result"
        }
      ],
      "source": [
        "reframed.columns"
      ]
    },
    {
      "cell_type": "code",
      "execution_count": null,
      "id": "tlKzZoDktHbd",
      "metadata": {
        "colab": {
          "base_uri": "https://localhost:8080/"
        },
        "id": "tlKzZoDktHbd",
        "outputId": "ee826267-a5a8-4d38-ade4-cfbd864ea02c"
      },
      "outputs": [
        {
          "data": {
            "text/plain": [
              "(2710, 36)"
            ]
          },
          "execution_count": 75,
          "metadata": {},
          "output_type": "execute_result"
        }
      ],
      "source": [
        "reframed.shape"
      ]
    },
    {
      "cell_type": "code",
      "execution_count": null,
      "id": "o2DSXQrpyYXr",
      "metadata": {
        "id": "o2DSXQrpyYXr"
      },
      "outputs": [],
      "source": [
        "reframed.drop(reframed.columns[[18, 19, 20, 21,22,  24,25,   26, 27, 28, 29, 30, 31, 32, 33, 34, 35]], axis=1, inplace=True)\n"
      ]
    },
    {
      "cell_type": "code",
      "execution_count": null,
      "id": "oxsJA4PZzjU9",
      "metadata": {
        "colab": {
          "base_uri": "https://localhost:8080/"
        },
        "id": "oxsJA4PZzjU9",
        "outputId": "b19f230b-a9f6-4d77-8b5f-b801063ea4e3"
      },
      "outputs": [
        {
          "name": "stdout",
          "output_type": "stream",
          "text": [
            "   var1(t-1)  var2(t-1)  var3(t-1)  var4(t-1)  var5(t-1)  var6(t-1)  \\\n",
            "1   0.238028   0.237327   0.239383   0.243789   0.065077   0.620831   \n",
            "2   0.243541   0.244025   0.243552   0.250531   0.070203   0.628250   \n",
            "3   0.250623   0.244367   0.241007   0.242270   0.055570   0.535162   \n",
            "4   0.241992   0.239375   0.241281   0.240471   0.048565   0.576649   \n",
            "5   0.240902   0.234209   0.238997   0.237221   0.044774   0.563560   \n",
            "\n",
            "   var7(t-1)  var8(t-1)  var9(t-1)  var10(t-1)  var11(t-1)  var12(t-1)  \\\n",
            "1   0.194918        0.0   0.207334    0.000000    0.000000    0.999322   \n",
            "2   0.202390        0.0   0.212694    0.000000    0.000000    1.000000   \n",
            "3   0.209339        0.0   0.215987    0.000000    0.000000    0.980976   \n",
            "4   0.215332        0.0   0.218510    0.000000    0.000000    0.977575   \n",
            "5   0.220563        0.0   0.220180    0.958383    0.958186    0.970775   \n",
            "\n",
            "   var13(t-1)  var14(t-1)  var15(t-1)  var16(t-1)  var17(t-1)  var18(t-1)  \\\n",
            "1    0.222689    0.205382    0.976816    0.826238    0.995653    0.963933   \n",
            "2    0.228459    0.192948    0.988709    0.833892    0.996484    0.986427   \n",
            "3    0.231689    0.190429    1.000000    0.833603    0.915763    0.969171   \n",
            "4    0.233752    0.173934    0.988515    0.830462    0.883030    0.931473   \n",
            "5    0.234457    0.152136    0.979698    0.824366    0.829382    0.875538   \n",
            "\n",
            "    var6(t)  \n",
            "1  0.628250  \n",
            "2  0.535162  \n",
            "3  0.576649  \n",
            "4  0.563560  \n",
            "5  0.498876  \n"
          ]
        }
      ],
      "source": [
        "# Var6(t) is my output column, except all others are my input columns\n",
        "print(reframed.head())"
      ]
    },
    {
      "cell_type": "code",
      "execution_count": null,
      "id": "cjg0I2Yaf6oM",
      "metadata": {
        "id": "cjg0I2Yaf6oM"
      },
      "outputs": [],
      "source": [
        "values = reframed.values\n",
        "\n",
        "train_data = int(len(values)*0.8)"
      ]
    },
    {
      "cell_type": "code",
      "execution_count": null,
      "id": "H8hfcNVOgE9A",
      "metadata": {
        "colab": {
          "base_uri": "https://localhost:8080/"
        },
        "id": "H8hfcNVOgE9A",
        "outputId": "255929a3-8715-4279-f42d-6c899155f76a"
      },
      "outputs": [
        {
          "data": {
            "text/plain": [
              "2168"
            ]
          },
          "execution_count": 79,
          "metadata": {},
          "output_type": "execute_result"
        }
      ],
      "source": [
        "train_data"
      ]
    },
    {
      "cell_type": "code",
      "execution_count": null,
      "id": "sCi8SgJAzp58",
      "metadata": {
        "id": "sCi8SgJAzp58"
      },
      "outputs": [],
      "source": [
        "train = values[:train_data, :]\n",
        "test = values[train_data:, :]"
      ]
    },
    {
      "cell_type": "code",
      "execution_count": null,
      "id": "XeyKdvewCo0q",
      "metadata": {
        "colab": {
          "base_uri": "https://localhost:8080/"
        },
        "id": "XeyKdvewCo0q",
        "outputId": "a5918ec2-85af-40cc-a215-57315cf76fd5"
      },
      "outputs": [
        {
          "data": {
            "text/plain": [
              "(2168, 19)"
            ]
          },
          "execution_count": 81,
          "metadata": {},
          "output_type": "execute_result"
        }
      ],
      "source": [
        "train.shape"
      ]
    },
    {
      "cell_type": "code",
      "execution_count": null,
      "id": "CLmm9zn2VLdb",
      "metadata": {
        "colab": {
          "base_uri": "https://localhost:8080/"
        },
        "id": "CLmm9zn2VLdb",
        "outputId": "9afb5d15-c31b-4c03-b705-59d19e7781b0"
      },
      "outputs": [
        {
          "data": {
            "text/plain": [
              "array([[0.23802846, 0.23732706, 0.23938315, ..., 0.99565285, 0.9639328 ,\n",
              "        0.62825033],\n",
              "       [0.24354113, 0.24402534, 0.24355234, ..., 0.99648444, 0.98642672,\n",
              "        0.53516233],\n",
              "       [0.25062314, 0.24436694, 0.24100707, ..., 0.91576265, 0.96917129,\n",
              "        0.57664904],\n",
              "       ...,\n",
              "       [0.19171285, 0.1847887 , 0.1830675 , ..., 0.02325781, 0.21834517,\n",
              "        0.55543558],\n",
              "       [0.18115093, 0.17483731, 0.17767187, ..., 0.02137767, 0.10925578,\n",
              "        0.55825621],\n",
              "       [0.17557535, 0.16857545, 0.17316598, ..., 0.00244499, 0.01156736,\n",
              "        0.60763185]])"
            ]
          },
          "execution_count": 82,
          "metadata": {},
          "output_type": "execute_result"
        }
      ],
      "source": [
        "train"
      ]
    },
    {
      "cell_type": "code",
      "execution_count": null,
      "id": "Bhz_wDKdCq39",
      "metadata": {
        "colab": {
          "base_uri": "https://localhost:8080/"
        },
        "id": "Bhz_wDKdCq39",
        "outputId": "551a381b-cd61-4870-d29d-e5a1184e54ad"
      },
      "outputs": [
        {
          "data": {
            "text/plain": [
              "(542, 19)"
            ]
          },
          "execution_count": 83,
          "metadata": {},
          "output_type": "execute_result"
        }
      ],
      "source": [
        "test.shape"
      ]
    },
    {
      "cell_type": "code",
      "execution_count": null,
      "id": "rurB2foWYcYz",
      "metadata": {
        "id": "rurB2foWYcYz"
      },
      "outputs": [],
      "source": [
        "history_points = 50"
      ]
    },
    {
      "cell_type": "code",
      "execution_count": null,
      "id": "8-lYm0lQYZ-X",
      "metadata": {
        "id": "8-lYm0lQYZ-X"
      },
      "outputs": [],
      "source": [
        "train_x =      np.array([train[:, :-1][i  : i + history_points].copy() for i in range(len(train) - history_points)])\n"
      ]
    },
    {
      "cell_type": "code",
      "execution_count": null,
      "id": "BUZRpVqnYaC-",
      "metadata": {
        "colab": {
          "base_uri": "https://localhost:8080/"
        },
        "id": "BUZRpVqnYaC-",
        "outputId": "ad4ba2d8-3eb8-4c59-9a2a-47c13266440a"
      },
      "outputs": [
        {
          "data": {
            "text/plain": [
              "(2118, 50, 18)"
            ]
          },
          "execution_count": 86,
          "metadata": {},
          "output_type": "execute_result"
        }
      ],
      "source": [
        "train_x.shape"
      ]
    },
    {
      "cell_type": "code",
      "execution_count": null,
      "id": "AGop0nG6Y4If",
      "metadata": {
        "id": "AGop0nG6Y4If"
      },
      "outputs": [],
      "source": [
        "train_y = np.array([train[:, -1][i + history_points].copy() for i in range(len(train) - history_points)])\n"
      ]
    },
    {
      "cell_type": "code",
      "execution_count": null,
      "id": "Oh4bFGBNdUYh",
      "metadata": {
        "colab": {
          "base_uri": "https://localhost:8080/"
        },
        "id": "Oh4bFGBNdUYh",
        "outputId": "c5bc909c-83e8-4ca3-f1ff-adad57ca0331"
      },
      "outputs": [
        {
          "data": {
            "text/plain": [
              "(2118,)"
            ]
          },
          "execution_count": 88,
          "metadata": {},
          "output_type": "execute_result"
        }
      ],
      "source": [
        "train_y.shape"
      ]
    },
    {
      "cell_type": "code",
      "execution_count": null,
      "id": "86Gv6edCZHXO",
      "metadata": {
        "id": "86Gv6edCZHXO"
      },
      "outputs": [],
      "source": [
        "test_x =      np.array([test[:, :-1][i  : i + history_points].copy() for i in range(len(test) - history_points)])\n"
      ]
    },
    {
      "cell_type": "code",
      "execution_count": null,
      "id": "a5ZwLTvAZTF_",
      "metadata": {
        "colab": {
          "base_uri": "https://localhost:8080/"
        },
        "id": "a5ZwLTvAZTF_",
        "outputId": "cfb9533a-03ef-45e7-ce06-b9c07109a1d0"
      },
      "outputs": [
        {
          "data": {
            "text/plain": [
              "(492, 50, 18)"
            ]
          },
          "execution_count": 90,
          "metadata": {},
          "output_type": "execute_result"
        }
      ],
      "source": [
        "test_x.shape"
      ]
    },
    {
      "cell_type": "code",
      "execution_count": null,
      "id": "ijjmhPtiZICo",
      "metadata": {
        "id": "ijjmhPtiZICo"
      },
      "outputs": [],
      "source": [
        "test_y = np.array([test[:, -1][i + history_points].copy() for i in range(len(test) - history_points)])\n"
      ]
    },
    {
      "cell_type": "code",
      "execution_count": null,
      "id": "Zjkk79ekZWWI",
      "metadata": {
        "colab": {
          "base_uri": "https://localhost:8080/"
        },
        "id": "Zjkk79ekZWWI",
        "outputId": "ac44d42e-303a-49a4-a7d7-7970ae7da095"
      },
      "outputs": [
        {
          "data": {
            "text/plain": [
              "(492,)"
            ]
          },
          "execution_count": 92,
          "metadata": {},
          "output_type": "execute_result"
        }
      ],
      "source": [
        "test_y.shape"
      ]
    },
    {
      "cell_type": "markdown",
      "id": "JFrK18xeTtis",
      "metadata": {
        "id": "JFrK18xeTtis"
      },
      "source": [
        "## **Implementing CONV1D**"
      ]
    },
    {
      "cell_type": "code",
      "execution_count": null,
      "id": "b_h0k5w2Txto",
      "metadata": {
        "id": "b_h0k5w2Txto"
      },
      "outputs": [],
      "source": [
        "model=Sequential()\n",
        "model.add(Conv1D(filters=64, kernel_size=2, activation='relu', input_shape=(50,18)))\n",
        "model.add(MaxPooling1D(pool_size=2))\n",
        "model.add(Flatten())\n",
        "model.add(Dense(50, activation='relu'))\n",
        "model.add(Dense(1))\n",
        "model.compile(optimizer='adam', loss='mse')"
      ]
    },
    {
      "cell_type": "code",
      "execution_count": null,
      "id": "wN3FnofCUOyf",
      "metadata": {
        "colab": {
          "base_uri": "https://localhost:8080/",
          "height": 1000
        },
        "id": "wN3FnofCUOyf",
        "outputId": "ff8b5e99-ce32-4146-d8e0-8d51b0b3f4a2"
      },
      "outputs": [
        {
          "name": "stdout",
          "output_type": "stream",
          "text": [
            "Epoch 1/100\n",
            "67/67 - 12s - loss: 0.0433 - val_loss: 0.0067 - 12s/epoch - 176ms/step\n",
            "Epoch 2/100\n",
            "67/67 - 0s - loss: 0.0062 - val_loss: 0.0046 - 244ms/epoch - 4ms/step\n",
            "Epoch 3/100\n",
            "67/67 - 0s - loss: 0.0045 - val_loss: 0.0048 - 203ms/epoch - 3ms/step\n",
            "Epoch 4/100\n",
            "67/67 - 0s - loss: 0.0039 - val_loss: 0.0043 - 198ms/epoch - 3ms/step\n",
            "Epoch 5/100\n",
            "67/67 - 0s - loss: 0.0058 - val_loss: 0.0047 - 200ms/epoch - 3ms/step\n",
            "Epoch 6/100\n",
            "67/67 - 0s - loss: 0.0077 - val_loss: 0.0043 - 208ms/epoch - 3ms/step\n",
            "Epoch 7/100\n",
            "67/67 - 0s - loss: 0.0086 - val_loss: 0.0224 - 202ms/epoch - 3ms/step\n",
            "Epoch 8/100\n",
            "67/67 - 0s - loss: 0.0060 - val_loss: 0.0053 - 241ms/epoch - 4ms/step\n",
            "Epoch 9/100\n",
            "67/67 - 0s - loss: 0.0071 - val_loss: 0.0052 - 237ms/epoch - 4ms/step\n",
            "Epoch 10/100\n",
            "67/67 - 0s - loss: 0.0052 - val_loss: 0.0037 - 238ms/epoch - 4ms/step\n",
            "Epoch 11/100\n",
            "67/67 - 0s - loss: 0.0064 - val_loss: 0.0041 - 207ms/epoch - 3ms/step\n",
            "Epoch 12/100\n",
            "67/67 - 0s - loss: 0.0082 - val_loss: 0.0044 - 201ms/epoch - 3ms/step\n",
            "Epoch 13/100\n",
            "67/67 - 0s - loss: 0.0089 - val_loss: 0.0043 - 208ms/epoch - 3ms/step\n",
            "Epoch 14/100\n",
            "67/67 - 0s - loss: 0.0116 - val_loss: 0.0087 - 200ms/epoch - 3ms/step\n",
            "Epoch 15/100\n",
            "67/67 - 0s - loss: 0.0087 - val_loss: 0.0056 - 235ms/epoch - 4ms/step\n",
            "Epoch 16/100\n",
            "67/67 - 0s - loss: 0.0083 - val_loss: 0.0045 - 231ms/epoch - 3ms/step\n",
            "Epoch 17/100\n",
            "67/67 - 0s - loss: 0.0104 - val_loss: 0.0105 - 241ms/epoch - 4ms/step\n",
            "Epoch 18/100\n",
            "67/67 - 0s - loss: 0.0052 - val_loss: 0.0044 - 245ms/epoch - 4ms/step\n",
            "Epoch 19/100\n",
            "67/67 - 0s - loss: 0.0078 - val_loss: 0.0045 - 202ms/epoch - 3ms/step\n",
            "Epoch 20/100\n",
            "67/67 - 0s - loss: 0.0080 - val_loss: 0.0056 - 203ms/epoch - 3ms/step\n",
            "Epoch 21/100\n",
            "67/67 - 0s - loss: 0.0084 - val_loss: 0.0048 - 197ms/epoch - 3ms/step\n",
            "Epoch 22/100\n",
            "67/67 - 0s - loss: 0.0089 - val_loss: 0.0042 - 194ms/epoch - 3ms/step\n",
            "Epoch 23/100\n",
            "67/67 - 0s - loss: 0.0082 - val_loss: 0.0038 - 206ms/epoch - 3ms/step\n",
            "Epoch 24/100\n",
            "67/67 - 0s - loss: 0.0072 - val_loss: 0.0038 - 213ms/epoch - 3ms/step\n",
            "Epoch 25/100\n",
            "67/67 - 0s - loss: 0.0059 - val_loss: 0.0040 - 216ms/epoch - 3ms/step\n",
            "Epoch 26/100\n",
            "67/67 - 0s - loss: 0.0056 - val_loss: 0.0036 - 245ms/epoch - 4ms/step\n",
            "Epoch 27/100\n",
            "67/67 - 0s - loss: 0.0048 - val_loss: 0.0037 - 211ms/epoch - 3ms/step\n",
            "Epoch 28/100\n",
            "67/67 - 0s - loss: 0.0050 - val_loss: 0.0036 - 234ms/epoch - 3ms/step\n",
            "Epoch 29/100\n",
            "67/67 - 0s - loss: 0.0049 - val_loss: 0.0036 - 218ms/epoch - 3ms/step\n",
            "Epoch 30/100\n",
            "67/67 - 0s - loss: 0.0049 - val_loss: 0.0036 - 198ms/epoch - 3ms/step\n",
            "Epoch 31/100\n",
            "67/67 - 0s - loss: 0.0050 - val_loss: 0.0037 - 236ms/epoch - 4ms/step\n",
            "Epoch 32/100\n",
            "67/67 - 0s - loss: 0.0051 - val_loss: 0.0037 - 236ms/epoch - 4ms/step\n",
            "Epoch 33/100\n",
            "67/67 - 0s - loss: 0.0053 - val_loss: 0.0038 - 200ms/epoch - 3ms/step\n",
            "Epoch 34/100\n",
            "67/67 - 0s - loss: 0.0054 - val_loss: 0.0038 - 208ms/epoch - 3ms/step\n",
            "Epoch 35/100\n",
            "67/67 - 0s - loss: 0.0058 - val_loss: 0.0039 - 203ms/epoch - 3ms/step\n",
            "Epoch 36/100\n",
            "67/67 - 0s - loss: 0.0059 - val_loss: 0.0039 - 235ms/epoch - 4ms/step\n",
            "Epoch 37/100\n",
            "67/67 - 0s - loss: 0.0061 - val_loss: 0.0040 - 200ms/epoch - 3ms/step\n",
            "Epoch 38/100\n",
            "67/67 - 0s - loss: 0.0062 - val_loss: 0.0041 - 208ms/epoch - 3ms/step\n",
            "Epoch 39/100\n",
            "67/67 - 0s - loss: 0.0064 - val_loss: 0.0041 - 197ms/epoch - 3ms/step\n",
            "Epoch 40/100\n",
            "67/67 - 0s - loss: 0.0065 - val_loss: 0.0042 - 241ms/epoch - 4ms/step\n",
            "Epoch 41/100\n",
            "67/67 - 0s - loss: 0.0068 - val_loss: 0.0044 - 231ms/epoch - 3ms/step\n",
            "Epoch 42/100\n",
            "67/67 - 0s - loss: 0.0069 - val_loss: 0.0044 - 202ms/epoch - 3ms/step\n",
            "Epoch 43/100\n",
            "67/67 - 0s - loss: 0.0071 - val_loss: 0.0043 - 238ms/epoch - 4ms/step\n",
            "Epoch 44/100\n",
            "67/67 - 0s - loss: 0.0070 - val_loss: 0.0049 - 207ms/epoch - 3ms/step\n",
            "Epoch 45/100\n",
            "67/67 - 0s - loss: 0.0072 - val_loss: 0.0046 - 232ms/epoch - 3ms/step\n",
            "Epoch 46/100\n",
            "67/67 - 0s - loss: 0.0070 - val_loss: 0.0067 - 211ms/epoch - 3ms/step\n",
            "Epoch 47/100\n",
            "67/67 - 0s - loss: 0.0067 - val_loss: 0.0050 - 238ms/epoch - 4ms/step\n",
            "Epoch 48/100\n",
            "67/67 - 0s - loss: 0.0066 - val_loss: 0.0056 - 233ms/epoch - 3ms/step\n",
            "Epoch 49/100\n",
            "67/67 - 0s - loss: 0.0054 - val_loss: 0.0051 - 234ms/epoch - 3ms/step\n",
            "Epoch 50/100\n",
            "67/67 - 0s - loss: 0.0051 - val_loss: 0.0053 - 234ms/epoch - 3ms/step\n",
            "Epoch 51/100\n",
            "67/67 - 0s - loss: 0.0049 - val_loss: 0.0052 - 239ms/epoch - 4ms/step\n",
            "Epoch 52/100\n",
            "67/67 - 0s - loss: 0.0048 - val_loss: 0.0067 - 245ms/epoch - 4ms/step\n",
            "Epoch 53/100\n",
            "67/67 - 0s - loss: 0.0052 - val_loss: 0.0065 - 203ms/epoch - 3ms/step\n",
            "Epoch 54/100\n",
            "67/67 - 0s - loss: 0.0044 - val_loss: 0.0055 - 233ms/epoch - 3ms/step\n",
            "Epoch 55/100\n",
            "67/67 - 0s - loss: 0.0039 - val_loss: 0.0045 - 205ms/epoch - 3ms/step\n",
            "Epoch 56/100\n",
            "67/67 - 0s - loss: 0.0036 - val_loss: 0.0045 - 208ms/epoch - 3ms/step\n",
            "Epoch 57/100\n",
            "67/67 - 0s - loss: 0.0036 - val_loss: 0.0068 - 250ms/epoch - 4ms/step\n",
            "Epoch 58/100\n",
            "67/67 - 0s - loss: 0.0035 - val_loss: 0.0043 - 200ms/epoch - 3ms/step\n",
            "Epoch 59/100\n",
            "67/67 - 0s - loss: 0.0035 - val_loss: 0.0043 - 198ms/epoch - 3ms/step\n",
            "Epoch 60/100\n",
            "67/67 - 0s - loss: 0.0032 - val_loss: 0.0046 - 199ms/epoch - 3ms/step\n",
            "Epoch 61/100\n",
            "67/67 - 0s - loss: 0.0032 - val_loss: 0.0046 - 208ms/epoch - 3ms/step\n",
            "Epoch 62/100\n",
            "67/67 - 0s - loss: 0.0031 - val_loss: 0.0045 - 198ms/epoch - 3ms/step\n",
            "Epoch 63/100\n",
            "67/67 - 0s - loss: 0.0031 - val_loss: 0.0047 - 232ms/epoch - 3ms/step\n",
            "Epoch 64/100\n",
            "67/67 - 0s - loss: 0.0030 - val_loss: 0.0046 - 211ms/epoch - 3ms/step\n",
            "Epoch 65/100\n",
            "67/67 - 0s - loss: 0.0029 - val_loss: 0.0042 - 233ms/epoch - 3ms/step\n",
            "Epoch 66/100\n",
            "67/67 - 0s - loss: 0.0028 - val_loss: 0.0043 - 214ms/epoch - 3ms/step\n",
            "Epoch 67/100\n",
            "67/67 - 0s - loss: 0.0028 - val_loss: 0.0044 - 198ms/epoch - 3ms/step\n",
            "Epoch 68/100\n",
            "67/67 - 0s - loss: 0.0028 - val_loss: 0.0045 - 243ms/epoch - 4ms/step\n",
            "Epoch 69/100\n",
            "67/67 - 0s - loss: 0.0028 - val_loss: 0.0043 - 199ms/epoch - 3ms/step\n",
            "Epoch 70/100\n",
            "67/67 - 0s - loss: 0.0028 - val_loss: 0.0042 - 208ms/epoch - 3ms/step\n",
            "Epoch 71/100\n",
            "67/67 - 0s - loss: 0.0027 - val_loss: 0.0042 - 214ms/epoch - 3ms/step\n",
            "Epoch 72/100\n",
            "67/67 - 0s - loss: 0.0027 - val_loss: 0.0052 - 200ms/epoch - 3ms/step\n",
            "Epoch 73/100\n",
            "67/67 - 0s - loss: 0.0027 - val_loss: 0.0067 - 233ms/epoch - 3ms/step\n",
            "Epoch 74/100\n",
            "67/67 - 0s - loss: 0.0027 - val_loss: 0.0117 - 204ms/epoch - 3ms/step\n",
            "Epoch 75/100\n",
            "67/67 - 0s - loss: 0.0028 - val_loss: 0.0145 - 209ms/epoch - 3ms/step\n",
            "Epoch 76/100\n",
            "67/67 - 0s - loss: 0.0030 - val_loss: 0.0067 - 209ms/epoch - 3ms/step\n",
            "Epoch 77/100\n",
            "67/67 - 0s - loss: 0.0028 - val_loss: 0.0049 - 203ms/epoch - 3ms/step\n",
            "Epoch 78/100\n",
            "67/67 - 0s - loss: 0.0028 - val_loss: 0.0067 - 205ms/epoch - 3ms/step\n",
            "Epoch 79/100\n",
            "67/67 - 0s - loss: 0.0028 - val_loss: 0.0045 - 236ms/epoch - 4ms/step\n",
            "Epoch 80/100\n",
            "67/67 - 0s - loss: 0.0027 - val_loss: 0.0047 - 217ms/epoch - 3ms/step\n",
            "Epoch 81/100\n",
            "67/67 - 0s - loss: 0.0030 - val_loss: 0.0038 - 208ms/epoch - 3ms/step\n",
            "Epoch 82/100\n",
            "67/67 - 0s - loss: 0.0029 - val_loss: 0.0038 - 211ms/epoch - 3ms/step\n",
            "Epoch 83/100\n",
            "67/67 - 0s - loss: 0.0027 - val_loss: 0.0044 - 198ms/epoch - 3ms/step\n",
            "Epoch 84/100\n",
            "67/67 - 0s - loss: 0.0026 - val_loss: 0.0057 - 209ms/epoch - 3ms/step\n",
            "Epoch 85/100\n",
            "67/67 - 0s - loss: 0.0026 - val_loss: 0.0050 - 212ms/epoch - 3ms/step\n",
            "Epoch 86/100\n",
            "67/67 - 0s - loss: 0.0026 - val_loss: 0.0045 - 247ms/epoch - 4ms/step\n",
            "Epoch 87/100\n",
            "67/67 - 0s - loss: 0.0026 - val_loss: 0.0053 - 210ms/epoch - 3ms/step\n",
            "Epoch 88/100\n",
            "67/67 - 0s - loss: 0.0028 - val_loss: 0.0042 - 197ms/epoch - 3ms/step\n",
            "Epoch 89/100\n",
            "67/67 - 0s - loss: 0.0027 - val_loss: 0.0094 - 261ms/epoch - 4ms/step\n",
            "Epoch 90/100\n",
            "67/67 - 0s - loss: 0.0029 - val_loss: 0.0054 - 318ms/epoch - 5ms/step\n",
            "Epoch 91/100\n",
            "67/67 - 0s - loss: 0.0028 - val_loss: 0.0038 - 299ms/epoch - 4ms/step\n",
            "Epoch 92/100\n",
            "67/67 - 0s - loss: 0.0027 - val_loss: 0.0046 - 309ms/epoch - 5ms/step\n",
            "Epoch 93/100\n",
            "67/67 - 0s - loss: 0.0028 - val_loss: 0.0037 - 314ms/epoch - 5ms/step\n",
            "Epoch 94/100\n",
            "67/67 - 0s - loss: 0.0028 - val_loss: 0.0041 - 287ms/epoch - 4ms/step\n",
            "Epoch 95/100\n",
            "67/67 - 0s - loss: 0.0027 - val_loss: 0.0045 - 282ms/epoch - 4ms/step\n",
            "Epoch 96/100\n",
            "67/67 - 0s - loss: 0.0027 - val_loss: 0.0039 - 222ms/epoch - 3ms/step\n",
            "Epoch 97/100\n",
            "67/67 - 0s - loss: 0.0027 - val_loss: 0.0042 - 200ms/epoch - 3ms/step\n",
            "Epoch 98/100\n",
            "67/67 - 0s - loss: 0.0026 - val_loss: 0.0043 - 235ms/epoch - 4ms/step\n",
            "Epoch 99/100\n",
            "67/67 - 0s - loss: 0.0026 - val_loss: 0.0056 - 196ms/epoch - 3ms/step\n",
            "Epoch 100/100\n",
            "67/67 - 0s - loss: 0.0027 - val_loss: 0.0048 - 242ms/epoch - 4ms/step\n"
          ]
        },
        {
          "data": {
            "image/png": "[encoded data removed]",
            "text/plain": [
              "<Figure size 432x288 with 1 Axes>"
            ]
          },
          "metadata": {
            "needs_background": "light"
          },
          "output_type": "display_data"
        }
      ],
      "source": [
        "history = model.fit(train_x, train_y, epochs=100, batch_size=32, validation_data=(test_x, test_y), verbose=2, shuffle=False)\n",
        "# plot history\n",
        "pyplot.plot(history.history['loss'], label='train')\n",
        "pyplot.plot(history.history['val_loss'], label='test')\n",
        "pyplot.legend()\n",
        "pyplot.show()"
      ]
    },
    {
      "cell_type": "code",
      "execution_count": null,
      "id": "36nPiR6bASpe",
      "metadata": {
        "id": "36nPiR6bASpe"
      },
      "outputs": [],
      "source": [
        "yhat_train = model.predict(train_x)\n"
      ]
    },
    {
      "cell_type": "code",
      "execution_count": null,
      "id": "NGCP_1tB4lB7",
      "metadata": {
        "colab": {
          "base_uri": "https://localhost:8080/"
        },
        "id": "NGCP_1tB4lB7",
        "outputId": "7411246b-f8ea-4096-af50-d59d2983925a"
      },
      "outputs": [
        {
          "data": {
            "text/plain": [
              "array([[0.55277514],\n",
              "       [0.56472725],\n",
              "       [0.5537858 ],\n",
              "       ...,\n",
              "       [0.55009705],\n",
              "       [0.5804134 ],\n",
              "       [0.6066825 ]], dtype=float32)"
            ]
          },
          "execution_count": 96,
          "metadata": {},
          "output_type": "execute_result"
        }
      ],
      "source": [
        "yhat_train"
      ]
    },
    {
      "cell_type": "code",
      "execution_count": null,
      "id": "olFw9YwY9QRH",
      "metadata": {
        "colab": {
          "base_uri": "https://localhost:8080/"
        },
        "id": "olFw9YwY9QRH",
        "outputId": "080e0670-1df9-43d3-c7f3-fa1c80e9d14a"
      },
      "outputs": [
        {
          "data": {
            "text/plain": [
              "(2118, 1)"
            ]
          },
          "execution_count": 97,
          "metadata": {},
          "output_type": "execute_result"
        }
      ],
      "source": [
        "yhat_train.shape"
      ]
    },
    {
      "cell_type": "code",
      "execution_count": null,
      "id": "ynnasjjuBKdN",
      "metadata": {
        "colab": {
          "base_uri": "https://localhost:8080/"
        },
        "id": "ynnasjjuBKdN",
        "outputId": "bc86e9e8-fb94-4193-a802-ef89c0216fdb"
      },
      "outputs": [
        {
          "data": {
            "text/plain": [
              "(2118, 50, 18)"
            ]
          },
          "execution_count": 98,
          "metadata": {},
          "output_type": "execute_result"
        }
      ],
      "source": [
        "train_x.shape"
      ]
    },
    {
      "cell_type": "code",
      "execution_count": null,
      "id": "j60YR0EP1Fmu",
      "metadata": {
        "id": "j60YR0EP1Fmu"
      },
      "outputs": [],
      "source": [
        "y_test_predicted = model.predict(test_x)\n"
      ]
    },
    {
      "cell_type": "code",
      "execution_count": null,
      "id": "iG_IkIAhOHJD",
      "metadata": {
        "colab": {
          "base_uri": "https://localhost:8080/"
        },
        "id": "iG_IkIAhOHJD",
        "outputId": "ee590bd2-10f1-40c0-9b36-6800b4814151"
      },
      "outputs": [
        {
          "data": {
            "text/plain": [
              "(492, 1)"
            ]
          },
          "execution_count": 100,
          "metadata": {},
          "output_type": "execute_result"
        }
      ],
      "source": [
        "y_test_predicted.shape"
      ]
    },
    {
      "cell_type": "code",
      "execution_count": null,
      "id": "HLrryLPKet0c",
      "metadata": {
        "id": "HLrryLPKet0c"
      },
      "outputs": [],
      "source": [
        "y_test_predicted = scaler_dataframe.inverse_transform(y_test_predicted)\n"
      ]
    },
    {
      "cell_type": "code",
      "execution_count": null,
      "id": "UBiJlyA4fiwB",
      "metadata": {
        "colab": {
          "base_uri": "https://localhost:8080/"
        },
        "id": "UBiJlyA4fiwB",
        "outputId": "1fddbeac-2815-4e11-d11d-b3dd0b37f41a"
      },
      "outputs": [
        {
          "data": {
            "text/plain": [
              "array([[ 3.44778985e-01],\n",
              "       [-2.03041458e+00],\n",
              "       [ 2.03169155e+00],\n",
              "       [ 6.04382038e-01],\n",
              "       [ 1.12499237e-01],\n",
              "       [-3.84124899e+00],\n",
              "       [-7.81369877e+00],\n",
              "       [-6.10470867e+00],\n",
              "       [-4.44022179e+00],\n",
              "       [-1.19320040e+01],\n",
              "       [-1.42979107e+01],\n",
              "       [-1.12682571e+01],\n",
              "       [-1.15134058e+01],\n",
              "       [-9.86177254e+00],\n",
              "       [-8.89242935e+00],\n",
              "       [-1.20510445e+01],\n",
              "       [-1.38232708e+01],\n",
              "       [-1.32512884e+01],\n",
              "       [-1.39362097e+01],\n",
              "       [-1.21036777e+01],\n",
              "       [-1.14748936e+01],\n",
              "       [-1.93076954e+01],\n",
              "       [-2.45013561e+01],\n",
              "       [-2.28752251e+01],\n",
              "       [-1.61638985e+01],\n",
              "       [-1.58216124e+01],\n",
              "       [-1.54157887e+01],\n",
              "       [-1.14482355e+01],\n",
              "       [-1.14062996e+01],\n",
              "       [-1.37964230e+01],\n",
              "       [-1.65798187e+01],\n",
              "       [-1.83124561e+01],\n",
              "       [-1.47151451e+01],\n",
              "       [-1.11692657e+01],\n",
              "       [-1.02818604e+01],\n",
              "       [-1.05010805e+01],\n",
              "       [-8.83437538e+00],\n",
              "       [-1.49020977e+01],\n",
              "       [-1.67157860e+01],\n",
              "       [-2.47521725e+01],\n",
              "       [-2.35663033e+01],\n",
              "       [-2.62610321e+01],\n",
              "       [-2.58488846e+01],\n",
              "       [-2.08182583e+01],\n",
              "       [-1.48723965e+01],\n",
              "       [-1.50788431e+01],\n",
              "       [-1.34183025e+01],\n",
              "       [-1.04788132e+01],\n",
              "       [-4.72001648e+00],\n",
              "       [-2.11932635e+00],\n",
              "       [-2.48861885e+00],\n",
              "       [-6.47599792e+00],\n",
              "       [-6.52360773e+00],\n",
              "       [-1.10530624e+01],\n",
              "       [-1.17507887e+01],\n",
              "       [-1.60922298e+01],\n",
              "       [-1.34787340e+01],\n",
              "       [-1.25505190e+01],\n",
              "       [-1.27174540e+01],\n",
              "       [-8.65667915e+00],\n",
              "       [-6.02625704e+00],\n",
              "       [-5.02697563e+00],\n",
              "       [-1.36102545e+00],\n",
              "       [ 9.72676039e-01],\n",
              "       [ 5.46818304e+00],\n",
              "       [ 4.81194830e+00],\n",
              "       [ 6.82296848e+00],\n",
              "       [ 7.29090357e+00],\n",
              "       [ 9.13340473e+00],\n",
              "       [ 6.19996881e+00],\n",
              "       [ 4.35106564e+00],\n",
              "       [ 2.20880175e+00],\n",
              "       [-2.10141730e+00],\n",
              "       [-8.36656666e+00],\n",
              "       [-1.13298140e+01],\n",
              "       [-6.74875546e+00],\n",
              "       [ 1.76636720e+00],\n",
              "       [ 5.32170868e+00],\n",
              "       [ 1.09553576e+00],\n",
              "       [-1.10709620e+00],\n",
              "       [-1.77631104e+00],\n",
              "       [ 3.67641473e+00],\n",
              "       [ 7.27824068e+00],\n",
              "       [ 6.52230120e+00],\n",
              "       [-2.91477680e+00],\n",
              "       [-9.85985470e+00],\n",
              "       [-1.56158314e+01],\n",
              "       [-1.45959311e+01],\n",
              "       [-9.47122669e+00],\n",
              "       [-1.10614939e+01],\n",
              "       [-1.40448370e+01],\n",
              "       [-2.13356571e+01],\n",
              "       [-2.28872070e+01],\n",
              "       [-1.68298492e+01],\n",
              "       [-9.58736706e+00],\n",
              "       [-5.30890942e+00],\n",
              "       [-4.77756947e-01],\n",
              "       [ 8.96586001e-01],\n",
              "       [-9.36658442e-01],\n",
              "       [-4.01173449e+00],\n",
              "       [-9.76184654e+00],\n",
              "       [-1.03204842e+01],\n",
              "       [-1.20982580e+01],\n",
              "       [-1.43125391e+01],\n",
              "       [-1.39380951e+01],\n",
              "       [-1.57772360e+01],\n",
              "       [-1.42940903e+01],\n",
              "       [-1.77449265e+01],\n",
              "       [-2.25872688e+01],\n",
              "       [-1.88373032e+01],\n",
              "       [-5.81320190e+00],\n",
              "       [-1.34199829e+01],\n",
              "       [-1.96577797e+01],\n",
              "       [ 1.51720846e+00],\n",
              "       [ 2.76718593e+00],\n",
              "       [-1.17039404e+01],\n",
              "       [-1.18015690e+01],\n",
              "       [-1.40008879e+01],\n",
              "       [-1.37341690e+01],\n",
              "       [-1.78465805e+01],\n",
              "       [-2.02073040e+01],\n",
              "       [-2.52153130e+01],\n",
              "       [-2.43935623e+01],\n",
              "       [-1.99252434e+01],\n",
              "       [-1.36987791e+01],\n",
              "       [-1.09942636e+01],\n",
              "       [-1.01340551e+01],\n",
              "       [-4.70908070e+00],\n",
              "       [-9.46076679e+00],\n",
              "       [-2.22291398e+00],\n",
              "       [-2.97652364e+00],\n",
              "       [-1.22157927e+01],\n",
              "       [-5.12248039e+00],\n",
              "       [-5.80647230e-01],\n",
              "       [-3.71764421e+00],\n",
              "       [-2.10040283e+00],\n",
              "       [-9.69891071e+00],\n",
              "       [-4.65952158e+00],\n",
              "       [ 4.71233845e+00],\n",
              "       [-9.56960738e-01],\n",
              "       [-1.21184015e+01],\n",
              "       [-1.03094378e+01],\n",
              "       [-1.98216140e-01],\n",
              "       [ 7.48265839e+00],\n",
              "       [ 3.00418854e+00],\n",
              "       [ 5.68320322e+00],\n",
              "       [-2.19796801e+00],\n",
              "       [-5.10116386e+00],\n",
              "       [-6.85892057e+00],\n",
              "       [ 3.50040793e-01],\n",
              "       [-5.71351290e+00],\n",
              "       [-1.13423185e+01],\n",
              "       [-5.58726168e+00],\n",
              "       [-8.47841167e+00],\n",
              "       [-1.03224020e+01],\n",
              "       [-1.59209843e+01],\n",
              "       [-1.36980343e+01],\n",
              "       [-9.74094200e+00],\n",
              "       [-7.37687445e+00],\n",
              "       [-9.35004711e+00],\n",
              "       [-7.77607346e+00],\n",
              "       [ 1.25590324e-01],\n",
              "       [-4.35414743e+00],\n",
              "       [-8.17848969e+00],\n",
              "       [-5.29643679e+00],\n",
              "       [-7.07520866e+00],\n",
              "       [-1.63738060e+00],\n",
              "       [ 2.60083079e-01],\n",
              "       [ 5.67169070e-01],\n",
              "       [-5.90181255e+00],\n",
              "       [-5.94171953e+00],\n",
              "       [-6.38274384e+00],\n",
              "       [-2.94492102e+00],\n",
              "       [-3.39171410e+00],\n",
              "       [-1.44324887e+00],\n",
              "       [ 5.76816845e+00],\n",
              "       [ 8.98032093e+00],\n",
              "       [ 7.21208763e+00],\n",
              "       [ 4.32466173e+00],\n",
              "       [ 3.15062523e-01],\n",
              "       [-8.59807670e-01],\n",
              "       [-2.03719783e+00],\n",
              "       [-1.85362771e-01],\n",
              "       [ 4.07387066e+00],\n",
              "       [ 1.97165644e+00],\n",
              "       [-2.49946564e-01],\n",
              "       [-3.47303414e+00],\n",
              "       [-1.84826458e+00],\n",
              "       [-1.26323843e+00],\n",
              "       [ 1.99540749e-01],\n",
              "       [-2.87436223e+00],\n",
              "       [ 1.09097135e+00],\n",
              "       [-7.63716519e-01],\n",
              "       [-3.85299301e+00],\n",
              "       [-3.69891095e+00],\n",
              "       [-5.35081983e-01],\n",
              "       [ 3.52833962e+00],\n",
              "       [ 5.28244495e-01],\n",
              "       [ 4.56829876e-01],\n",
              "       [ 4.97862369e-01],\n",
              "       [-1.13766849e+00],\n",
              "       [-1.53427482e-01],\n",
              "       [-8.09826925e-02],\n",
              "       [-1.23935437e+00],\n",
              "       [ 5.23505688e-01],\n",
              "       [-3.23901105e+00],\n",
              "       [-5.61994171e+00],\n",
              "       [-4.93286562e+00],\n",
              "       [-3.79291010e+00],\n",
              "       [-2.75153422e+00],\n",
              "       [-3.93052506e+00],\n",
              "       [-3.59551358e+00],\n",
              "       [-7.68383360e+00],\n",
              "       [-5.11217880e+00],\n",
              "       [-3.01159692e+00],\n",
              "       [-1.34266302e-01],\n",
              "       [ 1.23085272e+00],\n",
              "       [-6.76460457e+00],\n",
              "       [-7.34048557e+00],\n",
              "       [-5.63707447e+00],\n",
              "       [-6.34060192e+00],\n",
              "       [-5.57191992e+00],\n",
              "       [-5.60583639e+00],\n",
              "       [-5.36357212e+00],\n",
              "       [-1.35728514e+00],\n",
              "       [-4.58961248e+00],\n",
              "       [ 1.02028573e+00],\n",
              "       [ 5.01750708e+00],\n",
              "       [ 5.25858259e+00],\n",
              "       [ 3.15394378e+00],\n",
              "       [ 1.46175361e+00],\n",
              "       [-3.80912352e+00],\n",
              "       [-8.67487335e+00],\n",
              "       [-9.05926991e+00],\n",
              "       [-6.75794792e+00],\n",
              "       [-9.02511597e+00],\n",
              "       [-1.03650827e+01],\n",
              "       [-1.51961403e+01],\n",
              "       [-1.44728804e+01],\n",
              "       [-1.24415264e+01],\n",
              "       [-8.78584671e+00],\n",
              "       [-4.30468321e+00],\n",
              "       [-1.04522264e+00],\n",
              "       [-2.74373674e+00],\n",
              "       [-9.22014177e-01],\n",
              "       [ 2.41920382e-01],\n",
              "       [-9.42157984e-01],\n",
              "       [ 2.91145730e+00],\n",
              "       [ 5.76466608e+00],\n",
              "       [ 4.19226074e+00],\n",
              "       [ 3.12744451e+00],\n",
              "       [ 2.43743002e-01],\n",
              "       [-5.05767488e+00],\n",
              "       [-8.36824703e+00],\n",
              "       [-1.03490915e+01],\n",
              "       [-1.09039888e+01],\n",
              "       [-1.08522110e+01],\n",
              "       [-8.57123852e+00],\n",
              "       [-6.61378717e+00],\n",
              "       [-5.98332262e+00],\n",
              "       [-2.37667894e+00],\n",
              "       [-2.02058840e+00],\n",
              "       [-5.22498071e-01],\n",
              "       [-1.44717944e+00],\n",
              "       [ 1.67988038e+00],\n",
              "       [ 1.60339415e+00],\n",
              "       [-3.39286149e-01],\n",
              "       [ 3.24212646e+00],\n",
              "       [ 1.12441230e+00],\n",
              "       [ 2.83991599e+00],\n",
              "       [ 5.42174578e+00],\n",
              "       [ 1.99140406e+00],\n",
              "       [ 3.63264036e+00],\n",
              "       [ 8.97758842e-01],\n",
              "       [ 1.45983589e+00],\n",
              "       [ 7.96922594e-02],\n",
              "       [-5.39374828e+00],\n",
              "       [-9.29188251e+00],\n",
              "       [-1.30487728e+01],\n",
              "       [-9.09792519e+00],\n",
              "       [-1.40185189e+00],\n",
              "       [-6.79511964e-01],\n",
              "       [ 1.25971329e+00],\n",
              "       [ 2.18317413e+00],\n",
              "       [ 2.21044993e+00],\n",
              "       [-4.38156557e+00],\n",
              "       [-4.02984953e+00],\n",
              "       [-1.73933589e+00],\n",
              "       [-2.23724127e+00],\n",
              "       [-4.35327578e+00],\n",
              "       [-9.34641838e+00],\n",
              "       [-1.82922630e+01],\n",
              "       [-1.99213924e+01],\n",
              "       [-2.42959404e+01],\n",
              "       [-2.20714378e+01],\n",
              "       [-2.07497597e+01],\n",
              "       [-1.95384369e+01],\n",
              "       [-1.49166784e+01],\n",
              "       [-1.27618151e+01],\n",
              "       [-1.62865353e+01],\n",
              "       [-1.74142895e+01],\n",
              "       [-9.89274120e+00],\n",
              "       [ 1.53248668e+00],\n",
              "       [-3.80371904e+00],\n",
              "       [-5.60542440e+00],\n",
              "       [-6.49655390e+00],\n",
              "       [-6.61990499e+00],\n",
              "       [-1.36372375e+01],\n",
              "       [-2.05030899e+01],\n",
              "       [-1.87836552e+01],\n",
              "       [-1.93013725e+01],\n",
              "       [-2.80629578e+01],\n",
              "       [-2.11628437e+01],\n",
              "       [-1.29119978e+01],\n",
              "       [-1.43191795e+01],\n",
              "       [-1.63407230e+01],\n",
              "       [-1.15260534e+01],\n",
              "       [-1.56741238e+01],\n",
              "       [-1.58364153e+01],\n",
              "       [-1.26259747e+01],\n",
              "       [-1.19207201e+01],\n",
              "       [-1.02194796e+01],\n",
              "       [-1.41177731e+01],\n",
              "       [-1.57037449e+01],\n",
              "       [-1.54175158e+01],\n",
              "       [-1.45629654e+01],\n",
              "       [-1.34080963e+01],\n",
              "       [-1.19644308e+01],\n",
              "       [-1.32853632e+01],\n",
              "       [-1.16407671e+01],\n",
              "       [-1.28223886e+01],\n",
              "       [-1.69839954e+01],\n",
              "       [-1.57439690e+01],\n",
              "       [-1.18547411e+01],\n",
              "       [-4.27132130e+00],\n",
              "       [-1.56827998e+00],\n",
              "       [-8.42738569e-01],\n",
              "       [-1.19708562e+00],\n",
              "       [-2.36227226e+00],\n",
              "       [ 5.89145012e-02],\n",
              "       [ 5.92172766e+00],\n",
              "       [ 2.53397107e+00],\n",
              "       [-1.77428246e+00],\n",
              "       [-3.05538702e+00],\n",
              "       [-1.04366946e+00],\n",
              "       [-3.36508822e+00],\n",
              "       [-7.30148172e+00],\n",
              "       [-4.45735455e+00],\n",
              "       [ 4.99589890e-01],\n",
              "       [-3.67009807e+00],\n",
              "       [-8.00866985e+00],\n",
              "       [-9.35445309e+00],\n",
              "       [-7.69862080e+00],\n",
              "       [-2.82136393e+00],\n",
              "       [ 1.35461581e+00],\n",
              "       [ 6.78269029e-01],\n",
              "       [ 4.41290760e+00],\n",
              "       [ 6.74009514e+00],\n",
              "       [-1.52707314e+00],\n",
              "       [-1.63963115e+00],\n",
              "       [-5.96480191e-01],\n",
              "       [ 3.65635991e-01],\n",
              "       [ 2.00129366e+00],\n",
              "       [ 1.26166272e+00],\n",
              "       [-2.41324827e-01],\n",
              "       [ 1.98265553e+00],\n",
              "       [ 1.07803869e+00],\n",
              "       [-1.80227771e-01],\n",
              "       [-1.52933943e+00],\n",
              "       [-3.22772670e+00],\n",
              "       [-1.15949225e+00],\n",
              "       [-7.17438102e-01],\n",
              "       [ 8.94890189e-01],\n",
              "       [-8.61598611e-01],\n",
              "       [-4.22868824e+00],\n",
              "       [-6.11818027e+00],\n",
              "       [-5.84688044e+00],\n",
              "       [-5.76227999e+00],\n",
              "       [-3.32006168e+00],\n",
              "       [ 1.21088326e+00],\n",
              "       [ 3.84426904e+00],\n",
              "       [ 6.69582939e+00],\n",
              "       [ 4.87524843e+00],\n",
              "       [ 4.38466501e+00],\n",
              "       [ 4.87971783e+00],\n",
              "       [ 3.03146434e+00],\n",
              "       [ 1.59274375e+00],\n",
              "       [ 7.49472063e-04],\n",
              "       [ 8.49499285e-01],\n",
              "       [-3.92141819e-01],\n",
              "       [-4.29358912e+00],\n",
              "       [-5.39171934e+00],\n",
              "       [-2.29762506e+00],\n",
              "       [ 4.57400441e-01],\n",
              "       [ 5.55864763e+00],\n",
              "       [ 5.44070101e+00],\n",
              "       [ 1.98921692e+00],\n",
              "       [-3.26316476e+00],\n",
              "       [-3.66310859e+00],\n",
              "       [-1.19229925e+00],\n",
              "       [-2.47680187e-01],\n",
              "       [-1.30041969e+00],\n",
              "       [-2.88605881e+00],\n",
              "       [ 1.16980314e+00],\n",
              "       [ 3.34552383e+00],\n",
              "       [ 1.31483543e+00],\n",
              "       [-5.06824589e+00],\n",
              "       [-1.07907495e+01],\n",
              "       [-9.12491512e+00],\n",
              "       [-8.31553364e+00],\n",
              "       [-7.57867718e+00],\n",
              "       [-6.16816711e+00],\n",
              "       [-3.48198867e+00],\n",
              "       [ 1.35984588e+00],\n",
              "       [ 1.31521571e+00],\n",
              "       [-2.01347232e+00],\n",
              "       [-1.71071291e+00],\n",
              "       [-4.30764675e+00],\n",
              "       [-3.57674861e+00],\n",
              "       [-2.78071189e+00],\n",
              "       [-3.43550420e+00],\n",
              "       [-4.55797863e+00],\n",
              "       [-7.02458763e+00],\n",
              "       [-8.27721214e+00],\n",
              "       [-6.42650223e+00],\n",
              "       [-7.08032799e+00],\n",
              "       [-5.29206228e+00],\n",
              "       [-3.24084949e+00],\n",
              "       [-6.91843271e+00],\n",
              "       [-8.53052235e+00],\n",
              "       [-8.15430450e+00],\n",
              "       [-5.89361858e+00],\n",
              "       [-4.23704052e+00],\n",
              "       [-1.87558782e+00],\n",
              "       [-6.73885643e-01],\n",
              "       [ 1.85903502e+00],\n",
              "       [ 3.07230663e+00],\n",
              "       [ 1.96560216e+00],\n",
              "       [ 1.54510236e+00],\n",
              "       [-4.23870468e+00],\n",
              "       [-7.42194843e+00],\n",
              "       [-8.73907661e+00],\n",
              "       [-4.50639057e+00],\n",
              "       [-9.52602327e-01],\n",
              "       [ 2.62365311e-01],\n",
              "       [ 5.58508348e+00],\n",
              "       [ 6.80696106e+00],\n",
              "       [ 5.41310835e+00],\n",
              "       [ 6.83791399e+00],\n",
              "       [ 6.05723476e+00],\n",
              "       [ 7.96832848e+00],\n",
              "       [ 9.70416641e+00],\n",
              "       [ 7.91639185e+00],\n",
              "       [ 1.23489952e+01],\n",
              "       [ 1.37960367e+01],\n",
              "       [ 1.28184042e+01],\n",
              "       [ 1.23832607e+01],\n",
              "       [ 1.05087299e+01],\n",
              "       [ 7.09708881e+00],\n",
              "       [ 4.94509363e+00],\n",
              "       [ 5.50660038e+00],\n",
              "       [ 5.02536774e+00],\n",
              "       [ 8.04389477e+00],\n",
              "       [ 5.58787298e+00],\n",
              "       [-1.49658000e+00],\n",
              "       [-2.57374263e+00],\n",
              "       [ 9.50598657e-01],\n",
              "       [ 6.52574062e+00],\n",
              "       [ 8.39218903e+00],\n",
              "       [-3.90097350e-01],\n",
              "       [-3.02657413e+00],\n",
              "       [-2.28392214e-01],\n",
              "       [ 2.02446461e+00],\n",
              "       [ 4.49825335e+00],\n",
              "       [ 9.76742897e-03],\n",
              "       [ 3.47293210e+00],\n",
              "       [-5.36905575e+00],\n",
              "       [-6.99357176e+00],\n",
              "       [-6.36260629e-01],\n",
              "       [-3.17466497e+00],\n",
              "       [-5.64201927e+00],\n",
              "       [-4.43879557e+00],\n",
              "       [-6.89719534e+00],\n",
              "       [-9.77330494e+00],\n",
              "       [-1.09574471e+01],\n",
              "       [-8.54150581e+00],\n",
              "       [-4.60541391e+00],\n",
              "       [-4.94904709e+00],\n",
              "       [-3.74280244e-01],\n",
              "       [-4.74326658e+00],\n",
              "       [-2.76757312e+00],\n",
              "       [-4.08121538e+00]], dtype=float32)"
            ]
          },
          "execution_count": 102,
          "metadata": {},
          "output_type": "execute_result"
        }
      ],
      "source": [
        "y_test_predicted"
      ]
    },
    {
      "cell_type": "code",
      "execution_count": null,
      "id": "lsAjoepQgAqd",
      "metadata": {
        "colab": {
          "base_uri": "https://localhost:8080/"
        },
        "id": "lsAjoepQgAqd",
        "outputId": "c87546d8-8b1a-42dd-d9bd-3ebc0d2e0154"
      },
      "outputs": [
        {
          "data": {
            "text/plain": [
              "(492, 1)"
            ]
          },
          "execution_count": 103,
          "metadata": {},
          "output_type": "execute_result"
        }
      ],
      "source": [
        "y_test_predicted.shape"
      ]
    },
    {
      "cell_type": "code",
      "execution_count": null,
      "id": "fnRAr-6N85OA",
      "metadata": {
        "id": "fnRAr-6N85OA"
      },
      "outputs": [],
      "source": [
        "y_predicted_train = model.predict(train_x)\n",
        "y_predicted_train = scaler_dataframe.inverse_transform(y_predicted_train)"
      ]
    },
    {
      "cell_type": "code",
      "execution_count": null,
      "id": "rT8bry1T4zLD",
      "metadata": {
        "colab": {
          "base_uri": "https://localhost:8080/"
        },
        "id": "rT8bry1T4zLD",
        "outputId": "83aa22f7-41bf-4c6d-ff0d-0153ace0019f"
      },
      "outputs": [
        {
          "data": {
            "text/plain": [
              "array([[-9.217171 ],\n",
              "       [-6.0391264],\n",
              "       [-8.94844  ],\n",
              "       ...,\n",
              "       [-9.929273 ],\n",
              "       [-1.8682023],\n",
              "       [ 5.1167045]], dtype=float32)"
            ]
          },
          "execution_count": 105,
          "metadata": {},
          "output_type": "execute_result"
        }
      ],
      "source": [
        "y_predicted_train"
      ]
    },
    {
      "cell_type": "code",
      "execution_count": null,
      "id": "esKs9TGf4VGx",
      "metadata": {
        "colab": {
          "base_uri": "https://localhost:8080/"
        },
        "id": "esKs9TGf4VGx",
        "outputId": "d18d7c2f-2948-45d4-b0eb-75e8f4142fb4"
      },
      "outputs": [
        {
          "data": {
            "text/plain": [
              "array([0.614632  , 0.60425297, 0.62320405, 0.5558102 , 0.55171147,\n",
              "       0.61970765, 0.58541208, 0.5399809 , 0.64422653, 0.54941971,\n",
              "       0.58367857, 0.60135155, 0.68029969, 0.61959747, 0.61106214,\n",
              "       0.57578228, 0.58965771, 0.59112678, 0.59608491, 0.57107389,\n",
              "       0.56751139, 0.61391949, 0.60240194, 0.5579477 , 0.59281622,\n",
              "       0.54814162, 0.49898634, 0.51485236, 0.62685471, 0.54866314,\n",
              "       0.59526223, 0.69225062, 0.5979286 , 0.57374761, 0.5720949 ,\n",
              "       0.48123255, 0.52350522, 0.61541795, 0.55641252, 0.56776847,\n",
              "       0.5796533 , 0.60503893, 0.66765829, 0.54719406, 0.56065815,\n",
              "       0.54855296, 0.57653151, 0.64403555, 0.64468195, 0.60673571,\n",
              "       0.54991186, 0.67750845, 0.51447774, 0.55727193, 0.53843103,\n",
              "       0.56258264, 0.48548553, 0.46521228, 0.49609226, 0.55847657,\n",
              "       0.64328632, 0.66148817, 0.54806082, 0.69676803, 0.61918613,\n",
              "       0.59590128, 0.57664904, 0.55227707, 0.52343176, 0.53873219,\n",
              "       0.70138828, 0.61391215, 0.42147789, 0.52659027, 0.60000735,\n",
              "       0.65437785, 0.7301234 , 0.60918172, 0.61330983, 0.55644924,\n",
              "       0.53467754, 0.67551785, 0.60179962, 0.61346408, 0.67089761,\n",
              "       0.63663141, 0.60255619, 0.54915528, 0.72387983, 0.52226385,\n",
              "       0.61978111, 0.59168503, 0.76923755, 0.59533568, 0.56735713,\n",
              "       0.62858087, 0.64798737, 0.45400323, 0.64344058, 0.5930072 ,\n",
              "       0.65107243, 0.66833407, 0.34933892, 0.61083444, 0.52666373,\n",
              "       0.5693918 , 0.66355957, 0.55558249, 0.64087704, 0.45554576,\n",
              "       0.46833407, 0.66250918, 0.73411194, 0.65144704, 0.68014544,\n",
              "       0.63858528, 0.55295284, 0.58281916, 0.63317173, 0.53828412,\n",
              "       0.64964008, 0.78661672, 0.55427501, 0.58999559, 0.72350522,\n",
              "       0.59980902, 0.58857059, 0.60260026, 0.54892757, 0.62515793,\n",
              "       0.64163361, 0.55114588, 0.73840165, 0.53700602, 0.52696489,\n",
              "       0.51165712, 0.63350962, 0.55949758, 0.62407081, 0.64659909,\n",
              "       0.50872631, 0.54023799, 0.5819524 , 0.6168503 , 0.65152049,\n",
              "       0.54174379, 0.6047745 , 0.66735713, 0.57717056, 0.59646687,\n",
              "       0.56084913, 0.52832378, 0.52632584, 0.48991479, 0.46386073,\n",
              "       0.68999559, 0.55968856, 0.58142353, 0.52847069, 0.52602468,\n",
              "       0.53813721, 0.49089907, 0.69781842, 0.55709564, 0.50041869,\n",
              "       0.65935067, 0.61466872, 0.57137506, 0.69905979, 0.60489202,\n",
              "       0.63184957, 0.58590422, 0.54670927, 0.64802409, 0.50617012,\n",
              "       0.58627149, 0.67668576, 0.58134274, 0.5960188 , 0.56062876,\n",
              "       0.60297488, 0.51842956, 0.39149405, 0.61884824, 0.43384751,\n",
              "       0.67197738, 0.5887175 , 0.59319083, 0.5593874 , 0.56228147,\n",
              "       0.65558983, 0.58168797, 0.61936977, 0.63162921, 0.60676509,\n",
              "       0.6434773 , 0.65633906, 0.54663582, 0.62910974, 0.56901719,\n",
              "       0.5377626 , 0.4888644 , 0.45840311, 0.59845747, 0.50495813,\n",
              "       0.62561334, 0.5628838 , 0.58740267, 0.56897312, 0.63072572,\n",
              "       0.70353313, 0.66224475, 0.57732481, 0.64178052, 0.6559571 ,\n",
              "       0.61240635, 0.66283972, 0.55005876, 0.6281328 , 0.53493463,\n",
              "       0.5944322 , 0.55431174, 0.59308065, 0.54430733, 0.6245556 ,\n",
              "       0.51587337, 0.56622594, 0.52305715, 0.64704716, 0.5999192 ,\n",
              "       0.51790804, 0.61169384, 0.60552373, 0.55020567, 0.57984428,\n",
              "       0.53812987, 0.64532099, 0.514632  , 0.5825841 , 0.57919788,\n",
              "       0.5538196 , 0.4851403 , 0.60251947, 0.51797414, 0.5874394 ,\n",
              "       0.56145145, 0.58529455, 0.55738945, 0.49947113, 0.67244014,\n",
              "       0.6183561 , 0.57799324, 0.64340385, 0.56201704, 0.57532687,\n",
              "       0.62429852, 0.5593874 , 0.53881299, 0.59680476, 0.59334509,\n",
              "       0.51165712, 0.60271045, 0.58732922, 0.51508006, 0.64679007,\n",
              "       0.54753195, 0.64452769, 0.58247392, 0.64449831, 0.61026884,\n",
              "       0.62831644, 0.52636991, 0.53400176, 0.61745262, 0.6274203 ,\n",
              "       0.55190245, 0.5636771 , 0.62971206, 0.59755399, 0.49717937,\n",
              "       0.59029675, 0.62850742, 0.62805201, 0.58367857, 0.61989129,\n",
              "       0.66611576, 0.6236154 , 0.60391509, 0.54073013, 0.64637138,\n",
              "       0.59800206, 0.59485089, 0.65769061, 0.57574556, 0.61045248,\n",
              "       0.54076686, 0.5447554 , 0.58909211, 0.57991773, 0.59902306,\n",
              "       0.60519318, 0.61793742, 0.60455414, 0.55501689, 0.59815631,\n",
              "       0.57972675, 0.5585133 , 0.65351844, 0.59094315, 0.58439841,\n",
              "       0.65475981, 0.76340532, 0.73745409, 0.66607904, 0.65803585,\n",
              "       0.52215367, 0.59390333, 0.69315411, 0.50067577, 0.57950639,\n",
              "       0.62986631, 0.60244601, 0.54423388, 0.61504334, 0.53237843,\n",
              "       0.61888497, 0.60608932, 0.61361833, 0.62147789, 0.65931394,\n",
              "       0.57329954, 0.56840752, 0.64829587, 0.56645365, 0.63242251,\n",
              "       0.59128103, 0.59822976, 0.65460555, 0.56341266, 0.5909358 ,\n",
              "       0.5132731 , 0.5763846 , 0.52331424, 0.6286984 , 0.61165712,\n",
              "       0.54460115, 0.5917291 , 0.52203614, 0.54072279, 0.56141472,\n",
              "       0.63802703, 0.56732041, 0.64061995, 0.50345967, 0.63801969,\n",
              "       0.57021449, 0.57141913, 0.57483473, 0.53997356, 0.56261936,\n",
              "       0.61823858, 0.51632143, 0.6027839 , 0.57371823, 0.65539885,\n",
              "       0.57352725, 0.58194506, 0.60718378, 0.62143382, 0.54964008,\n",
              "       0.58503746, 0.50564125, 0.42888203, 0.59375643, 0.52858087,\n",
              "       0.57548112, 0.64539445, 0.4986411 , 0.55110915, 0.54306596,\n",
              "       0.64001763, 0.59360952, 0.65686058, 0.63922433, 0.58206258,\n",
              "       0.55186573, 0.55456883, 0.63741736, 0.61846628, 0.62282944,\n",
              "       0.57593654, 0.54031879, 0.60722051, 0.56355957, 0.56980314,\n",
              "       0.61767298, 0.56739386, 0.65389305, 0.59936095, 0.62903629,\n",
              "       0.61007786, 0.54242691, 0.6755913 , 0.52102248, 0.60202732,\n",
              "       0.50669164, 0.57246952, 0.69044366, 0.60251947, 0.51263405,\n",
              "       0.6090642 , 0.55295284, 0.5376818 , 0.53805641, 0.56333186,\n",
              "       0.65475981, 0.54874394, 0.51790069, 0.56404437, 0.47867636,\n",
              "       0.54633466, 0.60838842, 0.54471867, 0.58259145, 0.61275158,\n",
              "       0.68097547, 0.52580432, 0.5630307 , 0.58533862, 0.5643896 ,\n",
              "       0.60263699, 0.48420009, 0.5797341 , 0.63377406, 0.53922433,\n",
              "       0.63464081, 0.52955781, 0.5572352 , 0.65024974, 0.56465403,\n",
              "       0.54930219, 0.50180696, 0.56968562, 0.54569561, 0.53192302,\n",
              "       0.61011459, 0.56220068, 0.58770383, 0.56645365, 0.54234611,\n",
              "       0.58292934, 0.62256501, 0.58295872, 0.54118554, 0.62395328,\n",
              "       0.69969884, 0.55167475, 0.53456001, 0.48901866, 0.56318496,\n",
              "       0.61654914, 0.59082562, 0.62211694, 0.56333921, 0.51541795,\n",
              "       0.61974438, 0.64444689, 0.57194799, 0.55810195, 0.6301234 ,\n",
              "       0.63275305, 0.50575143, 0.6706699 , 0.64095784, 0.63678566,\n",
              "       0.54501983, 0.76318496, 0.43843837, 0.57623035, 0.62590715,\n",
              "       0.60677244, 0.65758043, 0.49781842, 0.54363156, 0.7196342 ,\n",
              "       0.59563684, 0.70522991, 0.51135596, 0.52696489, 0.59387395,\n",
              "       0.54434406, 0.5874394 ])"
            ]
          },
          "execution_count": 106,
          "metadata": {},
          "output_type": "execute_result"
        }
      ],
      "source": [
        "test_y"
      ]
    },
    {
      "cell_type": "code",
      "execution_count": null,
      "id": "gTE3LpSPfe4L",
      "metadata": {
        "id": "gTE3LpSPfe4L"
      },
      "outputs": [],
      "source": [
        "test_y_ = test_y.reshape(1,-1)"
      ]
    },
    {
      "cell_type": "code",
      "execution_count": null,
      "id": "7bZLPgkMfn5p",
      "metadata": {
        "colab": {
          "base_uri": "https://localhost:8080/"
        },
        "id": "7bZLPgkMfn5p",
        "outputId": "fce7349e-e4e5-47d7-9671-95aad45902d3"
      },
      "outputs": [
        {
          "data": {
            "text/plain": [
              "array([[0.614632  , 0.60425297, 0.62320405, 0.5558102 , 0.55171147,\n",
              "        0.61970765, 0.58541208, 0.5399809 , 0.64422653, 0.54941971,\n",
              "        0.58367857, 0.60135155, 0.68029969, 0.61959747, 0.61106214,\n",
              "        0.57578228, 0.58965771, 0.59112678, 0.59608491, 0.57107389,\n",
              "        0.56751139, 0.61391949, 0.60240194, 0.5579477 , 0.59281622,\n",
              "        0.54814162, 0.49898634, 0.51485236, 0.62685471, 0.54866314,\n",
              "        0.59526223, 0.69225062, 0.5979286 , 0.57374761, 0.5720949 ,\n",
              "        0.48123255, 0.52350522, 0.61541795, 0.55641252, 0.56776847,\n",
              "        0.5796533 , 0.60503893, 0.66765829, 0.54719406, 0.56065815,\n",
              "        0.54855296, 0.57653151, 0.64403555, 0.64468195, 0.60673571,\n",
              "        0.54991186, 0.67750845, 0.51447774, 0.55727193, 0.53843103,\n",
              "        0.56258264, 0.48548553, 0.46521228, 0.49609226, 0.55847657,\n",
              "        0.64328632, 0.66148817, 0.54806082, 0.69676803, 0.61918613,\n",
              "        0.59590128, 0.57664904, 0.55227707, 0.52343176, 0.53873219,\n",
              "        0.70138828, 0.61391215, 0.42147789, 0.52659027, 0.60000735,\n",
              "        0.65437785, 0.7301234 , 0.60918172, 0.61330983, 0.55644924,\n",
              "        0.53467754, 0.67551785, 0.60179962, 0.61346408, 0.67089761,\n",
              "        0.63663141, 0.60255619, 0.54915528, 0.72387983, 0.52226385,\n",
              "        0.61978111, 0.59168503, 0.76923755, 0.59533568, 0.56735713,\n",
              "        0.62858087, 0.64798737, 0.45400323, 0.64344058, 0.5930072 ,\n",
              "        0.65107243, 0.66833407, 0.34933892, 0.61083444, 0.52666373,\n",
              "        0.5693918 , 0.66355957, 0.55558249, 0.64087704, 0.45554576,\n",
              "        0.46833407, 0.66250918, 0.73411194, 0.65144704, 0.68014544,\n",
              "        0.63858528, 0.55295284, 0.58281916, 0.63317173, 0.53828412,\n",
              "        0.64964008, 0.78661672, 0.55427501, 0.58999559, 0.72350522,\n",
              "        0.59980902, 0.58857059, 0.60260026, 0.54892757, 0.62515793,\n",
              "        0.64163361, 0.55114588, 0.73840165, 0.53700602, 0.52696489,\n",
              "        0.51165712, 0.63350962, 0.55949758, 0.62407081, 0.64659909,\n",
              "        0.50872631, 0.54023799, 0.5819524 , 0.6168503 , 0.65152049,\n",
              "        0.54174379, 0.6047745 , 0.66735713, 0.57717056, 0.59646687,\n",
              "        0.56084913, 0.52832378, 0.52632584, 0.48991479, 0.46386073,\n",
              "        0.68999559, 0.55968856, 0.58142353, 0.52847069, 0.52602468,\n",
              "        0.53813721, 0.49089907, 0.69781842, 0.55709564, 0.50041869,\n",
              "        0.65935067, 0.61466872, 0.57137506, 0.69905979, 0.60489202,\n",
              "        0.63184957, 0.58590422, 0.54670927, 0.64802409, 0.50617012,\n",
              "        0.58627149, 0.67668576, 0.58134274, 0.5960188 , 0.56062876,\n",
              "        0.60297488, 0.51842956, 0.39149405, 0.61884824, 0.43384751,\n",
              "        0.67197738, 0.5887175 , 0.59319083, 0.5593874 , 0.56228147,\n",
              "        0.65558983, 0.58168797, 0.61936977, 0.63162921, 0.60676509,\n",
              "        0.6434773 , 0.65633906, 0.54663582, 0.62910974, 0.56901719,\n",
              "        0.5377626 , 0.4888644 , 0.45840311, 0.59845747, 0.50495813,\n",
              "        0.62561334, 0.5628838 , 0.58740267, 0.56897312, 0.63072572,\n",
              "        0.70353313, 0.66224475, 0.57732481, 0.64178052, 0.6559571 ,\n",
              "        0.61240635, 0.66283972, 0.55005876, 0.6281328 , 0.53493463,\n",
              "        0.5944322 , 0.55431174, 0.59308065, 0.54430733, 0.6245556 ,\n",
              "        0.51587337, 0.56622594, 0.52305715, 0.64704716, 0.5999192 ,\n",
              "        0.51790804, 0.61169384, 0.60552373, 0.55020567, 0.57984428,\n",
              "        0.53812987, 0.64532099, 0.514632  , 0.5825841 , 0.57919788,\n",
              "        0.5538196 , 0.4851403 , 0.60251947, 0.51797414, 0.5874394 ,\n",
              "        0.56145145, 0.58529455, 0.55738945, 0.49947113, 0.67244014,\n",
              "        0.6183561 , 0.57799324, 0.64340385, 0.56201704, 0.57532687,\n",
              "        0.62429852, 0.5593874 , 0.53881299, 0.59680476, 0.59334509,\n",
              "        0.51165712, 0.60271045, 0.58732922, 0.51508006, 0.64679007,\n",
              "        0.54753195, 0.64452769, 0.58247392, 0.64449831, 0.61026884,\n",
              "        0.62831644, 0.52636991, 0.53400176, 0.61745262, 0.6274203 ,\n",
              "        0.55190245, 0.5636771 , 0.62971206, 0.59755399, 0.49717937,\n",
              "        0.59029675, 0.62850742, 0.62805201, 0.58367857, 0.61989129,\n",
              "        0.66611576, 0.6236154 , 0.60391509, 0.54073013, 0.64637138,\n",
              "        0.59800206, 0.59485089, 0.65769061, 0.57574556, 0.61045248,\n",
              "        0.54076686, 0.5447554 , 0.58909211, 0.57991773, 0.59902306,\n",
              "        0.60519318, 0.61793742, 0.60455414, 0.55501689, 0.59815631,\n",
              "        0.57972675, 0.5585133 , 0.65351844, 0.59094315, 0.58439841,\n",
              "        0.65475981, 0.76340532, 0.73745409, 0.66607904, 0.65803585,\n",
              "        0.52215367, 0.59390333, 0.69315411, 0.50067577, 0.57950639,\n",
              "        0.62986631, 0.60244601, 0.54423388, 0.61504334, 0.53237843,\n",
              "        0.61888497, 0.60608932, 0.61361833, 0.62147789, 0.65931394,\n",
              "        0.57329954, 0.56840752, 0.64829587, 0.56645365, 0.63242251,\n",
              "        0.59128103, 0.59822976, 0.65460555, 0.56341266, 0.5909358 ,\n",
              "        0.5132731 , 0.5763846 , 0.52331424, 0.6286984 , 0.61165712,\n",
              "        0.54460115, 0.5917291 , 0.52203614, 0.54072279, 0.56141472,\n",
              "        0.63802703, 0.56732041, 0.64061995, 0.50345967, 0.63801969,\n",
              "        0.57021449, 0.57141913, 0.57483473, 0.53997356, 0.56261936,\n",
              "        0.61823858, 0.51632143, 0.6027839 , 0.57371823, 0.65539885,\n",
              "        0.57352725, 0.58194506, 0.60718378, 0.62143382, 0.54964008,\n",
              "        0.58503746, 0.50564125, 0.42888203, 0.59375643, 0.52858087,\n",
              "        0.57548112, 0.64539445, 0.4986411 , 0.55110915, 0.54306596,\n",
              "        0.64001763, 0.59360952, 0.65686058, 0.63922433, 0.58206258,\n",
              "        0.55186573, 0.55456883, 0.63741736, 0.61846628, 0.62282944,\n",
              "        0.57593654, 0.54031879, 0.60722051, 0.56355957, 0.56980314,\n",
              "        0.61767298, 0.56739386, 0.65389305, 0.59936095, 0.62903629,\n",
              "        0.61007786, 0.54242691, 0.6755913 , 0.52102248, 0.60202732,\n",
              "        0.50669164, 0.57246952, 0.69044366, 0.60251947, 0.51263405,\n",
              "        0.6090642 , 0.55295284, 0.5376818 , 0.53805641, 0.56333186,\n",
              "        0.65475981, 0.54874394, 0.51790069, 0.56404437, 0.47867636,\n",
              "        0.54633466, 0.60838842, 0.54471867, 0.58259145, 0.61275158,\n",
              "        0.68097547, 0.52580432, 0.5630307 , 0.58533862, 0.5643896 ,\n",
              "        0.60263699, 0.48420009, 0.5797341 , 0.63377406, 0.53922433,\n",
              "        0.63464081, 0.52955781, 0.5572352 , 0.65024974, 0.56465403,\n",
              "        0.54930219, 0.50180696, 0.56968562, 0.54569561, 0.53192302,\n",
              "        0.61011459, 0.56220068, 0.58770383, 0.56645365, 0.54234611,\n",
              "        0.58292934, 0.62256501, 0.58295872, 0.54118554, 0.62395328,\n",
              "        0.69969884, 0.55167475, 0.53456001, 0.48901866, 0.56318496,\n",
              "        0.61654914, 0.59082562, 0.62211694, 0.56333921, 0.51541795,\n",
              "        0.61974438, 0.64444689, 0.57194799, 0.55810195, 0.6301234 ,\n",
              "        0.63275305, 0.50575143, 0.6706699 , 0.64095784, 0.63678566,\n",
              "        0.54501983, 0.76318496, 0.43843837, 0.57623035, 0.62590715,\n",
              "        0.60677244, 0.65758043, 0.49781842, 0.54363156, 0.7196342 ,\n",
              "        0.59563684, 0.70522991, 0.51135596, 0.52696489, 0.59387395,\n",
              "        0.54434406, 0.5874394 ]])"
            ]
          },
          "execution_count": 108,
          "metadata": {},
          "output_type": "execute_result"
        }
      ],
      "source": [
        "test_y_"
      ]
    },
    {
      "cell_type": "code",
      "execution_count": null,
      "id": "Bw-MgabffSYs",
      "metadata": {
        "id": "Bw-MgabffSYs"
      },
      "outputs": [],
      "source": [
        "test_y_ = scaler_dataframe.inverse_transform(test_y_)"
      ]
    },
    {
      "cell_type": "code",
      "execution_count": null,
      "id": "r7Z2bL8ae--6",
      "metadata": {
        "colab": {
          "base_uri": "https://localhost:8080/"
        },
        "id": "r7Z2bL8ae--6",
        "outputId": "77f50826-5d73-409f-8658-2107439f4dbb"
      },
      "outputs": [
        {
          "data": {
            "text/plain": [
              "array([[ 7.23046875e+00,  4.47070312e+00,  9.50976563e+00,\n",
              "        -8.41015625e+00, -9.50000000e+00,  8.58007812e+00,\n",
              "        -5.39062500e-01, -1.26191406e+01,  1.50996094e+01,\n",
              "        -1.01093750e+01, -1.00000000e+00,  3.69921875e+00,\n",
              "         2.46914062e+01,  8.55078125e+00,  6.28125000e+00,\n",
              "        -3.09960938e+00,  5.89843750e-01,  9.80468750e-01,\n",
              "         2.29882813e+00, -4.35156250e+00, -5.29882813e+00,\n",
              "         7.04101562e+00,  3.97851562e+00, -7.84179688e+00,\n",
              "         1.42968750e+00, -1.04492187e+01, -2.35195312e+01,\n",
              "        -1.93007812e+01,  1.04804687e+01, -1.03105469e+01,\n",
              "         2.08007812e+00,  2.78691406e+01,  2.78906250e+00,\n",
              "        -3.64062500e+00, -4.08007812e+00, -2.82402344e+01,\n",
              "        -1.70000000e+01,  7.43945312e+00, -8.25000000e+00,\n",
              "        -5.23046875e+00, -2.07031250e+00,  4.67968750e+00,\n",
              "         2.13300781e+01, -1.07011719e+01, -7.12109375e+00,\n",
              "        -1.03398437e+01, -2.90039063e+00,  1.50488281e+01,\n",
              "         1.52207031e+01,  5.13085937e+00, -9.97851563e+00,\n",
              "         2.39492188e+01, -1.94003906e+01, -8.02148437e+00,\n",
              "        -1.30312500e+01, -6.60937500e+00, -2.71093750e+01,\n",
              "        -3.25000000e+01, -2.42890625e+01, -7.70117188e+00,\n",
              "         1.48496094e+01,  1.96894531e+01, -1.04707031e+01,\n",
              "         2.90703125e+01,  8.44140625e+00,  2.25000000e+00,\n",
              "        -2.86914062e+00, -9.34960937e+00, -1.70195312e+01,\n",
              "        -1.29511719e+01,  3.02988281e+01,  7.03906250e+00,\n",
              "        -4.41289062e+01, -1.61796875e+01,  3.34179688e+00,\n",
              "         1.77988281e+01,  3.79394531e+01,  5.78125000e+00,\n",
              "         6.87890625e+00, -8.24023437e+00, -1.40292969e+01,\n",
              "         2.34199219e+01,  3.81835938e+00,  6.91992188e+00,\n",
              "         2.21914063e+01,  1.30800781e+01,  4.01953125e+00,\n",
              "        -1.01796875e+01,  3.62792969e+01, -1.73300781e+01,\n",
              "         8.59960937e+00,  1.12890625e+00,  4.83398438e+01,\n",
              "         2.09960938e+00, -5.33984375e+00,  1.09394531e+01,\n",
              "         1.60996094e+01, -3.54804688e+01,  1.48906250e+01,\n",
              "         1.48046875e+00,  1.69199219e+01,  2.15097656e+01,\n",
              "        -6.33105469e+01,  6.22070312e+00, -1.61601562e+01,\n",
              "        -4.79882813e+00,  2.02402344e+01, -8.47070312e+00,\n",
              "         1.42089844e+01, -3.50703125e+01, -3.16699219e+01,\n",
              "         1.99609375e+01,  3.90000000e+01,  1.70195312e+01,\n",
              "         2.46503906e+01,  1.35996094e+01, -9.16992188e+00,\n",
              "        -1.22851562e+00,  1.21601563e+01, -1.30703125e+01,\n",
              "         1.65390625e+01,  5.29609375e+01, -8.81835938e+00,\n",
              "         6.79687500e-01,  3.61796875e+01,  3.28906250e+00,\n",
              "         3.00781250e-01,  4.03125000e+00, -1.02402344e+01,\n",
              "         1.00292969e+01,  1.44101562e+01, -9.65039063e+00,\n",
              "         4.01406250e+01, -1.34101562e+01, -1.60800781e+01,\n",
              "        -2.01503906e+01,  1.22500000e+01, -7.42968750e+00,\n",
              "         9.74023437e+00,  1.57304688e+01, -2.09296875e+01,\n",
              "        -1.25507812e+01, -1.45898438e+00,  7.82031250e+00,\n",
              "         1.70390625e+01, -1.21503906e+01,  4.60937500e+00,\n",
              "         2.12500000e+01, -2.73046875e+00,  2.40039063e+00,\n",
              "        -7.07031250e+00, -1.57187500e+01, -1.62500000e+01,\n",
              "        -2.59316406e+01, -3.28593750e+01,  2.72695313e+01,\n",
              "        -7.37890625e+00, -1.59960938e+00, -1.56796875e+01,\n",
              "        -1.63300781e+01, -1.31093750e+01, -2.56699219e+01,\n",
              "         2.93496094e+01, -8.06835938e+00, -2.31386719e+01,\n",
              "         1.91210937e+01,  7.24023437e+00, -4.27148437e+00,\n",
              "         2.96796875e+01,  4.64062500e+00,  1.18085937e+01,\n",
              "        -4.08203125e-01, -1.08300781e+01,  1.61093750e+01,\n",
              "        -2.16093750e+01, -3.10546875e-01,  2.37304687e+01,\n",
              "        -1.62109375e+00,  2.28125000e+00, -7.12890625e+00,\n",
              "         4.13085937e+00, -1.83496094e+01, -5.21015625e+01,\n",
              "         8.35156250e+00, -4.08398438e+01,  2.24785156e+01,\n",
              "         3.39843750e-01,  1.52929687e+00, -7.45898438e+00,\n",
              "        -6.68945312e+00,  1.81210937e+01, -1.52929687e+00,\n",
              "         8.49023437e+00,  1.17500000e+01,  5.13867187e+00,\n",
              "         1.49003906e+01,  1.83203125e+01, -1.08496094e+01,\n",
              "         1.10800781e+01, -4.89843750e+00, -1.32089844e+01,\n",
              "        -2.62109375e+01, -3.43105469e+01,  2.92968750e+00,\n",
              "        -2.19316406e+01,  1.01503906e+01, -6.52929687e+00,\n",
              "        -9.76562500e-03, -4.91015625e+00,  1.15097656e+01,\n",
              "         3.08691406e+01,  1.98906250e+01, -2.68945313e+00,\n",
              "         1.44492187e+01,  1.82187500e+01,  6.63867187e+00,\n",
              "         2.00488281e+01, -9.93945312e+00,  1.08203125e+01,\n",
              "        -1.39609375e+01,  1.85937500e+00, -8.80859375e+00,\n",
              "         1.50000000e+00, -1.14687500e+01,  9.86914063e+00,\n",
              "        -1.90292969e+01, -5.64062500e+00, -1.71191406e+01,\n",
              "         1.58496094e+01,  3.31835937e+00, -1.84882812e+01,\n",
              "         6.44921875e+00,  4.80859375e+00, -9.90039062e+00,\n",
              "        -2.01953125e+00, -1.31113281e+01,  1.53906250e+01,\n",
              "        -1.93593750e+01, -1.29101563e+00, -2.19140625e+00,\n",
              "        -8.93945312e+00, -2.72011719e+01,  4.00976563e+00,\n",
              "        -1.84707031e+01,  0.00000000e+00, -6.91015625e+00,\n",
              "        -5.70312500e-01, -7.99023437e+00, -2.33906250e+01,\n",
              "         2.26015625e+01,  8.22070312e+00, -2.51171875e+00,\n",
              "         1.48808594e+01, -6.75976563e+00, -3.22070312e+00,\n",
              "         9.80078125e+00, -7.45898438e+00, -1.29296875e+01,\n",
              "         2.49023438e+00,  1.57031250e+00, -2.01503906e+01,\n",
              "         4.06054687e+00, -2.92968750e-02, -1.92402344e+01,\n",
              "         1.57812500e+01, -1.06113281e+01,  1.51796875e+01,\n",
              "        -1.32031250e+00,  1.51718750e+01,  6.07031250e+00,\n",
              "         1.08691406e+01, -1.62382813e+01, -1.42089844e+01,\n",
              "         7.98046875e+00,  1.06308594e+01, -9.44921875e+00,\n",
              "        -6.31835938e+00,  1.12402344e+01,  2.68945313e+00,\n",
              "        -2.40000000e+01,  7.59765625e-01,  1.09199219e+01,\n",
              "         1.07988281e+01, -1.00000000e+00,  8.62890625e+00,\n",
              "         2.09199219e+01,  9.61914063e+00,  4.38085937e+00,\n",
              "        -1.24199219e+01,  1.56699219e+01,  2.80859375e+00,\n",
              "         1.97070312e+00,  1.86796875e+01, -3.10937500e+00,\n",
              "         6.11914063e+00, -1.24101563e+01, -1.13496094e+01,\n",
              "         4.39453125e-01, -2.00000000e+00,  3.08007812e+00,\n",
              "         4.72070312e+00,  8.10937500e+00,  4.55078125e+00,\n",
              "        -8.62109375e+00,  2.84960938e+00, -2.05078125e+00,\n",
              "        -7.69140625e+00,  1.75703125e+01,  9.31640625e-01,\n",
              "        -8.08593750e-01,  1.79003906e+01,  4.67890625e+01,\n",
              "         3.98886719e+01,  2.09101562e+01,  1.87714844e+01,\n",
              "        -1.73593750e+01,  1.71875000e+00,  2.81093750e+01,\n",
              "        -2.30703125e+01, -2.10937500e+00,  1.12812500e+01,\n",
              "         3.99023438e+00, -1.14882813e+01,  7.33984375e+00,\n",
              "        -1.46406250e+01,  8.36132813e+00,  4.95898438e+00,\n",
              "         6.96093750e+00,  9.05078125e+00,  1.91113281e+01,\n",
              "        -3.75976563e+00, -5.06054688e+00,  1.61816406e+01,\n",
              "        -5.58007812e+00,  1.19609375e+01,  1.02148438e+00,\n",
              "         2.86914062e+00,  1.78593750e+01, -6.38867187e+00,\n",
              "         9.29687500e-01, -1.97207031e+01, -2.93945313e+00,\n",
              "        -1.70507812e+01,  1.09707031e+01,  6.43945312e+00,\n",
              "        -1.13906250e+01,  1.14062500e+00, -1.73906250e+01,\n",
              "        -1.24218750e+01, -6.91992188e+00,  1.34511719e+01,\n",
              "        -5.34960938e+00,  1.41406250e+01, -2.23300781e+01,\n",
              "         1.34492187e+01, -4.58007812e+00, -4.25976563e+00,\n",
              "        -3.35156250e+00, -1.26210938e+01, -6.59960938e+00,\n",
              "         8.18945312e+00, -1.89101562e+01,  4.08007812e+00,\n",
              "        -3.64843750e+00,  1.80703125e+01, -3.69921875e+00,\n",
              "        -1.46093750e+00,  5.25000000e+00,  9.03906250e+00,\n",
              "        -1.00507812e+01, -6.38671875e-01, -2.17500000e+01,\n",
              "        -4.21601563e+01,  1.67968750e+00, -1.56503906e+01,\n",
              "        -3.17968750e+00,  1.54101562e+01, -2.36113281e+01,\n",
              "        -9.66015625e+00, -1.17988281e+01,  1.39804688e+01,\n",
              "         1.64062500e+00,  1.84589844e+01,  1.37695313e+01,\n",
              "        -1.42968750e+00, -9.45898437e+00, -8.74023437e+00,\n",
              "         1.32890625e+01,  8.25000000e+00,  9.41015625e+00,\n",
              "        -3.05859375e+00, -1.25292969e+01,  5.25976563e+00,\n",
              "        -6.34960938e+00, -4.68945312e+00,  8.03906250e+00,\n",
              "        -5.33007812e+00,  1.76699219e+01,  3.16992187e+00,\n",
              "         1.10605469e+01,  6.01953125e+00, -1.19687500e+01,\n",
              "         2.34394531e+01, -1.76601562e+01,  3.87890625e+00,\n",
              "        -2.14707031e+01, -3.98046875e+00,  2.73886719e+01,\n",
              "         4.00976563e+00, -1.98906250e+01,  5.75000000e+00,\n",
              "        -9.16992188e+00, -1.32304688e+01, -1.31308594e+01,\n",
              "        -6.41015625e+00,  1.79003906e+01, -1.02890625e+01,\n",
              "        -1.84902344e+01, -6.22070312e+00, -2.89199219e+01,\n",
              "        -1.09296875e+01,  5.57031250e+00, -1.13593750e+01,\n",
              "        -1.28906250e+00,  6.73046875e+00,  2.48710937e+01,\n",
              "        -1.63886719e+01, -6.49023437e+00, -5.58593750e-01,\n",
              "        -6.12890625e+00,  4.04101563e+00, -2.74511719e+01,\n",
              "        -2.04882813e+00,  1.23203125e+01, -1.28203125e+01,\n",
              "         1.25507812e+01, -1.53906250e+01, -8.03125000e+00,\n",
              "         1.67011719e+01, -6.05859375e+00, -1.01406250e+01,\n",
              "        -2.27695312e+01, -4.72070312e+00, -1.10996094e+01,\n",
              "        -1.47617188e+01,  6.02929687e+00, -6.71093750e+00,\n",
              "         7.03125000e-02, -5.58007812e+00, -1.19902344e+01,\n",
              "        -1.19921875e+00,  9.33984375e+00, -1.19140625e+00,\n",
              "        -1.22988281e+01,  9.70898437e+00,  2.98496094e+01,\n",
              "        -9.50976563e+00, -1.40605469e+01, -2.61699219e+01,\n",
              "        -6.44921875e+00,  7.74023437e+00,  9.00390625e-01,\n",
              "         9.22070313e+00, -6.40820313e+00, -1.91503906e+01,\n",
              "         8.58984375e+00,  1.51582031e+01, -4.11914062e+00,\n",
              "        -7.80078125e+00,  1.13496094e+01,  1.20488281e+01,\n",
              "        -2.17207031e+01,  2.21308594e+01,  1.42304688e+01,\n",
              "         1.31210938e+01, -1.12792969e+01,  4.67304688e+01,\n",
              "        -3.96191406e+01, -2.98046875e+00,  1.02285156e+01,\n",
              "         5.14062500e+00,  1.86503906e+01, -2.38300781e+01,\n",
              "        -1.16484375e+01,  3.51503906e+01,  2.17968750e+00,\n",
              "         3.13203125e+01, -2.02304688e+01, -1.60800781e+01,\n",
              "         1.71093750e+00, -1.14589844e+01,  0.00000000e+00]])"
            ]
          },
          "execution_count": 110,
          "metadata": {},
          "output_type": "execute_result"
        }
      ],
      "source": [
        "test_y_"
      ]
    },
    {
      "cell_type": "code",
      "execution_count": null,
      "id": "_tGv41uIf2vk",
      "metadata": {
        "id": "_tGv41uIf2vk"
      },
      "outputs": [],
      "source": [
        "test_y_ = test_y_.reshape(-1,1)"
      ]
    },
    {
      "cell_type": "code",
      "execution_count": null,
      "id": "tymBDK-ggErR",
      "metadata": {
        "colab": {
          "base_uri": "https://localhost:8080/"
        },
        "id": "tymBDK-ggErR",
        "outputId": "cc56b494-17a9-4e44-9f42-2bbe3bb00d0d"
      },
      "outputs": [
        {
          "data": {
            "text/plain": [
              "(492, 1)"
            ]
          },
          "execution_count": 112,
          "metadata": {},
          "output_type": "execute_result"
        }
      ],
      "source": [
        "test_y_.shape"
      ]
    },
    {
      "cell_type": "code",
      "execution_count": null,
      "id": "eVyLNE3tlmzf",
      "metadata": {
        "colab": {
          "base_uri": "https://localhost:8080/"
        },
        "id": "eVyLNE3tlmzf",
        "outputId": "2649cdcc-0f1c-47f8-90ef-4c660b811117"
      },
      "outputs": [
        {
          "data": {
            "text/plain": [
              "array([[ 7.23046875e+00],\n",
              "       [ 4.47070312e+00],\n",
              "       [ 9.50976563e+00],\n",
              "       [-8.41015625e+00],\n",
              "       [-9.50000000e+00],\n",
              "       [ 8.58007812e+00],\n",
              "       [-5.39062500e-01],\n",
              "       [-1.26191406e+01],\n",
              "       [ 1.50996094e+01],\n",
              "       [-1.01093750e+01],\n",
              "       [-1.00000000e+00],\n",
              "       [ 3.69921875e+00],\n",
              "       [ 2.46914062e+01],\n",
              "       [ 8.55078125e+00],\n",
              "       [ 6.28125000e+00],\n",
              "       [-3.09960938e+00],\n",
              "       [ 5.89843750e-01],\n",
              "       [ 9.80468750e-01],\n",
              "       [ 2.29882813e+00],\n",
              "       [-4.35156250e+00],\n",
              "       [-5.29882813e+00],\n",
              "       [ 7.04101562e+00],\n",
              "       [ 3.97851562e+00],\n",
              "       [-7.84179688e+00],\n",
              "       [ 1.42968750e+00],\n",
              "       [-1.04492187e+01],\n",
              "       [-2.35195312e+01],\n",
              "       [-1.93007812e+01],\n",
              "       [ 1.04804687e+01],\n",
              "       [-1.03105469e+01],\n",
              "       [ 2.08007812e+00],\n",
              "       [ 2.78691406e+01],\n",
              "       [ 2.78906250e+00],\n",
              "       [-3.64062500e+00],\n",
              "       [-4.08007812e+00],\n",
              "       [-2.82402344e+01],\n",
              "       [-1.70000000e+01],\n",
              "       [ 7.43945312e+00],\n",
              "       [-8.25000000e+00],\n",
              "       [-5.23046875e+00],\n",
              "       [-2.07031250e+00],\n",
              "       [ 4.67968750e+00],\n",
              "       [ 2.13300781e+01],\n",
              "       [-1.07011719e+01],\n",
              "       [-7.12109375e+00],\n",
              "       [-1.03398437e+01],\n",
              "       [-2.90039063e+00],\n",
              "       [ 1.50488281e+01],\n",
              "       [ 1.52207031e+01],\n",
              "       [ 5.13085937e+00],\n",
              "       [-9.97851563e+00],\n",
              "       [ 2.39492188e+01],\n",
              "       [-1.94003906e+01],\n",
              "       [-8.02148437e+00],\n",
              "       [-1.30312500e+01],\n",
              "       [-6.60937500e+00],\n",
              "       [-2.71093750e+01],\n",
              "       [-3.25000000e+01],\n",
              "       [-2.42890625e+01],\n",
              "       [-7.70117188e+00],\n",
              "       [ 1.48496094e+01],\n",
              "       [ 1.96894531e+01],\n",
              "       [-1.04707031e+01],\n",
              "       [ 2.90703125e+01],\n",
              "       [ 8.44140625e+00],\n",
              "       [ 2.25000000e+00],\n",
              "       [-2.86914062e+00],\n",
              "       [-9.34960937e+00],\n",
              "       [-1.70195312e+01],\n",
              "       [-1.29511719e+01],\n",
              "       [ 3.02988281e+01],\n",
              "       [ 7.03906250e+00],\n",
              "       [-4.41289062e+01],\n",
              "       [-1.61796875e+01],\n",
              "       [ 3.34179688e+00],\n",
              "       [ 1.77988281e+01],\n",
              "       [ 3.79394531e+01],\n",
              "       [ 5.78125000e+00],\n",
              "       [ 6.87890625e+00],\n",
              "       [-8.24023437e+00],\n",
              "       [-1.40292969e+01],\n",
              "       [ 2.34199219e+01],\n",
              "       [ 3.81835938e+00],\n",
              "       [ 6.91992188e+00],\n",
              "       [ 2.21914063e+01],\n",
              "       [ 1.30800781e+01],\n",
              "       [ 4.01953125e+00],\n",
              "       [-1.01796875e+01],\n",
              "       [ 3.62792969e+01],\n",
              "       [-1.73300781e+01],\n",
              "       [ 8.59960937e+00],\n",
              "       [ 1.12890625e+00],\n",
              "       [ 4.83398438e+01],\n",
              "       [ 2.09960938e+00],\n",
              "       [-5.33984375e+00],\n",
              "       [ 1.09394531e+01],\n",
              "       [ 1.60996094e+01],\n",
              "       [-3.54804688e+01],\n",
              "       [ 1.48906250e+01],\n",
              "       [ 1.48046875e+00],\n",
              "       [ 1.69199219e+01],\n",
              "       [ 2.15097656e+01],\n",
              "       [-6.33105469e+01],\n",
              "       [ 6.22070312e+00],\n",
              "       [-1.61601562e+01],\n",
              "       [-4.79882813e+00],\n",
              "       [ 2.02402344e+01],\n",
              "       [-8.47070312e+00],\n",
              "       [ 1.42089844e+01],\n",
              "       [-3.50703125e+01],\n",
              "       [-3.16699219e+01],\n",
              "       [ 1.99609375e+01],\n",
              "       [ 3.90000000e+01],\n",
              "       [ 1.70195312e+01],\n",
              "       [ 2.46503906e+01],\n",
              "       [ 1.35996094e+01],\n",
              "       [-9.16992188e+00],\n",
              "       [-1.22851562e+00],\n",
              "       [ 1.21601563e+01],\n",
              "       [-1.30703125e+01],\n",
              "       [ 1.65390625e+01],\n",
              "       [ 5.29609375e+01],\n",
              "       [-8.81835938e+00],\n",
              "       [ 6.79687500e-01],\n",
              "       [ 3.61796875e+01],\n",
              "       [ 3.28906250e+00],\n",
              "       [ 3.00781250e-01],\n",
              "       [ 4.03125000e+00],\n",
              "       [-1.02402344e+01],\n",
              "       [ 1.00292969e+01],\n",
              "       [ 1.44101562e+01],\n",
              "       [-9.65039063e+00],\n",
              "       [ 4.01406250e+01],\n",
              "       [-1.34101562e+01],\n",
              "       [-1.60800781e+01],\n",
              "       [-2.01503906e+01],\n",
              "       [ 1.22500000e+01],\n",
              "       [-7.42968750e+00],\n",
              "       [ 9.74023437e+00],\n",
              "       [ 1.57304688e+01],\n",
              "       [-2.09296875e+01],\n",
              "       [-1.25507812e+01],\n",
              "       [-1.45898438e+00],\n",
              "       [ 7.82031250e+00],\n",
              "       [ 1.70390625e+01],\n",
              "       [-1.21503906e+01],\n",
              "       [ 4.60937500e+00],\n",
              "       [ 2.12500000e+01],\n",
              "       [-2.73046875e+00],\n",
              "       [ 2.40039063e+00],\n",
              "       [-7.07031250e+00],\n",
              "       [-1.57187500e+01],\n",
              "       [-1.62500000e+01],\n",
              "       [-2.59316406e+01],\n",
              "       [-3.28593750e+01],\n",
              "       [ 2.72695313e+01],\n",
              "       [-7.37890625e+00],\n",
              "       [-1.59960938e+00],\n",
              "       [-1.56796875e+01],\n",
              "       [-1.63300781e+01],\n",
              "       [-1.31093750e+01],\n",
              "       [-2.56699219e+01],\n",
              "       [ 2.93496094e+01],\n",
              "       [-8.06835938e+00],\n",
              "       [-2.31386719e+01],\n",
              "       [ 1.91210937e+01],\n",
              "       [ 7.24023437e+00],\n",
              "       [-4.27148437e+00],\n",
              "       [ 2.96796875e+01],\n",
              "       [ 4.64062500e+00],\n",
              "       [ 1.18085937e+01],\n",
              "       [-4.08203125e-01],\n",
              "       [-1.08300781e+01],\n",
              "       [ 1.61093750e+01],\n",
              "       [-2.16093750e+01],\n",
              "       [-3.10546875e-01],\n",
              "       [ 2.37304687e+01],\n",
              "       [-1.62109375e+00],\n",
              "       [ 2.28125000e+00],\n",
              "       [-7.12890625e+00],\n",
              "       [ 4.13085937e+00],\n",
              "       [-1.83496094e+01],\n",
              "       [-5.21015625e+01],\n",
              "       [ 8.35156250e+00],\n",
              "       [-4.08398438e+01],\n",
              "       [ 2.24785156e+01],\n",
              "       [ 3.39843750e-01],\n",
              "       [ 1.52929687e+00],\n",
              "       [-7.45898438e+00],\n",
              "       [-6.68945312e+00],\n",
              "       [ 1.81210937e+01],\n",
              "       [-1.52929687e+00],\n",
              "       [ 8.49023437e+00],\n",
              "       [ 1.17500000e+01],\n",
              "       [ 5.13867187e+00],\n",
              "       [ 1.49003906e+01],\n",
              "       [ 1.83203125e+01],\n",
              "       [-1.08496094e+01],\n",
              "       [ 1.10800781e+01],\n",
              "       [-4.89843750e+00],\n",
              "       [-1.32089844e+01],\n",
              "       [-2.62109375e+01],\n",
              "       [-3.43105469e+01],\n",
              "       [ 2.92968750e+00],\n",
              "       [-2.19316406e+01],\n",
              "       [ 1.01503906e+01],\n",
              "       [-6.52929687e+00],\n",
              "       [-9.76562500e-03],\n",
              "       [-4.91015625e+00],\n",
              "       [ 1.15097656e+01],\n",
              "       [ 3.08691406e+01],\n",
              "       [ 1.98906250e+01],\n",
              "       [-2.68945313e+00],\n",
              "       [ 1.44492187e+01],\n",
              "       [ 1.82187500e+01],\n",
              "       [ 6.63867187e+00],\n",
              "       [ 2.00488281e+01],\n",
              "       [-9.93945312e+00],\n",
              "       [ 1.08203125e+01],\n",
              "       [-1.39609375e+01],\n",
              "       [ 1.85937500e+00],\n",
              "       [-8.80859375e+00],\n",
              "       [ 1.50000000e+00],\n",
              "       [-1.14687500e+01],\n",
              "       [ 9.86914063e+00],\n",
              "       [-1.90292969e+01],\n",
              "       [-5.64062500e+00],\n",
              "       [-1.71191406e+01],\n",
              "       [ 1.58496094e+01],\n",
              "       [ 3.31835937e+00],\n",
              "       [-1.84882812e+01],\n",
              "       [ 6.44921875e+00],\n",
              "       [ 4.80859375e+00],\n",
              "       [-9.90039062e+00],\n",
              "       [-2.01953125e+00],\n",
              "       [-1.31113281e+01],\n",
              "       [ 1.53906250e+01],\n",
              "       [-1.93593750e+01],\n",
              "       [-1.29101563e+00],\n",
              "       [-2.19140625e+00],\n",
              "       [-8.93945312e+00],\n",
              "       [-2.72011719e+01],\n",
              "       [ 4.00976563e+00],\n",
              "       [-1.84707031e+01],\n",
              "       [ 0.00000000e+00],\n",
              "       [-6.91015625e+00],\n",
              "       [-5.70312500e-01],\n",
              "       [-7.99023437e+00],\n",
              "       [-2.33906250e+01],\n",
              "       [ 2.26015625e+01],\n",
              "       [ 8.22070312e+00],\n",
              "       [-2.51171875e+00],\n",
              "       [ 1.48808594e+01],\n",
              "       [-6.75976563e+00],\n",
              "       [-3.22070312e+00],\n",
              "       [ 9.80078125e+00],\n",
              "       [-7.45898438e+00],\n",
              "       [-1.29296875e+01],\n",
              "       [ 2.49023438e+00],\n",
              "       [ 1.57031250e+00],\n",
              "       [-2.01503906e+01],\n",
              "       [ 4.06054687e+00],\n",
              "       [-2.92968750e-02],\n",
              "       [-1.92402344e+01],\n",
              "       [ 1.57812500e+01],\n",
              "       [-1.06113281e+01],\n",
              "       [ 1.51796875e+01],\n",
              "       [-1.32031250e+00],\n",
              "       [ 1.51718750e+01],\n",
              "       [ 6.07031250e+00],\n",
              "       [ 1.08691406e+01],\n",
              "       [-1.62382813e+01],\n",
              "       [-1.42089844e+01],\n",
              "       [ 7.98046875e+00],\n",
              "       [ 1.06308594e+01],\n",
              "       [-9.44921875e+00],\n",
              "       [-6.31835938e+00],\n",
              "       [ 1.12402344e+01],\n",
              "       [ 2.68945313e+00],\n",
              "       [-2.40000000e+01],\n",
              "       [ 7.59765625e-01],\n",
              "       [ 1.09199219e+01],\n",
              "       [ 1.07988281e+01],\n",
              "       [-1.00000000e+00],\n",
              "       [ 8.62890625e+00],\n",
              "       [ 2.09199219e+01],\n",
              "       [ 9.61914063e+00],\n",
              "       [ 4.38085937e+00],\n",
              "       [-1.24199219e+01],\n",
              "       [ 1.56699219e+01],\n",
              "       [ 2.80859375e+00],\n",
              "       [ 1.97070312e+00],\n",
              "       [ 1.86796875e+01],\n",
              "       [-3.10937500e+00],\n",
              "       [ 6.11914063e+00],\n",
              "       [-1.24101563e+01],\n",
              "       [-1.13496094e+01],\n",
              "       [ 4.39453125e-01],\n",
              "       [-2.00000000e+00],\n",
              "       [ 3.08007812e+00],\n",
              "       [ 4.72070312e+00],\n",
              "       [ 8.10937500e+00],\n",
              "       [ 4.55078125e+00],\n",
              "       [-8.62109375e+00],\n",
              "       [ 2.84960938e+00],\n",
              "       [-2.05078125e+00],\n",
              "       [-7.69140625e+00],\n",
              "       [ 1.75703125e+01],\n",
              "       [ 9.31640625e-01],\n",
              "       [-8.08593750e-01],\n",
              "       [ 1.79003906e+01],\n",
              "       [ 4.67890625e+01],\n",
              "       [ 3.98886719e+01],\n",
              "       [ 2.09101562e+01],\n",
              "       [ 1.87714844e+01],\n",
              "       [-1.73593750e+01],\n",
              "       [ 1.71875000e+00],\n",
              "       [ 2.81093750e+01],\n",
              "       [-2.30703125e+01],\n",
              "       [-2.10937500e+00],\n",
              "       [ 1.12812500e+01],\n",
              "       [ 3.99023438e+00],\n",
              "       [-1.14882813e+01],\n",
              "       [ 7.33984375e+00],\n",
              "       [-1.46406250e+01],\n",
              "       [ 8.36132813e+00],\n",
              "       [ 4.95898438e+00],\n",
              "       [ 6.96093750e+00],\n",
              "       [ 9.05078125e+00],\n",
              "       [ 1.91113281e+01],\n",
              "       [-3.75976563e+00],\n",
              "       [-5.06054688e+00],\n",
              "       [ 1.61816406e+01],\n",
              "       [-5.58007812e+00],\n",
              "       [ 1.19609375e+01],\n",
              "       [ 1.02148438e+00],\n",
              "       [ 2.86914062e+00],\n",
              "       [ 1.78593750e+01],\n",
              "       [-6.38867187e+00],\n",
              "       [ 9.29687500e-01],\n",
              "       [-1.97207031e+01],\n",
              "       [-2.93945313e+00],\n",
              "       [-1.70507812e+01],\n",
              "       [ 1.09707031e+01],\n",
              "       [ 6.43945312e+00],\n",
              "       [-1.13906250e+01],\n",
              "       [ 1.14062500e+00],\n",
              "       [-1.73906250e+01],\n",
              "       [-1.24218750e+01],\n",
              "       [-6.91992188e+00],\n",
              "       [ 1.34511719e+01],\n",
              "       [-5.34960938e+00],\n",
              "       [ 1.41406250e+01],\n",
              "       [-2.23300781e+01],\n",
              "       [ 1.34492187e+01],\n",
              "       [-4.58007812e+00],\n",
              "       [-4.25976563e+00],\n",
              "       [-3.35156250e+00],\n",
              "       [-1.26210938e+01],\n",
              "       [-6.59960938e+00],\n",
              "       [ 8.18945312e+00],\n",
              "       [-1.89101562e+01],\n",
              "       [ 4.08007812e+00],\n",
              "       [-3.64843750e+00],\n",
              "       [ 1.80703125e+01],\n",
              "       [-3.69921875e+00],\n",
              "       [-1.46093750e+00],\n",
              "       [ 5.25000000e+00],\n",
              "       [ 9.03906250e+00],\n",
              "       [-1.00507812e+01],\n",
              "       [-6.38671875e-01],\n",
              "       [-2.17500000e+01],\n",
              "       [-4.21601563e+01],\n",
              "       [ 1.67968750e+00],\n",
              "       [-1.56503906e+01],\n",
              "       [-3.17968750e+00],\n",
              "       [ 1.54101562e+01],\n",
              "       [-2.36113281e+01],\n",
              "       [-9.66015625e+00],\n",
              "       [-1.17988281e+01],\n",
              "       [ 1.39804688e+01],\n",
              "       [ 1.64062500e+00],\n",
              "       [ 1.84589844e+01],\n",
              "       [ 1.37695313e+01],\n",
              "       [-1.42968750e+00],\n",
              "       [-9.45898437e+00],\n",
              "       [-8.74023437e+00],\n",
              "       [ 1.32890625e+01],\n",
              "       [ 8.25000000e+00],\n",
              "       [ 9.41015625e+00],\n",
              "       [-3.05859375e+00],\n",
              "       [-1.25292969e+01],\n",
              "       [ 5.25976563e+00],\n",
              "       [-6.34960938e+00],\n",
              "       [-4.68945312e+00],\n",
              "       [ 8.03906250e+00],\n",
              "       [-5.33007812e+00],\n",
              "       [ 1.76699219e+01],\n",
              "       [ 3.16992187e+00],\n",
              "       [ 1.10605469e+01],\n",
              "       [ 6.01953125e+00],\n",
              "       [-1.19687500e+01],\n",
              "       [ 2.34394531e+01],\n",
              "       [-1.76601562e+01],\n",
              "       [ 3.87890625e+00],\n",
              "       [-2.14707031e+01],\n",
              "       [-3.98046875e+00],\n",
              "       [ 2.73886719e+01],\n",
              "       [ 4.00976563e+00],\n",
              "       [-1.98906250e+01],\n",
              "       [ 5.75000000e+00],\n",
              "       [-9.16992188e+00],\n",
              "       [-1.32304688e+01],\n",
              "       [-1.31308594e+01],\n",
              "       [-6.41015625e+00],\n",
              "       [ 1.79003906e+01],\n",
              "       [-1.02890625e+01],\n",
              "       [-1.84902344e+01],\n",
              "       [-6.22070312e+00],\n",
              "       [-2.89199219e+01],\n",
              "       [-1.09296875e+01],\n",
              "       [ 5.57031250e+00],\n",
              "       [-1.13593750e+01],\n",
              "       [-1.28906250e+00],\n",
              "       [ 6.73046875e+00],\n",
              "       [ 2.48710937e+01],\n",
              "       [-1.63886719e+01],\n",
              "       [-6.49023437e+00],\n",
              "       [-5.58593750e-01],\n",
              "       [-6.12890625e+00],\n",
              "       [ 4.04101563e+00],\n",
              "       [-2.74511719e+01],\n",
              "       [-2.04882813e+00],\n",
              "       [ 1.23203125e+01],\n",
              "       [-1.28203125e+01],\n",
              "       [ 1.25507812e+01],\n",
              "       [-1.53906250e+01],\n",
              "       [-8.03125000e+00],\n",
              "       [ 1.67011719e+01],\n",
              "       [-6.05859375e+00],\n",
              "       [-1.01406250e+01],\n",
              "       [-2.27695312e+01],\n",
              "       [-4.72070312e+00],\n",
              "       [-1.10996094e+01],\n",
              "       [-1.47617188e+01],\n",
              "       [ 6.02929687e+00],\n",
              "       [-6.71093750e+00],\n",
              "       [ 7.03125000e-02],\n",
              "       [-5.58007812e+00],\n",
              "       [-1.19902344e+01],\n",
              "       [-1.19921875e+00],\n",
              "       [ 9.33984375e+00],\n",
              "       [-1.19140625e+00],\n",
              "       [-1.22988281e+01],\n",
              "       [ 9.70898437e+00],\n",
              "       [ 2.98496094e+01],\n",
              "       [-9.50976563e+00],\n",
              "       [-1.40605469e+01],\n",
              "       [-2.61699219e+01],\n",
              "       [-6.44921875e+00],\n",
              "       [ 7.74023437e+00],\n",
              "       [ 9.00390625e-01],\n",
              "       [ 9.22070313e+00],\n",
              "       [-6.40820313e+00],\n",
              "       [-1.91503906e+01],\n",
              "       [ 8.58984375e+00],\n",
              "       [ 1.51582031e+01],\n",
              "       [-4.11914062e+00],\n",
              "       [-7.80078125e+00],\n",
              "       [ 1.13496094e+01],\n",
              "       [ 1.20488281e+01],\n",
              "       [-2.17207031e+01],\n",
              "       [ 2.21308594e+01],\n",
              "       [ 1.42304688e+01],\n",
              "       [ 1.31210938e+01],\n",
              "       [-1.12792969e+01],\n",
              "       [ 4.67304688e+01],\n",
              "       [-3.96191406e+01],\n",
              "       [-2.98046875e+00],\n",
              "       [ 1.02285156e+01],\n",
              "       [ 5.14062500e+00],\n",
              "       [ 1.86503906e+01],\n",
              "       [-2.38300781e+01],\n",
              "       [-1.16484375e+01],\n",
              "       [ 3.51503906e+01],\n",
              "       [ 2.17968750e+00],\n",
              "       [ 3.13203125e+01],\n",
              "       [-2.02304688e+01],\n",
              "       [-1.60800781e+01],\n",
              "       [ 1.71093750e+00],\n",
              "       [-1.14589844e+01],\n",
              "       [ 0.00000000e+00]])"
            ]
          },
          "execution_count": 113,
          "metadata": {},
          "output_type": "execute_result"
        }
      ],
      "source": [
        "test_y_"
      ]
    },
    {
      "cell_type": "code",
      "execution_count": null,
      "id": "Jc12UOapwBGF",
      "metadata": {
        "colab": {
          "base_uri": "https://localhost:8080/"
        },
        "id": "Jc12UOapwBGF",
        "outputId": "bf39e2a3-53a9-4b32-f717-139f4b794c48"
      },
      "outputs": [
        {
          "data": {
            "text/plain": [
              "array([[  0.34477898],\n",
              "       [ -2.0304146 ],\n",
              "       [  2.0316916 ],\n",
              "       [  0.60438204],\n",
              "       [  0.11249924],\n",
              "       [ -3.841249  ],\n",
              "       [ -7.813699  ],\n",
              "       [ -6.1047087 ],\n",
              "       [ -4.440222  ],\n",
              "       [-11.932004  ],\n",
              "       [-14.297911  ],\n",
              "       [-11.268257  ],\n",
              "       [-11.513406  ],\n",
              "       [ -9.861773  ],\n",
              "       [ -8.892429  ],\n",
              "       [-12.051044  ],\n",
              "       [-13.823271  ],\n",
              "       [-13.251288  ],\n",
              "       [-13.93621   ],\n",
              "       [-12.103678  ],\n",
              "       [-11.474894  ],\n",
              "       [-19.307695  ],\n",
              "       [-24.501356  ],\n",
              "       [-22.875225  ],\n",
              "       [-16.163898  ]], dtype=float32)"
            ]
          },
          "execution_count": 114,
          "metadata": {},
          "output_type": "execute_result"
        }
      ],
      "source": [
        "y_test_predicted[0:25]"
      ]
    },
    {
      "cell_type": "code",
      "execution_count": null,
      "id": "cbZMfUwm9vZc",
      "metadata": {
        "colab": {
          "base_uri": "https://localhost:8080/"
        },
        "id": "cbZMfUwm9vZc",
        "outputId": "1ab68812-7eb4-4283-979e-fe28ee3fbe1f"
      },
      "outputs": [
        {
          "name": "stdout",
          "output_type": "stream",
          "text": [
            "Test RMSE: 18.404\n"
          ]
        }
      ],
      "source": [
        "# calculate RMSE\n",
        "rmse = sqrt(mean_squared_error(test_y_, y_test_predicted))\n",
        "print('Test RMSE: %.3f' % rmse)"
      ]
    },
    {
      "cell_type": "code",
      "execution_count": null,
      "id": "Ty36p55WgkBM",
      "metadata": {
        "colab": {
          "base_uri": "https://localhost:8080/"
        },
        "id": "Ty36p55WgkBM",
        "outputId": "1000ce44-2d29-46a0-b59d-acae0d8d9884"
      },
      "outputs": [
        {
          "data": {
            "text/plain": [
              "-0.405520884373493"
            ]
          },
          "execution_count": 116,
          "metadata": {},
          "output_type": "execute_result"
        }
      ],
      "source": [
        "r2_score(test_y_, y_test_predicted)"
      ]
    },
    {
      "cell_type": "code",
      "execution_count": null,
      "id": "g3vBElhB_05o",
      "metadata": {
        "colab": {
          "base_uri": "https://localhost:8080/",
          "height": 265
        },
        "id": "g3vBElhB_05o",
        "outputId": "0fee8854-712b-44ac-923d-6ebadfd619a8"
      },
      "outputs": [
        {
          "data": {
            "image/png": "[encoded data removed]",
            "text/plain": [
              "<Figure size 432x288 with 1 Axes>"
            ]
          },
          "metadata": {
            "needs_background": "light"
          },
          "output_type": "display_data"
        }
      ],
      "source": [
        "real = plt.plot(test_y_, label='real')\n",
        "pred = plt.plot(y_test_predicted, label='predicted')\n",
        "\n",
        "# real = plt.plot(unscaled_y[start:end], label='real')\n",
        "# pred = plt.plot(y_predicted[start:end], label='predicted')\n",
        "\n",
        "plt.legend(['Real', 'Predicted'])\n",
        "\n",
        "plt.show()"
      ]
    },
    {
      "cell_type": "markdown",
      "id": "Q0Kq5GfIS82M",
      "metadata": {
        "id": "Q0Kq5GfIS82M"
      },
      "source": [
        "**Prediction for the Next 15 Minutes**"
      ]
    },
    {
      "cell_type": "code",
      "execution_count": null,
      "id": "RBSLPEFxS8MD",
      "metadata": {
        "colab": {
          "base_uri": "https://localhost:8080/",
          "height": 505
        },
        "id": "RBSLPEFxS8MD",
        "outputId": "9567495d-ee1e-41f9-a428-3c3138c00454"
      },
      "outputs": [
        {
          "data": {
            "text/html": [
              "\n",
              "  <div id=\"df-ed1f468f-d540-4e79-a773-6a42b75011e1\">\n",
              "    <div class=\"colab-df-container\">\n",
              "      <div>\n",
              "<style scoped>\n",
              "    .dataframe tbody tr th:only-of-type {\n",
              "        vertical-align: middle;\n",
              "    }\n",
              "\n",
              "    .dataframe tbody tr th {\n",
              "        vertical-align: top;\n",
              "    }\n",
              "\n",
              "    .dataframe thead th {\n",
              "        text-align: right;\n",
              "    }\n",
              "</style>\n",
              "<table border=\"1\" class=\"dataframe\">\n",
              "  <thead>\n",
              "    <tr style=\"text-align: right;\">\n",
              "      <th></th>\n",
              "      <th>var1(t-1)</th>\n",
              "      <th>var2(t-1)</th>\n",
              "      <th>var3(t-1)</th>\n",
              "      <th>var4(t-1)</th>\n",
              "      <th>var5(t-1)</th>\n",
              "      <th>var6(t-1)</th>\n",
              "      <th>var7(t-1)</th>\n",
              "      <th>var8(t-1)</th>\n",
              "      <th>var9(t-1)</th>\n",
              "      <th>var10(t-1)</th>\n",
              "      <th>var11(t-1)</th>\n",
              "      <th>var12(t-1)</th>\n",
              "      <th>var13(t-1)</th>\n",
              "      <th>var14(t-1)</th>\n",
              "      <th>var15(t-1)</th>\n",
              "      <th>var16(t-1)</th>\n",
              "      <th>var17(t-1)</th>\n",
              "      <th>var18(t-1)</th>\n",
              "      <th>var6(t)</th>\n",
              "    </tr>\n",
              "  </thead>\n",
              "  <tbody>\n",
              "    <tr>\n",
              "      <th>1</th>\n",
              "      <td>0.238028</td>\n",
              "      <td>0.237327</td>\n",
              "      <td>0.239383</td>\n",
              "      <td>0.243789</td>\n",
              "      <td>0.065077</td>\n",
              "      <td>0.620831</td>\n",
              "      <td>0.194918</td>\n",
              "      <td>0.000000</td>\n",
              "      <td>0.207334</td>\n",
              "      <td>0.000000</td>\n",
              "      <td>0.000000</td>\n",
              "      <td>0.999322</td>\n",
              "      <td>0.222689</td>\n",
              "      <td>0.205382</td>\n",
              "      <td>0.976816</td>\n",
              "      <td>0.826238</td>\n",
              "      <td>0.995653</td>\n",
              "      <td>0.963933</td>\n",
              "      <td>0.628250</td>\n",
              "    </tr>\n",
              "    <tr>\n",
              "      <th>2</th>\n",
              "      <td>0.243541</td>\n",
              "      <td>0.244025</td>\n",
              "      <td>0.243552</td>\n",
              "      <td>0.250531</td>\n",
              "      <td>0.070203</td>\n",
              "      <td>0.628250</td>\n",
              "      <td>0.202390</td>\n",
              "      <td>0.000000</td>\n",
              "      <td>0.212694</td>\n",
              "      <td>0.000000</td>\n",
              "      <td>0.000000</td>\n",
              "      <td>1.000000</td>\n",
              "      <td>0.228459</td>\n",
              "      <td>0.192948</td>\n",
              "      <td>0.988709</td>\n",
              "      <td>0.833892</td>\n",
              "      <td>0.996484</td>\n",
              "      <td>0.986427</td>\n",
              "      <td>0.535162</td>\n",
              "    </tr>\n",
              "    <tr>\n",
              "      <th>3</th>\n",
              "      <td>0.250623</td>\n",
              "      <td>0.244367</td>\n",
              "      <td>0.241007</td>\n",
              "      <td>0.242270</td>\n",
              "      <td>0.055570</td>\n",
              "      <td>0.535162</td>\n",
              "      <td>0.209339</td>\n",
              "      <td>0.000000</td>\n",
              "      <td>0.215987</td>\n",
              "      <td>0.000000</td>\n",
              "      <td>0.000000</td>\n",
              "      <td>0.980976</td>\n",
              "      <td>0.231689</td>\n",
              "      <td>0.190429</td>\n",
              "      <td>1.000000</td>\n",
              "      <td>0.833603</td>\n",
              "      <td>0.915763</td>\n",
              "      <td>0.969171</td>\n",
              "      <td>0.576649</td>\n",
              "    </tr>\n",
              "    <tr>\n",
              "      <th>4</th>\n",
              "      <td>0.241992</td>\n",
              "      <td>0.239375</td>\n",
              "      <td>0.241281</td>\n",
              "      <td>0.240471</td>\n",
              "      <td>0.048565</td>\n",
              "      <td>0.576649</td>\n",
              "      <td>0.215332</td>\n",
              "      <td>0.000000</td>\n",
              "      <td>0.218510</td>\n",
              "      <td>0.000000</td>\n",
              "      <td>0.000000</td>\n",
              "      <td>0.977575</td>\n",
              "      <td>0.233752</td>\n",
              "      <td>0.173934</td>\n",
              "      <td>0.988515</td>\n",
              "      <td>0.830462</td>\n",
              "      <td>0.883030</td>\n",
              "      <td>0.931473</td>\n",
              "      <td>0.563560</td>\n",
              "    </tr>\n",
              "    <tr>\n",
              "      <th>5</th>\n",
              "      <td>0.240902</td>\n",
              "      <td>0.234209</td>\n",
              "      <td>0.238997</td>\n",
              "      <td>0.237221</td>\n",
              "      <td>0.044774</td>\n",
              "      <td>0.563560</td>\n",
              "      <td>0.220563</td>\n",
              "      <td>0.000000</td>\n",
              "      <td>0.220180</td>\n",
              "      <td>0.958383</td>\n",
              "      <td>0.958186</td>\n",
              "      <td>0.970775</td>\n",
              "      <td>0.234457</td>\n",
              "      <td>0.152136</td>\n",
              "      <td>0.979698</td>\n",
              "      <td>0.824366</td>\n",
              "      <td>0.829382</td>\n",
              "      <td>0.875538</td>\n",
              "      <td>0.498876</td>\n",
              "    </tr>\n",
              "    <tr>\n",
              "      <th>...</th>\n",
              "      <td>...</td>\n",
              "      <td>...</td>\n",
              "      <td>...</td>\n",
              "      <td>...</td>\n",
              "      <td>...</td>\n",
              "      <td>...</td>\n",
              "      <td>...</td>\n",
              "      <td>...</td>\n",
              "      <td>...</td>\n",
              "      <td>...</td>\n",
              "      <td>...</td>\n",
              "      <td>...</td>\n",
              "      <td>...</td>\n",
              "      <td>...</td>\n",
              "      <td>...</td>\n",
              "      <td>...</td>\n",
              "      <td>...</td>\n",
              "      <td>...</td>\n",
              "      <td>...</td>\n",
              "    </tr>\n",
              "    <tr>\n",
              "      <th>2706</th>\n",
              "      <td>0.569930</td>\n",
              "      <td>0.064358</td>\n",
              "      <td>0.054168</td>\n",
              "      <td>0.071698</td>\n",
              "      <td>0.162200</td>\n",
              "      <td>0.705230</td>\n",
              "      <td>0.032659</td>\n",
              "      <td>0.952749</td>\n",
              "      <td>0.029343</td>\n",
              "      <td>0.947826</td>\n",
              "      <td>0.951954</td>\n",
              "      <td>0.397808</td>\n",
              "      <td>0.039424</td>\n",
              "      <td>0.281395</td>\n",
              "      <td>0.237306</td>\n",
              "      <td>0.706231</td>\n",
              "      <td>0.851992</td>\n",
              "      <td>0.691891</td>\n",
              "      <td>0.511356</td>\n",
              "    </tr>\n",
              "    <tr>\n",
              "      <th>2707</th>\n",
              "      <td>0.608133</td>\n",
              "      <td>0.068198</td>\n",
              "      <td>0.061083</td>\n",
              "      <td>0.060950</td>\n",
              "      <td>0.169005</td>\n",
              "      <td>0.511356</td>\n",
              "      <td>0.035052</td>\n",
              "      <td>0.952859</td>\n",
              "      <td>0.031969</td>\n",
              "      <td>0.948048</td>\n",
              "      <td>0.951983</td>\n",
              "      <td>0.377644</td>\n",
              "      <td>0.042717</td>\n",
              "      <td>0.276902</td>\n",
              "      <td>0.254819</td>\n",
              "      <td>0.711823</td>\n",
              "      <td>0.683687</td>\n",
              "      <td>0.718106</td>\n",
              "      <td>0.526965</td>\n",
              "    </tr>\n",
              "    <tr>\n",
              "      <th>2708</th>\n",
              "      <td>0.592453</td>\n",
              "      <td>0.053247</td>\n",
              "      <td>0.050938</td>\n",
              "      <td>0.050878</td>\n",
              "      <td>0.152705</td>\n",
              "      <td>0.526965</td>\n",
              "      <td>0.036117</td>\n",
              "      <td>0.952951</td>\n",
              "      <td>0.032864</td>\n",
              "      <td>0.948072</td>\n",
              "      <td>0.952195</td>\n",
              "      <td>0.360290</td>\n",
              "      <td>0.043651</td>\n",
              "      <td>0.261018</td>\n",
              "      <td>0.271964</td>\n",
              "      <td>0.710368</td>\n",
              "      <td>0.525967</td>\n",
              "      <td>0.685904</td>\n",
              "      <td>0.593874</td>\n",
              "    </tr>\n",
              "    <tr>\n",
              "      <th>2709</th>\n",
              "      <td>0.584913</td>\n",
              "      <td>0.044509</td>\n",
              "      <td>0.047521</td>\n",
              "      <td>0.052144</td>\n",
              "      <td>0.186356</td>\n",
              "      <td>0.593874</td>\n",
              "      <td>0.037718</td>\n",
              "      <td>0.953063</td>\n",
              "      <td>0.033813</td>\n",
              "      <td>0.948076</td>\n",
              "      <td>0.952378</td>\n",
              "      <td>0.367416</td>\n",
              "      <td>0.044452</td>\n",
              "      <td>0.233438</td>\n",
              "      <td>0.276623</td>\n",
              "      <td>0.709313</td>\n",
              "      <td>0.545789</td>\n",
              "      <td>0.583409</td>\n",
              "      <td>0.544344</td>\n",
              "    </tr>\n",
              "    <tr>\n",
              "      <th>2710</th>\n",
              "      <td>0.587070</td>\n",
              "      <td>0.051455</td>\n",
              "      <td>0.048885</td>\n",
              "      <td>0.047009</td>\n",
              "      <td>0.356939</td>\n",
              "      <td>0.544344</td>\n",
              "      <td>0.036862</td>\n",
              "      <td>0.953145</td>\n",
              "      <td>0.033931</td>\n",
              "      <td>0.948083</td>\n",
              "      <td>0.952543</td>\n",
              "      <td>0.361251</td>\n",
              "      <td>0.044020</td>\n",
              "      <td>0.223761</td>\n",
              "      <td>0.277697</td>\n",
              "      <td>0.705251</td>\n",
              "      <td>0.465383</td>\n",
              "      <td>0.510336</td>\n",
              "      <td>0.587439</td>\n",
              "    </tr>\n",
              "  </tbody>\n",
              "</table>\n",
              "<p>2710 rows × 19 columns</p>\n",
              "</div>\n",
              "      <button class=\"colab-df-convert\" onclick=\"convertToInteractive('df-ed1f468f-d540-4e79-a773-6a42b75011e1')\"\n",
              "              title=\"Convert this dataframe to an interactive table.\"\n",
              "              style=\"display:none;\">\n",
              "        \n",
              "  <svg xmlns=\"http://www.w3.org/2000/svg\" height=\"24px\"viewBox=\"0 0 24 24\"\n",
              "       width=\"24px\">\n",
              "    <path d=\"M0 0h24v24H0V0z\" fill=\"none\"/>\n",
              "    <path d=\"M18.56 5.44l.94 2.06.94-2.06 2.06-.94-2.06-.94-.94-2.06-.94 2.06-2.06.94zm-11 1L8.5 8.5l.94-2.06 2.06-.94-2.06-.94L8.5 2.5l-.94 2.06-2.06.94zm10 10l.94 2.06.94-2.06 2.06-.94-2.06-.94-.94-2.06-.94 2.06-2.06.94z\"/><path d=\"M17.41 7.96l-1.37-1.37c-.4-.4-.92-.59-1.43-.59-.52 0-1.04.2-1.43.59L10.3 9.45l-7.72 7.72c-.78.78-.78 2.05 0 2.83L4 21.41c.39.39.9.59 1.41.59.51 0 1.02-.2 1.41-.59l7.78-7.78 2.81-2.81c.8-.78.8-2.07 0-2.86zM5.41 20L4 18.59l7.72-7.72 1.47 1.35L5.41 20z\"/>\n",
              "  </svg>\n",
              "      </button>\n",
              "      \n",
              "  <style>\n",
              "    .colab-df-container {\n",
              "      display:flex;\n",
              "      flex-wrap:wrap;\n",
              "      gap: 12px;\n",
              "    }\n",
              "\n",
              "    .colab-df-convert {\n",
              "      background-color: #E8F0FE;\n",
              "      border: none;\n",
              "      border-radius: 50%;\n",
              "      cursor: pointer;\n",
              "      display: none;\n",
              "      fill: #1967D2;\n",
              "      height: 32px;\n",
              "      padding: 0 0 0 0;\n",
              "      width: 32px;\n",
              "    }\n",
              "\n",
              "    .colab-df-convert:hover {\n",
              "      background-color: #E2EBFA;\n",
              "      box-shadow: 0px 1px 2px rgba(60, 64, 67, 0.3), 0px 1px 3px 1px rgba(60, 64, 67, 0.15);\n",
              "      fill: #174EA6;\n",
              "    }\n",
              "\n",
              "    [theme=dark] .colab-df-convert {\n",
              "      background-color: #3B4455;\n",
              "      fill: #D2E3FC;\n",
              "    }\n",
              "\n",
              "    [theme=dark] .colab-df-convert:hover {\n",
              "      background-color: #434B5C;\n",
              "      box-shadow: 0px 1px 3px 1px rgba(0, 0, 0, 0.15);\n",
              "      filter: drop-shadow(0px 1px 2px rgba(0, 0, 0, 0.3));\n",
              "      fill: #FFFFFF;\n",
              "    }\n",
              "  </style>\n",
              "\n",
              "      <script>\n",
              "        const buttonEl =\n",
              "          document.querySelector('#df-ed1f468f-d540-4e79-a773-6a42b75011e1 button.colab-df-convert');\n",
              "        buttonEl.style.display =\n",
              "          google.colab.kernel.accessAllowed ? 'block' : 'none';\n",
              "\n",
              "        async function convertToInteractive(key) {\n",
              "          const element = document.querySelector('#df-ed1f468f-d540-4e79-a773-6a42b75011e1');\n",
              "          const dataTable =\n",
              "            await google.colab.kernel.invokeFunction('convertToInteractive',\n",
              "                                                     [key], {});\n",
              "          if (!dataTable) return;\n",
              "\n",
              "          const docLinkHtml = 'Like what you see? Visit the ' +\n",
              "            '<a target=\"_blank\" href=https://colab.research.google.com/notebooks/data_table.ipynb>data table notebook</a>'\n",
              "            + ' to learn more about interactive tables.';\n",
              "          element.innerHTML = '';\n",
              "          dataTable['output_type'] = 'display_data';\n",
              "          await google.colab.output.renderOutput(dataTable, element);\n",
              "          const docLink = document.createElement('div');\n",
              "          docLink.innerHTML = docLinkHtml;\n",
              "          element.appendChild(docLink);\n",
              "        }\n",
              "      </script>\n",
              "    </div>\n",
              "  </div>\n",
              "  "
            ],
            "text/plain": [
              "      var1(t-1)  var2(t-1)  var3(t-1)  var4(t-1)  var5(t-1)  var6(t-1)  \\\n",
              "1      0.238028   0.237327   0.239383   0.243789   0.065077   0.620831   \n",
              "2      0.243541   0.244025   0.243552   0.250531   0.070203   0.628250   \n",
              "3      0.250623   0.244367   0.241007   0.242270   0.055570   0.535162   \n",
              "4      0.241992   0.239375   0.241281   0.240471   0.048565   0.576649   \n",
              "5      0.240902   0.234209   0.238997   0.237221   0.044774   0.563560   \n",
              "...         ...        ...        ...        ...        ...        ...   \n",
              "2706   0.569930   0.064358   0.054168   0.071698   0.162200   0.705230   \n",
              "2707   0.608133   0.068198   0.061083   0.060950   0.169005   0.511356   \n",
              "2708   0.592453   0.053247   0.050938   0.050878   0.152705   0.526965   \n",
              "2709   0.584913   0.044509   0.047521   0.052144   0.186356   0.593874   \n",
              "2710   0.587070   0.051455   0.048885   0.047009   0.356939   0.544344   \n",
              "\n",
              "      var7(t-1)  var8(t-1)  var9(t-1)  var10(t-1)  var11(t-1)  var12(t-1)  \\\n",
              "1      0.194918   0.000000   0.207334    0.000000    0.000000    0.999322   \n",
              "2      0.202390   0.000000   0.212694    0.000000    0.000000    1.000000   \n",
              "3      0.209339   0.000000   0.215987    0.000000    0.000000    0.980976   \n",
              "4      0.215332   0.000000   0.218510    0.000000    0.000000    0.977575   \n",
              "5      0.220563   0.000000   0.220180    0.958383    0.958186    0.970775   \n",
              "...         ...        ...        ...         ...         ...         ...   \n",
              "2706   0.032659   0.952749   0.029343    0.947826    0.951954    0.397808   \n",
              "2707   0.035052   0.952859   0.031969    0.948048    0.951983    0.377644   \n",
              "2708   0.036117   0.952951   0.032864    0.948072    0.952195    0.360290   \n",
              "2709   0.037718   0.953063   0.033813    0.948076    0.952378    0.367416   \n",
              "2710   0.036862   0.953145   0.033931    0.948083    0.952543    0.361251   \n",
              "\n",
              "      var13(t-1)  var14(t-1)  var15(t-1)  var16(t-1)  var17(t-1)  var18(t-1)  \\\n",
              "1       0.222689    0.205382    0.976816    0.826238    0.995653    0.963933   \n",
              "2       0.228459    0.192948    0.988709    0.833892    0.996484    0.986427   \n",
              "3       0.231689    0.190429    1.000000    0.833603    0.915763    0.969171   \n",
              "4       0.233752    0.173934    0.988515    0.830462    0.883030    0.931473   \n",
              "5       0.234457    0.152136    0.979698    0.824366    0.829382    0.875538   \n",
              "...          ...         ...         ...         ...         ...         ...   \n",
              "2706    0.039424    0.281395    0.237306    0.706231    0.851992    0.691891   \n",
              "2707    0.042717    0.276902    0.254819    0.711823    0.683687    0.718106   \n",
              "2708    0.043651    0.261018    0.271964    0.710368    0.525967    0.685904   \n",
              "2709    0.044452    0.233438    0.276623    0.709313    0.545789    0.583409   \n",
              "2710    0.044020    0.223761    0.277697    0.705251    0.465383    0.510336   \n",
              "\n",
              "       var6(t)  \n",
              "1     0.628250  \n",
              "2     0.535162  \n",
              "3     0.576649  \n",
              "4     0.563560  \n",
              "5     0.498876  \n",
              "...        ...  \n",
              "2706  0.511356  \n",
              "2707  0.526965  \n",
              "2708  0.593874  \n",
              "2709  0.544344  \n",
              "2710  0.587439  \n",
              "\n",
              "[2710 rows x 19 columns]"
            ]
          },
          "execution_count": 196,
          "metadata": {},
          "output_type": "execute_result"
        }
      ],
      "source": [
        "reframed"
      ]
    },
    {
      "cell_type": "code",
      "execution_count": null,
      "id": "dmJh7yGfS8QH",
      "metadata": {
        "id": "dmJh7yGfS8QH"
      },
      "outputs": [],
      "source": [
        "reframed_1 =  reframed.iloc[:, :-1] "
      ]
    },
    {
      "cell_type": "code",
      "execution_count": null,
      "id": "Mg3OVPjBm-wF",
      "metadata": {
        "colab": {
          "base_uri": "https://localhost:8080/",
          "height": 162
        },
        "id": "Mg3OVPjBm-wF",
        "outputId": "f2b1b237-2674-45fd-900c-73201e9d0bf6"
      },
      "outputs": [
        {
          "data": {
            "text/html": [
              "\n",
              "  <div id=\"df-6b1f33d6-cfa1-41cc-8468-6b40c8996f3e\">\n",
              "    <div class=\"colab-df-container\">\n",
              "      <div>\n",
              "<style scoped>\n",
              "    .dataframe tbody tr th:only-of-type {\n",
              "        vertical-align: middle;\n",
              "    }\n",
              "\n",
              "    .dataframe tbody tr th {\n",
              "        vertical-align: top;\n",
              "    }\n",
              "\n",
              "    .dataframe thead th {\n",
              "        text-align: right;\n",
              "    }\n",
              "</style>\n",
              "<table border=\"1\" class=\"dataframe\">\n",
              "  <thead>\n",
              "    <tr style=\"text-align: right;\">\n",
              "      <th></th>\n",
              "      <th>var1(t-1)</th>\n",
              "      <th>var2(t-1)</th>\n",
              "      <th>var3(t-1)</th>\n",
              "      <th>var4(t-1)</th>\n",
              "      <th>var5(t-1)</th>\n",
              "      <th>var6(t-1)</th>\n",
              "      <th>var7(t-1)</th>\n",
              "      <th>var8(t-1)</th>\n",
              "      <th>var9(t-1)</th>\n",
              "      <th>var10(t-1)</th>\n",
              "      <th>var11(t-1)</th>\n",
              "      <th>var12(t-1)</th>\n",
              "      <th>var13(t-1)</th>\n",
              "      <th>var14(t-1)</th>\n",
              "      <th>var15(t-1)</th>\n",
              "      <th>var16(t-1)</th>\n",
              "      <th>var17(t-1)</th>\n",
              "      <th>var18(t-1)</th>\n",
              "    </tr>\n",
              "  </thead>\n",
              "  <tbody>\n",
              "    <tr>\n",
              "      <th>1</th>\n",
              "      <td>0.238028</td>\n",
              "      <td>0.237327</td>\n",
              "      <td>0.239383</td>\n",
              "      <td>0.243789</td>\n",
              "      <td>0.065077</td>\n",
              "      <td>0.620831</td>\n",
              "      <td>0.194918</td>\n",
              "      <td>0.0</td>\n",
              "      <td>0.207334</td>\n",
              "      <td>0.0</td>\n",
              "      <td>0.0</td>\n",
              "      <td>0.999322</td>\n",
              "      <td>0.222689</td>\n",
              "      <td>0.205382</td>\n",
              "      <td>0.976816</td>\n",
              "      <td>0.826238</td>\n",
              "      <td>0.995653</td>\n",
              "      <td>0.963933</td>\n",
              "    </tr>\n",
              "  </tbody>\n",
              "</table>\n",
              "</div>\n",
              "      <button class=\"colab-df-convert\" onclick=\"convertToInteractive('df-6b1f33d6-cfa1-41cc-8468-6b40c8996f3e')\"\n",
              "              title=\"Convert this dataframe to an interactive table.\"\n",
              "              style=\"display:none;\">\n",
              "        \n",
              "  <svg xmlns=\"http://www.w3.org/2000/svg\" height=\"24px\"viewBox=\"0 0 24 24\"\n",
              "       width=\"24px\">\n",
              "    <path d=\"M0 0h24v24H0V0z\" fill=\"none\"/>\n",
              "    <path d=\"M18.56 5.44l.94 2.06.94-2.06 2.06-.94-2.06-.94-.94-2.06-.94 2.06-2.06.94zm-11 1L8.5 8.5l.94-2.06 2.06-.94-2.06-.94L8.5 2.5l-.94 2.06-2.06.94zm10 10l.94 2.06.94-2.06 2.06-.94-2.06-.94-.94-2.06-.94 2.06-2.06.94z\"/><path d=\"M17.41 7.96l-1.37-1.37c-.4-.4-.92-.59-1.43-.59-.52 0-1.04.2-1.43.59L10.3 9.45l-7.72 7.72c-.78.78-.78 2.05 0 2.83L4 21.41c.39.39.9.59 1.41.59.51 0 1.02-.2 1.41-.59l7.78-7.78 2.81-2.81c.8-.78.8-2.07 0-2.86zM5.41 20L4 18.59l7.72-7.72 1.47 1.35L5.41 20z\"/>\n",
              "  </svg>\n",
              "      </button>\n",
              "      \n",
              "  <style>\n",
              "    .colab-df-container {\n",
              "      display:flex;\n",
              "      flex-wrap:wrap;\n",
              "      gap: 12px;\n",
              "    }\n",
              "\n",
              "    .colab-df-convert {\n",
              "      background-color: #E8F0FE;\n",
              "      border: none;\n",
              "      border-radius: 50%;\n",
              "      cursor: pointer;\n",
              "      display: none;\n",
              "      fill: #1967D2;\n",
              "      height: 32px;\n",
              "      padding: 0 0 0 0;\n",
              "      width: 32px;\n",
              "    }\n",
              "\n",
              "    .colab-df-convert:hover {\n",
              "      background-color: #E2EBFA;\n",
              "      box-shadow: 0px 1px 2px rgba(60, 64, 67, 0.3), 0px 1px 3px 1px rgba(60, 64, 67, 0.15);\n",
              "      fill: #174EA6;\n",
              "    }\n",
              "\n",
              "    [theme=dark] .colab-df-convert {\n",
              "      background-color: #3B4455;\n",
              "      fill: #D2E3FC;\n",
              "    }\n",
              "\n",
              "    [theme=dark] .colab-df-convert:hover {\n",
              "      background-color: #434B5C;\n",
              "      box-shadow: 0px 1px 3px 1px rgba(0, 0, 0, 0.15);\n",
              "      filter: drop-shadow(0px 1px 2px rgba(0, 0, 0, 0.3));\n",
              "      fill: #FFFFFF;\n",
              "    }\n",
              "  </style>\n",
              "\n",
              "      <script>\n",
              "        const buttonEl =\n",
              "          document.querySelector('#df-6b1f33d6-cfa1-41cc-8468-6b40c8996f3e button.colab-df-convert');\n",
              "        buttonEl.style.display =\n",
              "          google.colab.kernel.accessAllowed ? 'block' : 'none';\n",
              "\n",
              "        async function convertToInteractive(key) {\n",
              "          const element = document.querySelector('#df-6b1f33d6-cfa1-41cc-8468-6b40c8996f3e');\n",
              "          const dataTable =\n",
              "            await google.colab.kernel.invokeFunction('convertToInteractive',\n",
              "                                                     [key], {});\n",
              "          if (!dataTable) return;\n",
              "\n",
              "          const docLinkHtml = 'Like what you see? Visit the ' +\n",
              "            '<a target=\"_blank\" href=https://colab.research.google.com/notebooks/data_table.ipynb>data table notebook</a>'\n",
              "            + ' to learn more about interactive tables.';\n",
              "          element.innerHTML = '';\n",
              "          dataTable['output_type'] = 'display_data';\n",
              "          await google.colab.output.renderOutput(dataTable, element);\n",
              "          const docLink = document.createElement('div');\n",
              "          docLink.innerHTML = docLinkHtml;\n",
              "          element.appendChild(docLink);\n",
              "        }\n",
              "      </script>\n",
              "    </div>\n",
              "  </div>\n",
              "  "
            ],
            "text/plain": [
              "   var1(t-1)  var2(t-1)  var3(t-1)  var4(t-1)  var5(t-1)  var6(t-1)  \\\n",
              "1   0.238028   0.237327   0.239383   0.243789   0.065077   0.620831   \n",
              "\n",
              "   var7(t-1)  var8(t-1)  var9(t-1)  var10(t-1)  var11(t-1)  var12(t-1)  \\\n",
              "1   0.194918        0.0   0.207334         0.0         0.0    0.999322   \n",
              "\n",
              "   var13(t-1)  var14(t-1)  var15(t-1)  var16(t-1)  var17(t-1)  var18(t-1)  \n",
              "1    0.222689    0.205382    0.976816    0.826238    0.995653    0.963933  "
            ]
          },
          "execution_count": 198,
          "metadata": {},
          "output_type": "execute_result"
        }
      ],
      "source": [
        "reframed_1.head(1)"
      ]
    },
    {
      "cell_type": "code",
      "execution_count": null,
      "id": "nTA7u0YdnF_9",
      "metadata": {
        "colab": {
          "base_uri": "https://localhost:8080/"
        },
        "id": "nTA7u0YdnF_9",
        "outputId": "8bf5bea5-c0a5-4d79-b9e2-db36d56591b2"
      },
      "outputs": [
        {
          "data": {
            "text/plain": [
              "(2710, 18)"
            ]
          },
          "execution_count": 199,
          "metadata": {},
          "output_type": "execute_result"
        }
      ],
      "source": [
        "reframed_1.shape"
      ]
    },
    {
      "cell_type": "code",
      "execution_count": null,
      "id": "XReK01doV3My",
      "metadata": {
        "id": "XReK01doV3My"
      },
      "outputs": [],
      "source": [
        "reframed_1 = reframed_1.iloc[-55:,:]"
      ]
    },
    {
      "cell_type": "code",
      "execution_count": null,
      "id": "K_HoDgZ4nKNW",
      "metadata": {
        "colab": {
          "base_uri": "https://localhost:8080/"
        },
        "id": "K_HoDgZ4nKNW",
        "outputId": "a92025f8-3aae-4bda-8b96-73b0eaeaebc6"
      },
      "outputs": [
        {
          "data": {
            "text/plain": [
              "(55, 18)"
            ]
          },
          "execution_count": 201,
          "metadata": {},
          "output_type": "execute_result"
        }
      ],
      "source": [
        "reframed_1.shape"
      ]
    },
    {
      "cell_type": "code",
      "execution_count": null,
      "id": "NX5ub1RkYWaz",
      "metadata": {
        "id": "NX5ub1RkYWaz"
      },
      "outputs": [],
      "source": [
        "reframed_2_last =  reframed.iloc[:, -1] "
      ]
    },
    {
      "cell_type": "code",
      "execution_count": null,
      "id": "lbzOwGAMYoou",
      "metadata": {
        "colab": {
          "base_uri": "https://localhost:8080/"
        },
        "id": "lbzOwGAMYoou",
        "outputId": "2731443a-fe52-440c-f209-be639ac8c63a"
      },
      "outputs": [
        {
          "data": {
            "text/plain": [
              "1       0.628250\n",
              "2       0.535162\n",
              "3       0.576649\n",
              "4       0.563560\n",
              "5       0.498876\n",
              "          ...   \n",
              "2706    0.511356\n",
              "2707    0.526965\n",
              "2708    0.593874\n",
              "2709    0.544344\n",
              "2710    0.587439\n",
              "Name: var6(t), Length: 2710, dtype: float64"
            ]
          },
          "execution_count": 203,
          "metadata": {},
          "output_type": "execute_result"
        }
      ],
      "source": [
        "reframed_2_last"
      ]
    },
    {
      "cell_type": "code",
      "execution_count": null,
      "id": "LVLbEHcxYhvW",
      "metadata": {
        "id": "LVLbEHcxYhvW"
      },
      "outputs": [],
      "source": [
        "reframed_2_last = reframed_2_last.iloc[-150:,]"
      ]
    },
    {
      "cell_type": "code",
      "execution_count": null,
      "id": "wp-SR-Z8nm1n",
      "metadata": {
        "colab": {
          "base_uri": "https://localhost:8080/"
        },
        "id": "wp-SR-Z8nm1n",
        "outputId": "8227381e-e3c3-4c4e-d1bd-c49f3421cb92"
      },
      "outputs": [
        {
          "data": {
            "text/plain": [
              "(150,)"
            ]
          },
          "execution_count": 205,
          "metadata": {},
          "output_type": "execute_result"
        }
      ],
      "source": [
        "reframed_2_last.shape"
      ]
    },
    {
      "cell_type": "code",
      "execution_count": null,
      "id": "GMiA2Kp1Yz-7",
      "metadata": {
        "id": "GMiA2Kp1Yz-7"
      },
      "outputs": [],
      "source": [
        "values_2 = reframed_2_last.values"
      ]
    },
    {
      "cell_type": "code",
      "execution_count": null,
      "id": "WNXtPK_JZh9n",
      "metadata": {
        "colab": {
          "base_uri": "https://localhost:8080/"
        },
        "id": "WNXtPK_JZh9n",
        "outputId": "17748c19-3ef4-48f5-9ff5-b79e0f786c58"
      },
      "outputs": [
        {
          "data": {
            "text/plain": [
              "array([0.52331424, 0.6286984 , 0.61165712, 0.54460115, 0.5917291 ,\n",
              "       0.52203614, 0.54072279, 0.56141472, 0.63802703, 0.56732041,\n",
              "       0.64061995, 0.50345967, 0.63801969, 0.57021449, 0.57141913,\n",
              "       0.57483473, 0.53997356, 0.56261936, 0.61823858, 0.51632143,\n",
              "       0.6027839 , 0.57371823, 0.65539885, 0.57352725, 0.58194506,\n",
              "       0.60718378, 0.62143382, 0.54964008, 0.58503746, 0.50564125,\n",
              "       0.42888203, 0.59375643, 0.52858087, 0.57548112, 0.64539445,\n",
              "       0.4986411 , 0.55110915, 0.54306596, 0.64001763, 0.59360952,\n",
              "       0.65686058, 0.63922433, 0.58206258, 0.55186573, 0.55456883,\n",
              "       0.63741736, 0.61846628, 0.62282944, 0.57593654, 0.54031879,\n",
              "       0.60722051, 0.56355957, 0.56980314, 0.61767298, 0.56739386,\n",
              "       0.65389305, 0.59936095, 0.62903629, 0.61007786, 0.54242691,\n",
              "       0.6755913 , 0.52102248, 0.60202732, 0.50669164, 0.57246952,\n",
              "       0.69044366, 0.60251947, 0.51263405, 0.6090642 , 0.55295284,\n",
              "       0.5376818 , 0.53805641, 0.56333186, 0.65475981, 0.54874394,\n",
              "       0.51790069, 0.56404437, 0.47867636, 0.54633466, 0.60838842,\n",
              "       0.54471867, 0.58259145, 0.61275158, 0.68097547, 0.52580432,\n",
              "       0.5630307 , 0.58533862, 0.5643896 , 0.60263699, 0.48420009,\n",
              "       0.5797341 , 0.63377406, 0.53922433, 0.63464081, 0.52955781,\n",
              "       0.5572352 , 0.65024974, 0.56465403, 0.54930219, 0.50180696,\n",
              "       0.56968562, 0.54569561, 0.53192302, 0.61011459, 0.56220068,\n",
              "       0.58770383, 0.56645365, 0.54234611, 0.58292934, 0.62256501,\n",
              "       0.58295872, 0.54118554, 0.62395328, 0.69969884, 0.55167475,\n",
              "       0.53456001, 0.48901866, 0.56318496, 0.61654914, 0.59082562,\n",
              "       0.62211694, 0.56333921, 0.51541795, 0.61974438, 0.64444689,\n",
              "       0.57194799, 0.55810195, 0.6301234 , 0.63275305, 0.50575143,\n",
              "       0.6706699 , 0.64095784, 0.63678566, 0.54501983, 0.76318496,\n",
              "       0.43843837, 0.57623035, 0.62590715, 0.60677244, 0.65758043,\n",
              "       0.49781842, 0.54363156, 0.7196342 , 0.59563684, 0.70522991,\n",
              "       0.51135596, 0.52696489, 0.59387395, 0.54434406, 0.5874394 ])"
            ]
          },
          "execution_count": 207,
          "metadata": {},
          "output_type": "execute_result"
        }
      ],
      "source": [
        "values_2"
      ]
    },
    {
      "cell_type": "code",
      "execution_count": null,
      "id": "g_Ux9VMjS8TZ",
      "metadata": {
        "id": "g_Ux9VMjS8TZ"
      },
      "outputs": [],
      "source": [
        "values_1 = reframed_1.values"
      ]
    },
    {
      "cell_type": "code",
      "execution_count": null,
      "id": "T8uP_Jx4Ut3U",
      "metadata": {
        "colab": {
          "base_uri": "https://localhost:8080/"
        },
        "id": "T8uP_Jx4Ut3U",
        "outputId": "7b551e85-071b-422b-becc-559cc0cffaf3"
      },
      "outputs": [
        {
          "data": {
            "text/plain": [
              "(55, 18)"
            ]
          },
          "execution_count": 209,
          "metadata": {},
          "output_type": "execute_result"
        }
      ],
      "source": [
        "values_1.shape\n"
      ]
    },
    {
      "cell_type": "code",
      "execution_count": null,
      "id": "VWE45HcXS8V-",
      "metadata": {
        "colab": {
          "base_uri": "https://localhost:8080/"
        },
        "id": "VWE45HcXS8V-",
        "outputId": "d0a361b6-8b53-4390-d059-c47101bdf18a"
      },
      "outputs": [
        {
          "name": "stdout",
          "output_type": "stream",
          "text": [
            "(1, 50, 18)\n",
            "(1, 50, 18)\n",
            "(1, 50, 18)\n",
            "(1, 50, 18)\n",
            "(1, 50, 18)\n"
          ]
        }
      ],
      "source": [
        "all_data=[]\n",
        "time_step=50\n",
        "for i in range(time_step,len(values_1)):\n",
        "    data_x=[]\n",
        "    data_x.append(values_1[i-time_step:i,0:values_1.shape[1]])\n",
        "    data_x=np.array(data_x)\n",
        "    print(data_x.shape)\n",
        "    prediction=model.predict(data_x)\n",
        "    all_data.append(prediction)\n",
        "    reframed_1.iloc[i,0]=prediction"
      ]
    },
    {
      "cell_type": "code",
      "execution_count": null,
      "id": "YNWwnOQTS8ZC",
      "metadata": {
        "colab": {
          "base_uri": "https://localhost:8080/"
        },
        "id": "YNWwnOQTS8ZC",
        "outputId": "04c1088d-dd78-467e-ab2a-9f8b306de474"
      },
      "outputs": [
        {
          "data": {
            "text/plain": [
              "5"
            ]
          },
          "execution_count": 211,
          "metadata": {},
          "output_type": "execute_result"
        }
      ],
      "source": [
        "len(all_data)"
      ]
    },
    {
      "cell_type": "code",
      "execution_count": null,
      "id": "vUjwpCvtS8bz",
      "metadata": {
        "id": "vUjwpCvtS8bz"
      },
      "outputs": [],
      "source": [
        "new_array=np.array(all_data)\n",
        "new_array=new_array.reshape(-1,1)\n"
      ]
    },
    {
      "cell_type": "code",
      "execution_count": null,
      "id": "7jm3Xme8WcYI",
      "metadata": {
        "colab": {
          "base_uri": "https://localhost:8080/"
        },
        "id": "7jm3Xme8WcYI",
        "outputId": "9b9286a6-40df-4eec-a4fe-01b8c220984e"
      },
      "outputs": [
        {
          "data": {
            "text/plain": [
              "array([[0.5699303 ],\n",
              "       [0.6081327 ],\n",
              "       [0.59245336],\n",
              "       [0.58491313],\n",
              "       [0.58707035]], dtype=float32)"
            ]
          },
          "execution_count": 213,
          "metadata": {},
          "output_type": "execute_result"
        }
      ],
      "source": [
        "new_array"
      ]
    },
    {
      "cell_type": "code",
      "execution_count": null,
      "id": "1C1iBdRiW504",
      "metadata": {
        "id": "1C1iBdRiW504"
      },
      "outputs": [],
      "source": [
        "future_5_minutes = scaler_dataframe.inverse_transform(new_array)\n"
      ]
    },
    {
      "cell_type": "code",
      "execution_count": null,
      "id": "uqcPKFOX2i1p",
      "metadata": {
        "colab": {
          "base_uri": "https://localhost:8080/"
        },
        "id": "uqcPKFOX2i1p",
        "outputId": "4794c4cc-ef23-4b2d-9138-d7d37d986367"
      },
      "outputs": [
        {
          "data": {
            "text/plain": [
              "array([[-4.6556387 ],\n",
              "       [ 5.5023212 ],\n",
              "       [ 1.3332042 ],\n",
              "       [-0.6717302 ],\n",
              "       [-0.09813108]], dtype=float32)"
            ]
          },
          "execution_count": 215,
          "metadata": {},
          "output_type": "execute_result"
        }
      ],
      "source": [
        "future_5_minutes"
      ]
    },
    {
      "cell_type": "code",
      "execution_count": null,
      "id": "SucVpRV5qeaR",
      "metadata": {
        "colab": {
          "base_uri": "https://localhost:8080/"
        },
        "id": "SucVpRV5qeaR",
        "outputId": "7d1d985b-1ba3-4127-c755-4816816c99cf"
      },
      "outputs": [
        {
          "data": {
            "text/plain": [
              "5"
            ]
          },
          "execution_count": 216,
          "metadata": {},
          "output_type": "execute_result"
        }
      ],
      "source": [
        "len(future_5_minutes)"
      ]
    },
    {
      "cell_type": "code",
      "execution_count": null,
      "id": "GpH3ZQRrZzcb",
      "metadata": {
        "id": "GpH3ZQRrZzcb"
      },
      "outputs": [],
      "source": [
        "values_2 = values_2.reshape(-1,1)"
      ]
    },
    {
      "cell_type": "code",
      "execution_count": null,
      "id": "WfoJG0Voqmkn",
      "metadata": {
        "colab": {
          "base_uri": "https://localhost:8080/"
        },
        "id": "WfoJG0Voqmkn",
        "outputId": "855197b3-aa04-4b05-80b1-07bdb3185f38"
      },
      "outputs": [
        {
          "data": {
            "text/plain": [
              "150"
            ]
          },
          "execution_count": 218,
          "metadata": {},
          "output_type": "execute_result"
        }
      ],
      "source": [
        "len(values_2)"
      ]
    },
    {
      "cell_type": "code",
      "execution_count": null,
      "id": "xE1760OmwoVX",
      "metadata": {
        "colab": {
          "base_uri": "https://localhost:8080/"
        },
        "id": "xE1760OmwoVX",
        "outputId": "fa6c25e8-3a5a-414e-e636-0b54a6d87eee"
      },
      "outputs": [
        {
          "data": {
            "text/plain": [
              "array([[0.52331424],\n",
              "       [0.6286984 ]])"
            ]
          },
          "execution_count": 219,
          "metadata": {},
          "output_type": "execute_result"
        }
      ],
      "source": [
        "values_2[0:2]"
      ]
    },
    {
      "cell_type": "code",
      "execution_count": null,
      "id": "0SW_qEOFwtB8",
      "metadata": {
        "id": "0SW_qEOFwtB8"
      },
      "outputs": [],
      "source": [
        "values_2_scaled = scaler_dataframe.inverse_transform(values_2)"
      ]
    },
    {
      "cell_type": "code",
      "execution_count": null,
      "id": "qrNetxnKww4m",
      "metadata": {
        "colab": {
          "base_uri": "https://localhost:8080/"
        },
        "id": "qrNetxnKww4m",
        "outputId": "7555d218-d73b-491e-f2cc-969463f6623f"
      },
      "outputs": [
        {
          "data": {
            "text/plain": [
              "array([[-17.05078125],\n",
              "       [ 10.97070313]])"
            ]
          },
          "execution_count": 221,
          "metadata": {},
          "output_type": "execute_result"
        }
      ],
      "source": [
        "values_2_scaled[0:2]"
      ]
    },
    {
      "cell_type": "code",
      "execution_count": null,
      "id": "mU04CcfjxQPu",
      "metadata": {
        "colab": {
          "base_uri": "https://localhost:8080/"
        },
        "id": "mU04CcfjxQPu",
        "outputId": "9698ac22-5a13-4ea3-f9b3-874ccd2de2f0"
      },
      "outputs": [
        {
          "data": {
            "text/plain": [
              "150"
            ]
          },
          "execution_count": 222,
          "metadata": {},
          "output_type": "execute_result"
        }
      ],
      "source": [
        "len(values_2_scaled)"
      ]
    },
    {
      "cell_type": "code",
      "execution_count": null,
      "id": "U_CCIKIExfdW",
      "metadata": {
        "id": "U_CCIKIExfdW"
      },
      "outputs": [],
      "source": [
        "values_2_scaled_pandas = pd.DataFrame(values_2_scaled)"
      ]
    },
    {
      "cell_type": "code",
      "execution_count": null,
      "id": "P9CMV6fTx0v1",
      "metadata": {
        "id": "P9CMV6fTx0v1"
      },
      "outputs": [],
      "source": [
        "values_2_scaled_pandas.columns = [\"Previous_and_Next_15_Minutes_Prediction\"]"
      ]
    },
    {
      "cell_type": "code",
      "execution_count": null,
      "id": "lcIZKIk6x02x",
      "metadata": {
        "id": "lcIZKIk6x02x"
      },
      "outputs": [],
      "source": [
        "data_1_Minute_14_datetime = data_1_Minute_14_[[\"Datetime\"]]"
      ]
    },
    {
      "cell_type": "code",
      "execution_count": null,
      "id": "-4hiPksDygCQ",
      "metadata": {
        "id": "-4hiPksDygCQ"
      },
      "outputs": [],
      "source": [
        "data_1_Minute_14_datetime = data_1_Minute_14_datetime.iloc[-150:,]"
      ]
    },
    {
      "cell_type": "code",
      "execution_count": null,
      "id": "P8L9XgSzymxR",
      "metadata": {
        "id": "P8L9XgSzymxR"
      },
      "outputs": [],
      "source": [
        "data_1_Minute_14_datetime = data_1_Minute_14_datetime.reset_index()"
      ]
    },
    {
      "cell_type": "code",
      "execution_count": null,
      "id": "3X6bcu8f58BA",
      "metadata": {
        "id": "3X6bcu8f58BA"
      },
      "outputs": [],
      "source": [
        "data_1_Minute_14_datetime.drop(\"index\", axis = 1, inplace = True)"
      ]
    },
    {
      "cell_type": "code",
      "execution_count": null,
      "id": "uVVhoGif9rk9",
      "metadata": {
        "colab": {
          "base_uri": "https://localhost:8080/"
        },
        "id": "uVVhoGif9rk9",
        "outputId": "720614c0-e62a-48cd-a944-4b4d792a5ea2"
      },
      "outputs": [
        {
          "data": {
            "text/plain": [
              "Datetime    datetime64[ns, America/New_York]\n",
              "dtype: object"
            ]
          },
          "execution_count": 229,
          "metadata": {},
          "output_type": "execute_result"
        }
      ],
      "source": [
        "data_1_Minute_14_datetime.dtypes"
      ]
    },
    {
      "cell_type": "code",
      "execution_count": null,
      "id": "Pe67TdtL98bb",
      "metadata": {
        "id": "Pe67TdtL98bb"
      },
      "outputs": [],
      "source": [
        "#data_1_Minute_14_datetime = data_1_Minute_14_datetime.astype('object')"
      ]
    },
    {
      "cell_type": "code",
      "execution_count": null,
      "id": "Up5WpFpH-LOR",
      "metadata": {
        "colab": {
          "base_uri": "https://localhost:8080/"
        },
        "id": "Up5WpFpH-LOR",
        "outputId": "202ce1b4-de0a-4c78-be96-b87eac96e62a"
      },
      "outputs": [
        {
          "data": {
            "text/plain": [
              "Datetime    datetime64[ns, America/New_York]\n",
              "dtype: object"
            ]
          },
          "execution_count": 231,
          "metadata": {},
          "output_type": "execute_result"
        }
      ],
      "source": [
        "data_1_Minute_14_datetime.dtypes"
      ]
    },
    {
      "cell_type": "code",
      "execution_count": null,
      "id": "8_MtZI4o6-MJ",
      "metadata": {
        "colab": {
          "base_uri": "https://localhost:8080/",
          "height": 507
        },
        "id": "8_MtZI4o6-MJ",
        "outputId": "f8c3f470-3bf4-4d37-9cfa-8b22e93dc2a7"
      },
      "outputs": [
        {
          "name": "stdout",
          "output_type": "stream",
          "text": [
            "Datetime                                   datetime64[ns, America/New_York]\n",
            "Previous_and_Next_15_Minutes_Prediction                             float64\n",
            "dtype: object\n"
          ]
        },
        {
          "data": {
            "text/html": [
              "\n",
              "  <div id=\"df-ad146f61-2fa4-4fec-b061-8830c8a9b6b6\">\n",
              "    <div class=\"colab-df-container\">\n",
              "      <div>\n",
              "<style scoped>\n",
              "    .dataframe tbody tr th:only-of-type {\n",
              "        vertical-align: middle;\n",
              "    }\n",
              "\n",
              "    .dataframe tbody tr th {\n",
              "        vertical-align: top;\n",
              "    }\n",
              "\n",
              "    .dataframe thead th {\n",
              "        text-align: right;\n",
              "    }\n",
              "</style>\n",
              "<table border=\"1\" class=\"dataframe\">\n",
              "  <thead>\n",
              "    <tr style=\"text-align: right;\">\n",
              "      <th></th>\n",
              "      <th>Previous_and_Next_15_Minutes_Prediction</th>\n",
              "    </tr>\n",
              "    <tr>\n",
              "      <th>Datetime</th>\n",
              "      <th></th>\n",
              "    </tr>\n",
              "  </thead>\n",
              "  <tbody>\n",
              "    <tr>\n",
              "      <th>2022-09-15 13:31:00-04:00</th>\n",
              "      <td>-17.050781</td>\n",
              "    </tr>\n",
              "    <tr>\n",
              "      <th>2022-09-15 13:32:00-04:00</th>\n",
              "      <td>10.970703</td>\n",
              "    </tr>\n",
              "    <tr>\n",
              "      <th>2022-09-15 13:33:00-04:00</th>\n",
              "      <td>6.439453</td>\n",
              "    </tr>\n",
              "    <tr>\n",
              "      <th>2022-09-15 13:34:00-04:00</th>\n",
              "      <td>-11.390625</td>\n",
              "    </tr>\n",
              "    <tr>\n",
              "      <th>2022-09-15 13:35:00-04:00</th>\n",
              "      <td>1.140625</td>\n",
              "    </tr>\n",
              "    <tr>\n",
              "      <th>...</th>\n",
              "      <td>...</td>\n",
              "    </tr>\n",
              "    <tr>\n",
              "      <th>2022-09-15 15:56:00-04:00</th>\n",
              "      <td>-20.230469</td>\n",
              "    </tr>\n",
              "    <tr>\n",
              "      <th>2022-09-15 15:57:00-04:00</th>\n",
              "      <td>-16.080078</td>\n",
              "    </tr>\n",
              "    <tr>\n",
              "      <th>2022-09-15 15:58:00-04:00</th>\n",
              "      <td>1.710937</td>\n",
              "    </tr>\n",
              "    <tr>\n",
              "      <th>2022-09-15 15:59:00-04:00</th>\n",
              "      <td>-11.458984</td>\n",
              "    </tr>\n",
              "    <tr>\n",
              "      <th>2022-09-15 16:00:00-04:00</th>\n",
              "      <td>0.000000</td>\n",
              "    </tr>\n",
              "  </tbody>\n",
              "</table>\n",
              "<p>150 rows × 1 columns</p>\n",
              "</div>\n",
              "      <button class=\"colab-df-convert\" onclick=\"convertToInteractive('df-ad146f61-2fa4-4fec-b061-8830c8a9b6b6')\"\n",
              "              title=\"Convert this dataframe to an interactive table.\"\n",
              "              style=\"display:none;\">\n",
              "        \n",
              "  <svg xmlns=\"http://www.w3.org/2000/svg\" height=\"24px\"viewBox=\"0 0 24 24\"\n",
              "       width=\"24px\">\n",
              "    <path d=\"M0 0h24v24H0V0z\" fill=\"none\"/>\n",
              "    <path d=\"M18.56 5.44l.94 2.06.94-2.06 2.06-.94-2.06-.94-.94-2.06-.94 2.06-2.06.94zm-11 1L8.5 8.5l.94-2.06 2.06-.94-2.06-.94L8.5 2.5l-.94 2.06-2.06.94zm10 10l.94 2.06.94-2.06 2.06-.94-2.06-.94-.94-2.06-.94 2.06-2.06.94z\"/><path d=\"M17.41 7.96l-1.37-1.37c-.4-.4-.92-.59-1.43-.59-.52 0-1.04.2-1.43.59L10.3 9.45l-7.72 7.72c-.78.78-.78 2.05 0 2.83L4 21.41c.39.39.9.59 1.41.59.51 0 1.02-.2 1.41-.59l7.78-7.78 2.81-2.81c.8-.78.8-2.07 0-2.86zM5.41 20L4 18.59l7.72-7.72 1.47 1.35L5.41 20z\"/>\n",
              "  </svg>\n",
              "      </button>\n",
              "      \n",
              "  <style>\n",
              "    .colab-df-container {\n",
              "      display:flex;\n",
              "      flex-wrap:wrap;\n",
              "      gap: 12px;\n",
              "    }\n",
              "\n",
              "    .colab-df-convert {\n",
              "      background-color: #E8F0FE;\n",
              "      border: none;\n",
              "      border-radius: 50%;\n",
              "      cursor: pointer;\n",
              "      display: none;\n",
              "      fill: #1967D2;\n",
              "      height: 32px;\n",
              "      padding: 0 0 0 0;\n",
              "      width: 32px;\n",
              "    }\n",
              "\n",
              "    .colab-df-convert:hover {\n",
              "      background-color: #E2EBFA;\n",
              "      box-shadow: 0px 1px 2px rgba(60, 64, 67, 0.3), 0px 1px 3px 1px rgba(60, 64, 67, 0.15);\n",
              "      fill: #174EA6;\n",
              "    }\n",
              "\n",
              "    [theme=dark] .colab-df-convert {\n",
              "      background-color: #3B4455;\n",
              "      fill: #D2E3FC;\n",
              "    }\n",
              "\n",
              "    [theme=dark] .colab-df-convert:hover {\n",
              "      background-color: #434B5C;\n",
              "      box-shadow: 0px 1px 3px 1px rgba(0, 0, 0, 0.15);\n",
              "      filter: drop-shadow(0px 1px 2px rgba(0, 0, 0, 0.3));\n",
              "      fill: #FFFFFF;\n",
              "    }\n",
              "  </style>\n",
              "\n",
              "      <script>\n",
              "        const buttonEl =\n",
              "          document.querySelector('#df-ad146f61-2fa4-4fec-b061-8830c8a9b6b6 button.colab-df-convert');\n",
              "        buttonEl.style.display =\n",
              "          google.colab.kernel.accessAllowed ? 'block' : 'none';\n",
              "\n",
              "        async function convertToInteractive(key) {\n",
              "          const element = document.querySelector('#df-ad146f61-2fa4-4fec-b061-8830c8a9b6b6');\n",
              "          const dataTable =\n",
              "            await google.colab.kernel.invokeFunction('convertToInteractive',\n",
              "                                                     [key], {});\n",
              "          if (!dataTable) return;\n",
              "\n",
              "          const docLinkHtml = 'Like what you see? Visit the ' +\n",
              "            '<a target=\"_blank\" href=https://colab.research.google.com/notebooks/data_table.ipynb>data table notebook</a>'\n",
              "            + ' to learn more about interactive tables.';\n",
              "          element.innerHTML = '';\n",
              "          dataTable['output_type'] = 'display_data';\n",
              "          await google.colab.output.renderOutput(dataTable, element);\n",
              "          const docLink = document.createElement('div');\n",
              "          docLink.innerHTML = docLinkHtml;\n",
              "          element.appendChild(docLink);\n",
              "        }\n",
              "      </script>\n",
              "    </div>\n",
              "  </div>\n",
              "  "
            ],
            "text/plain": [
              "                           Previous_and_Next_15_Minutes_Prediction\n",
              "Datetime                                                          \n",
              "2022-09-15 13:31:00-04:00                               -17.050781\n",
              "2022-09-15 13:32:00-04:00                                10.970703\n",
              "2022-09-15 13:33:00-04:00                                 6.439453\n",
              "2022-09-15 13:34:00-04:00                               -11.390625\n",
              "2022-09-15 13:35:00-04:00                                 1.140625\n",
              "...                                                            ...\n",
              "2022-09-15 15:56:00-04:00                               -20.230469\n",
              "2022-09-15 15:57:00-04:00                               -16.080078\n",
              "2022-09-15 15:58:00-04:00                                 1.710937\n",
              "2022-09-15 15:59:00-04:00                               -11.458984\n",
              "2022-09-15 16:00:00-04:00                                 0.000000\n",
              "\n",
              "[150 rows x 1 columns]"
            ]
          },
          "metadata": {},
          "output_type": "display_data"
        }
      ],
      "source": [
        "result = pd.concat([data_1_Minute_14_datetime, values_2_scaled_pandas], axis=1, join='inner')\n",
        "print(result.dtypes)\n",
        "result = result.set_index(\"Datetime\")\n",
        "display(result)"
      ]
    },
    {
      "cell_type": "code",
      "execution_count": null,
      "id": "7G5b6GtY9g40",
      "metadata": {
        "colab": {
          "base_uri": "https://localhost:8080/",
          "height": 282
        },
        "id": "7G5b6GtY9g40",
        "outputId": "7b3b0bcd-ef43-405d-e633-2dd0ed51434a"
      },
      "outputs": [
        {
          "data": {
            "text/plain": [
              "[<matplotlib.lines.Line2D at 0x7fe5d435d750>]"
            ]
          },
          "execution_count": 233,
          "metadata": {},
          "output_type": "execute_result"
        },
        {
          "data": {
            "image/png": "[encoded data removed]",
            "text/plain": [
              "<Figure size 432x288 with 1 Axes>"
            ]
          },
          "metadata": {
            "needs_background": "light"
          },
          "output_type": "display_data"
        }
      ],
      "source": [
        "plt.plot(result)"
      ]
    },
    {
      "cell_type": "code",
      "execution_count": null,
      "id": "zN4kiO_HxINO",
      "metadata": {
        "id": "zN4kiO_HxINO"
      },
      "outputs": [],
      "source": [
        "\n",
        "new_array_scaled = scaler_dataframe.inverse_transform(new_array)"
      ]
    },
    {
      "cell_type": "code",
      "execution_count": null,
      "id": "M_BVOvxR2XjP",
      "metadata": {
        "colab": {
          "base_uri": "https://localhost:8080/"
        },
        "id": "M_BVOvxR2XjP",
        "outputId": "0747a7a6-1133-4d57-d6cb-99a4e1c9d5f6"
      },
      "outputs": [
        {
          "data": {
            "text/plain": [
              "array([[-4.6556387 ],\n",
              "       [ 5.5023212 ],\n",
              "       [ 1.3332042 ],\n",
              "       [-0.6717302 ],\n",
              "       [-0.09813108]], dtype=float32)"
            ]
          },
          "execution_count": 235,
          "metadata": {},
          "output_type": "execute_result"
        }
      ],
      "source": [
        "new_array_scaled"
      ]
    },
    {
      "cell_type": "code",
      "execution_count": null,
      "id": "lnBFA4HW8T5E",
      "metadata": {
        "id": "lnBFA4HW8T5E"
      },
      "outputs": [],
      "source": [
        "new_array_scaled_dataframe = pd.DataFrame(new_array_scaled)"
      ]
    },
    {
      "cell_type": "code",
      "execution_count": null,
      "id": "a3aTp7-Q83yn",
      "metadata": {
        "colab": {
          "base_uri": "https://localhost:8080/",
          "height": 81
        },
        "id": "a3aTp7-Q83yn",
        "outputId": "78e4b706-dd9f-4032-c2af-939c2ecbbc3b"
      },
      "outputs": [
        {
          "data": {
            "text/html": [
              "\n",
              "  <div id=\"df-ab3a2c44-f500-449d-8685-3a46e49c042a\">\n",
              "    <div class=\"colab-df-container\">\n",
              "      <div>\n",
              "<style scoped>\n",
              "    .dataframe tbody tr th:only-of-type {\n",
              "        vertical-align: middle;\n",
              "    }\n",
              "\n",
              "    .dataframe tbody tr th {\n",
              "        vertical-align: top;\n",
              "    }\n",
              "\n",
              "    .dataframe thead th {\n",
              "        text-align: right;\n",
              "    }\n",
              "</style>\n",
              "<table border=\"1\" class=\"dataframe\">\n",
              "  <thead>\n",
              "    <tr style=\"text-align: right;\">\n",
              "      <th></th>\n",
              "      <th>0</th>\n",
              "    </tr>\n",
              "  </thead>\n",
              "  <tbody>\n",
              "    <tr>\n",
              "      <th>0</th>\n",
              "      <td>-4.655639</td>\n",
              "    </tr>\n",
              "  </tbody>\n",
              "</table>\n",
              "</div>\n",
              "      <button class=\"colab-df-convert\" onclick=\"convertToInteractive('df-ab3a2c44-f500-449d-8685-3a46e49c042a')\"\n",
              "              title=\"Convert this dataframe to an interactive table.\"\n",
              "              style=\"display:none;\">\n",
              "        \n",
              "  <svg xmlns=\"http://www.w3.org/2000/svg\" height=\"24px\"viewBox=\"0 0 24 24\"\n",
              "       width=\"24px\">\n",
              "    <path d=\"M0 0h24v24H0V0z\" fill=\"none\"/>\n",
              "    <path d=\"M18.56 5.44l.94 2.06.94-2.06 2.06-.94-2.06-.94-.94-2.06-.94 2.06-2.06.94zm-11 1L8.5 8.5l.94-2.06 2.06-.94-2.06-.94L8.5 2.5l-.94 2.06-2.06.94zm10 10l.94 2.06.94-2.06 2.06-.94-2.06-.94-.94-2.06-.94 2.06-2.06.94z\"/><path d=\"M17.41 7.96l-1.37-1.37c-.4-.4-.92-.59-1.43-.59-.52 0-1.04.2-1.43.59L10.3 9.45l-7.72 7.72c-.78.78-.78 2.05 0 2.83L4 21.41c.39.39.9.59 1.41.59.51 0 1.02-.2 1.41-.59l7.78-7.78 2.81-2.81c.8-.78.8-2.07 0-2.86zM5.41 20L4 18.59l7.72-7.72 1.47 1.35L5.41 20z\"/>\n",
              "  </svg>\n",
              "      </button>\n",
              "      \n",
              "  <style>\n",
              "    .colab-df-container {\n",
              "      display:flex;\n",
              "      flex-wrap:wrap;\n",
              "      gap: 12px;\n",
              "    }\n",
              "\n",
              "    .colab-df-convert {\n",
              "      background-color: #E8F0FE;\n",
              "      border: none;\n",
              "      border-radius: 50%;\n",
              "      cursor: pointer;\n",
              "      display: none;\n",
              "      fill: #1967D2;\n",
              "      height: 32px;\n",
              "      padding: 0 0 0 0;\n",
              "      width: 32px;\n",
              "    }\n",
              "\n",
              "    .colab-df-convert:hover {\n",
              "      background-color: #E2EBFA;\n",
              "      box-shadow: 0px 1px 2px rgba(60, 64, 67, 0.3), 0px 1px 3px 1px rgba(60, 64, 67, 0.15);\n",
              "      fill: #174EA6;\n",
              "    }\n",
              "\n",
              "    [theme=dark] .colab-df-convert {\n",
              "      background-color: #3B4455;\n",
              "      fill: #D2E3FC;\n",
              "    }\n",
              "\n",
              "    [theme=dark] .colab-df-convert:hover {\n",
              "      background-color: #434B5C;\n",
              "      box-shadow: 0px 1px 3px 1px rgba(0, 0, 0, 0.15);\n",
              "      filter: drop-shadow(0px 1px 2px rgba(0, 0, 0, 0.3));\n",
              "      fill: #FFFFFF;\n",
              "    }\n",
              "  </style>\n",
              "\n",
              "      <script>\n",
              "        const buttonEl =\n",
              "          document.querySelector('#df-ab3a2c44-f500-449d-8685-3a46e49c042a button.colab-df-convert');\n",
              "        buttonEl.style.display =\n",
              "          google.colab.kernel.accessAllowed ? 'block' : 'none';\n",
              "\n",
              "        async function convertToInteractive(key) {\n",
              "          const element = document.querySelector('#df-ab3a2c44-f500-449d-8685-3a46e49c042a');\n",
              "          const dataTable =\n",
              "            await google.colab.kernel.invokeFunction('convertToInteractive',\n",
              "                                                     [key], {});\n",
              "          if (!dataTable) return;\n",
              "\n",
              "          const docLinkHtml = 'Like what you see? Visit the ' +\n",
              "            '<a target=\"_blank\" href=https://colab.research.google.com/notebooks/data_table.ipynb>data table notebook</a>'\n",
              "            + ' to learn more about interactive tables.';\n",
              "          element.innerHTML = '';\n",
              "          dataTable['output_type'] = 'display_data';\n",
              "          await google.colab.output.renderOutput(dataTable, element);\n",
              "          const docLink = document.createElement('div');\n",
              "          docLink.innerHTML = docLinkHtml;\n",
              "          element.appendChild(docLink);\n",
              "        }\n",
              "      </script>\n",
              "    </div>\n",
              "  </div>\n",
              "  "
            ],
            "text/plain": [
              "          0\n",
              "0 -4.655639"
            ]
          },
          "execution_count": 237,
          "metadata": {},
          "output_type": "execute_result"
        }
      ],
      "source": [
        "new_array_scaled_dataframe.head(1)"
      ]
    },
    {
      "cell_type": "code",
      "execution_count": null,
      "id": "HlmjWOoT8_-y",
      "metadata": {
        "id": "HlmjWOoT8_-y"
      },
      "outputs": [],
      "source": [
        "new_array_scaled_dataframe.columns = [\"Previous_and_Next_15_Minutes_Prediction\"]"
      ]
    },
    {
      "cell_type": "code",
      "execution_count": null,
      "id": "vVXxFjxEHlwG",
      "metadata": {
        "id": "vVXxFjxEHlwG"
      },
      "outputs": [],
      "source": [
        "import pytz"
      ]
    },
    {
      "cell_type": "code",
      "execution_count": null,
      "id": "QoECc2sHBqi0",
      "metadata": {
        "id": "QoECc2sHBqi0"
      },
      "outputs": [],
      "source": [
        "Today= datetime.datetime.now(tz=pytz.timezone('US/Eastern'))\n"
      ]
    },
    {
      "cell_type": "code",
      "execution_count": null,
      "id": "rIqUoLp2DRWD",
      "metadata": {
        "colab": {
          "base_uri": "https://localhost:8080/"
        },
        "id": "rIqUoLp2DRWD",
        "outputId": "a79b1d85-b65c-4568-abf2-2ec188c83327"
      },
      "outputs": [
        {
          "data": {
            "text/plain": [
              "datetime.datetime(2022, 9, 16, 7, 58, 21, 1756, tzinfo=<DstTzInfo 'US/Eastern' EDT-1 day, 20:00:00 DST>)"
            ]
          },
          "execution_count": 319,
          "metadata": {},
          "output_type": "execute_result"
        }
      ],
      "source": [
        "Today"
      ]
    },
    {
      "cell_type": "code",
      "execution_count": null,
      "id": "B_Pit49nCW_Z",
      "metadata": {
        "id": "B_Pit49nCW_Z"
      },
      "outputs": [],
      "source": [
        "date_list = [Today + datetime.timedelta(minutes=1*x) for x in range(0, 5)]\n"
      ]
    },
    {
      "cell_type": "code",
      "execution_count": null,
      "id": "upDV8qUGCbcA",
      "metadata": {
        "id": "upDV8qUGCbcA"
      },
      "outputs": [],
      "source": [
        "datetext=[x.strftime('%Y-%m-%d %H:%M:%S') for x in date_list]\n"
      ]
    },
    {
      "cell_type": "code",
      "execution_count": null,
      "id": "UwLA3WZwCdTh",
      "metadata": {
        "colab": {
          "base_uri": "https://localhost:8080/"
        },
        "id": "UwLA3WZwCdTh",
        "outputId": "26a6dd3d-eec1-43d5-f9a8-f993bf8cd864"
      },
      "outputs": [
        {
          "data": {
            "text/plain": [
              "['2022-09-16 07:58:21',\n",
              " '2022-09-16 07:59:21',\n",
              " '2022-09-16 08:00:21',\n",
              " '2022-09-16 08:01:21',\n",
              " '2022-09-16 08:02:21']"
            ]
          },
          "execution_count": 322,
          "metadata": {},
          "output_type": "execute_result"
        }
      ],
      "source": [
        "datetext"
      ]
    },
    {
      "cell_type": "code",
      "execution_count": null,
      "id": "VTlI3lwTEoxk",
      "metadata": {
        "id": "VTlI3lwTEoxk"
      },
      "outputs": [],
      "source": [
        "datatext = pd.DataFrame(datetext)"
      ]
    },
    {
      "cell_type": "code",
      "execution_count": null,
      "id": "FYTb2dlaFETs",
      "metadata": {
        "id": "FYTb2dlaFETs"
      },
      "outputs": [],
      "source": [
        "datatext.columns =['Datetime']\n"
      ]
    },
    {
      "cell_type": "code",
      "execution_count": null,
      "id": "83lECwTBFqRG",
      "metadata": {
        "id": "83lECwTBFqRG"
      },
      "outputs": [],
      "source": [
        "datatext['Datetime'] = pd.to_datetime(datatext['Datetime'])\n"
      ]
    },
    {
      "cell_type": "code",
      "execution_count": null,
      "id": "tzYR4HwSGyxL",
      "metadata": {
        "colab": {
          "base_uri": "https://localhost:8080/"
        },
        "id": "tzYR4HwSGyxL",
        "outputId": "7f370309-753b-47c4-9716-253964194c2b"
      },
      "outputs": [
        {
          "data": {
            "text/plain": [
              "Datetime    datetime64[ns]\n",
              "dtype: object"
            ]
          },
          "execution_count": 308,
          "metadata": {},
          "output_type": "execute_result"
        }
      ],
      "source": [
        "datatext.dtypes"
      ]
    },
    {
      "cell_type": "code",
      "execution_count": null,
      "id": "5qaBvkh1IwEK",
      "metadata": {
        "id": "5qaBvkh1IwEK"
      },
      "outputs": [],
      "source": [
        "combine = pd.concat([datatext, new_array_scaled_dataframe], axis =1)"
      ]
    },
    {
      "cell_type": "code",
      "execution_count": null,
      "id": "f25cyVWGJZfg",
      "metadata": {
        "id": "f25cyVWGJZfg"
      },
      "outputs": [],
      "source": [
        "combine = combine.set_index(\"Datetime\")"
      ]
    },
    {
      "cell_type": "code",
      "execution_count": null,
      "id": "t0fo2Z82IXKu",
      "metadata": {
        "colab": {
          "base_uri": "https://localhost:8080/",
          "height": 455
        },
        "id": "t0fo2Z82IXKu",
        "outputId": "a9c7062e-a299-472b-a724-f669a3f642bc"
      },
      "outputs": [
        {
          "data": {
            "text/html": [
              "\n",
              "  <div id=\"df-0782b21f-59b6-4761-b266-e9efd0b8181f\">\n",
              "    <div class=\"colab-df-container\">\n",
              "      <div>\n",
              "<style scoped>\n",
              "    .dataframe tbody tr th:only-of-type {\n",
              "        vertical-align: middle;\n",
              "    }\n",
              "\n",
              "    .dataframe tbody tr th {\n",
              "        vertical-align: top;\n",
              "    }\n",
              "\n",
              "    .dataframe thead th {\n",
              "        text-align: right;\n",
              "    }\n",
              "</style>\n",
              "<table border=\"1\" class=\"dataframe\">\n",
              "  <thead>\n",
              "    <tr style=\"text-align: right;\">\n",
              "      <th></th>\n",
              "      <th>Previous_and_Next_15_Minutes_Prediction</th>\n",
              "    </tr>\n",
              "    <tr>\n",
              "      <th>Datetime</th>\n",
              "      <th></th>\n",
              "    </tr>\n",
              "  </thead>\n",
              "  <tbody>\n",
              "    <tr>\n",
              "      <th>2022-09-15 13:31:00-04:00</th>\n",
              "      <td>-17.050781</td>\n",
              "    </tr>\n",
              "    <tr>\n",
              "      <th>2022-09-15 13:32:00-04:00</th>\n",
              "      <td>10.970703</td>\n",
              "    </tr>\n",
              "    <tr>\n",
              "      <th>2022-09-15 13:33:00-04:00</th>\n",
              "      <td>6.439453</td>\n",
              "    </tr>\n",
              "    <tr>\n",
              "      <th>2022-09-15 13:34:00-04:00</th>\n",
              "      <td>-11.390625</td>\n",
              "    </tr>\n",
              "    <tr>\n",
              "      <th>2022-09-15 13:35:00-04:00</th>\n",
              "      <td>1.140625</td>\n",
              "    </tr>\n",
              "    <tr>\n",
              "      <th>...</th>\n",
              "      <td>...</td>\n",
              "    </tr>\n",
              "    <tr>\n",
              "      <th>2022-09-16 07:53:54</th>\n",
              "      <td>-4.655639</td>\n",
              "    </tr>\n",
              "    <tr>\n",
              "      <th>2022-09-16 07:54:54</th>\n",
              "      <td>5.502321</td>\n",
              "    </tr>\n",
              "    <tr>\n",
              "      <th>2022-09-16 07:55:54</th>\n",
              "      <td>1.333204</td>\n",
              "    </tr>\n",
              "    <tr>\n",
              "      <th>2022-09-16 07:56:54</th>\n",
              "      <td>-0.671730</td>\n",
              "    </tr>\n",
              "    <tr>\n",
              "      <th>2022-09-16 07:57:54</th>\n",
              "      <td>-0.098131</td>\n",
              "    </tr>\n",
              "  </tbody>\n",
              "</table>\n",
              "<p>155 rows × 1 columns</p>\n",
              "</div>\n",
              "      <button class=\"colab-df-convert\" onclick=\"convertToInteractive('df-0782b21f-59b6-4761-b266-e9efd0b8181f')\"\n",
              "              title=\"Convert this dataframe to an interactive table.\"\n",
              "              style=\"display:none;\">\n",
              "        \n",
              "  <svg xmlns=\"http://www.w3.org/2000/svg\" height=\"24px\"viewBox=\"0 0 24 24\"\n",
              "       width=\"24px\">\n",
              "    <path d=\"M0 0h24v24H0V0z\" fill=\"none\"/>\n",
              "    <path d=\"M18.56 5.44l.94 2.06.94-2.06 2.06-.94-2.06-.94-.94-2.06-.94 2.06-2.06.94zm-11 1L8.5 8.5l.94-2.06 2.06-.94-2.06-.94L8.5 2.5l-.94 2.06-2.06.94zm10 10l.94 2.06.94-2.06 2.06-.94-2.06-.94-.94-2.06-.94 2.06-2.06.94z\"/><path d=\"M17.41 7.96l-1.37-1.37c-.4-.4-.92-.59-1.43-.59-.52 0-1.04.2-1.43.59L10.3 9.45l-7.72 7.72c-.78.78-.78 2.05 0 2.83L4 21.41c.39.39.9.59 1.41.59.51 0 1.02-.2 1.41-.59l7.78-7.78 2.81-2.81c.8-.78.8-2.07 0-2.86zM5.41 20L4 18.59l7.72-7.72 1.47 1.35L5.41 20z\"/>\n",
              "  </svg>\n",
              "      </button>\n",
              "      \n",
              "  <style>\n",
              "    .colab-df-container {\n",
              "      display:flex;\n",
              "      flex-wrap:wrap;\n",
              "      gap: 12px;\n",
              "    }\n",
              "\n",
              "    .colab-df-convert {\n",
              "      background-color: #E8F0FE;\n",
              "      border: none;\n",
              "      border-radius: 50%;\n",
              "      cursor: pointer;\n",
              "      display: none;\n",
              "      fill: #1967D2;\n",
              "      height: 32px;\n",
              "      padding: 0 0 0 0;\n",
              "      width: 32px;\n",
              "    }\n",
              "\n",
              "    .colab-df-convert:hover {\n",
              "      background-color: #E2EBFA;\n",
              "      box-shadow: 0px 1px 2px rgba(60, 64, 67, 0.3), 0px 1px 3px 1px rgba(60, 64, 67, 0.15);\n",
              "      fill: #174EA6;\n",
              "    }\n",
              "\n",
              "    [theme=dark] .colab-df-convert {\n",
              "      background-color: #3B4455;\n",
              "      fill: #D2E3FC;\n",
              "    }\n",
              "\n",
              "    [theme=dark] .colab-df-convert:hover {\n",
              "      background-color: #434B5C;\n",
              "      box-shadow: 0px 1px 3px 1px rgba(0, 0, 0, 0.15);\n",
              "      filter: drop-shadow(0px 1px 2px rgba(0, 0, 0, 0.3));\n",
              "      fill: #FFFFFF;\n",
              "    }\n",
              "  </style>\n",
              "\n",
              "      <script>\n",
              "        const buttonEl =\n",
              "          document.querySelector('#df-0782b21f-59b6-4761-b266-e9efd0b8181f button.colab-df-convert');\n",
              "        buttonEl.style.display =\n",
              "          google.colab.kernel.accessAllowed ? 'block' : 'none';\n",
              "\n",
              "        async function convertToInteractive(key) {\n",
              "          const element = document.querySelector('#df-0782b21f-59b6-4761-b266-e9efd0b8181f');\n",
              "          const dataTable =\n",
              "            await google.colab.kernel.invokeFunction('convertToInteractive',\n",
              "                                                     [key], {});\n",
              "          if (!dataTable) return;\n",
              "\n",
              "          const docLinkHtml = 'Like what you see? Visit the ' +\n",
              "            '<a target=\"_blank\" href=https://colab.research.google.com/notebooks/data_table.ipynb>data table notebook</a>'\n",
              "            + ' to learn more about interactive tables.';\n",
              "          element.innerHTML = '';\n",
              "          dataTable['output_type'] = 'display_data';\n",
              "          await google.colab.output.renderOutput(dataTable, element);\n",
              "          const docLink = document.createElement('div');\n",
              "          docLink.innerHTML = docLinkHtml;\n",
              "          element.appendChild(docLink);\n",
              "        }\n",
              "      </script>\n",
              "    </div>\n",
              "  </div>\n",
              "  "
            ],
            "text/plain": [
              "                           Previous_and_Next_15_Minutes_Prediction\n",
              "Datetime                                                          \n",
              "2022-09-15 13:31:00-04:00                               -17.050781\n",
              "2022-09-15 13:32:00-04:00                                10.970703\n",
              "2022-09-15 13:33:00-04:00                                 6.439453\n",
              "2022-09-15 13:34:00-04:00                               -11.390625\n",
              "2022-09-15 13:35:00-04:00                                 1.140625\n",
              "...                                                            ...\n",
              "2022-09-16 07:53:54                                      -4.655639\n",
              "2022-09-16 07:54:54                                       5.502321\n",
              "2022-09-16 07:55:54                                       1.333204\n",
              "2022-09-16 07:56:54                                      -0.671730\n",
              "2022-09-16 07:57:54                                      -0.098131\n",
              "\n",
              "[155 rows x 1 columns]"
            ]
          },
          "metadata": {},
          "output_type": "display_data"
        }
      ],
      "source": [
        "frames = [result, combine]\n",
        "  \n",
        "final = pd.concat(frames)\n",
        "display(final)"
      ]
    },
    {
      "cell_type": "code",
      "execution_count": null,
      "id": "8jyTFNXF4vwt",
      "metadata": {
        "colab": {
          "base_uri": "https://localhost:8080/",
          "height": 315
        },
        "id": "8jyTFNXF4vwt",
        "outputId": "371e94ad-fa79-4d99-f6ab-a6b57789ffcf"
      },
      "outputs": [
        {
          "data": {
            "text/plain": [
              "[<matplotlib.lines.Line2D at 0x7fe5ba8b8c50>]"
            ]
          },
          "execution_count": 332,
          "metadata": {},
          "output_type": "execute_result"
        },
        {
          "data": {
            "image/png": "[encoded data removed]",
            "text/plain": [
              "<Figure size 1800x432 with 1 Axes>"
            ]
          },
          "metadata": {
            "needs_background": "light"
          },
          "output_type": "display_data"
        }
      ],
      "source": [
        "plt.figure(figsize = (25, 6))\n",
        "plt.plot(combine)"
      ]
    },
    {
      "cell_type": "code",
      "execution_count": null,
      "id": "GoFtD0vkX5w2",
      "metadata": {
        "colab": {
          "base_uri": "https://localhost:8080/",
          "height": 282
        },
        "id": "GoFtD0vkX5w2",
        "outputId": "b51ef1e9-c999-44e2-8ab5-0947572ebe55"
      },
      "outputs": [
        {
          "data": {
            "text/plain": [
              "[<matplotlib.lines.Line2D at 0x7fe5d4791250>]"
            ]
          },
          "execution_count": 195,
          "metadata": {},
          "output_type": "execute_result"
        },
        {
          "data": {
            "image/png": "[encoded data removed]",
            "text/plain": [
              "<Figure size 432x288 with 1 Axes>"
            ]
          },
          "metadata": {
            "needs_background": "light"
          },
          "output_type": "display_data"
        }
      ],
      "source": [
        "day_new=np.arange(1,151)\n",
        "day_pred=np.arange(151,156)\n",
        "plt.plot(day_new,values_2_scaled)\n",
        "#plt.plot(result)\n",
        "plt.plot(day_pred,new_array_scaled)"
      ]
    },
    {
      "cell_type": "code",
      "execution_count": null,
      "id": "JvVQfwtBpZKq",
      "metadata": {
        "colab": {
          "base_uri": "https://localhost:8080/",
          "height": 1000
        },
        "id": "JvVQfwtBpZKq",
        "outputId": "66363039-bf31-45c8-e22a-bb68b876deec"
      },
      "outputs": [
        {
          "name": "stdout",
          "output_type": "stream",
          "text": [
            "Predictions\n"
          ]
        },
        {
          "data": {
            "image/png": "[encoded data removed]",
            "text/plain": [
              "<Figure size 432x288 with 1 Axes>"
            ]
          },
          "metadata": {
            "needs_background": "light"
          },
          "output_type": "display_data"
        },
        {
          "name": "stdout",
          "output_type": "stream",
          "text": [
            "Predictions\n"
          ]
        },
        {
          "data": {
            "image/png": "[encoded data removed]",
            "text/plain": [
              "<Figure size 432x288 with 1 Axes>"
            ]
          },
          "metadata": {
            "needs_background": "light"
          },
          "output_type": "display_data"
        },
        {
          "name": "stdout",
          "output_type": "stream",
          "text": [
            "Predictions\n"
          ]
        },
        {
          "data": {
            "image/png": "[encoded data removed]",
            "text/plain": [
              "<Figure size 432x288 with 1 Axes>"
            ]
          },
          "metadata": {
            "needs_background": "light"
          },
          "output_type": "display_data"
        },
        {
          "name": "stdout",
          "output_type": "stream",
          "text": [
            "Predictions\n"
          ]
        },
        {
          "data": {
            "image/png": "[encoded data removed]",
            "text/plain": [
              "<Figure size 432x288 with 1 Axes>"
            ]
          },
          "metadata": {
            "needs_background": "light"
          },
          "output_type": "display_data"
        },
        {
          "ename": "KeyboardInterrupt",
          "evalue": "ignored",
          "output_type": "error",
          "traceback": [
            "\u001b[0;31m---------------------------------------------------------------------------\u001b[0m",
            "\u001b[0;31mKeyboardInterrupt\u001b[0m                         Traceback (most recent call last)",
            "\u001b[0;32m<ipython-input-361-9d50d103f0a4>\u001b[0m in \u001b[0;36m<module>\u001b[0;34m\u001b[0m\n\u001b[1;32m      7\u001b[0m   \u001b[0mprint\u001b[0m\u001b[0;34m(\u001b[0m\u001b[0;34m\"Predictions\"\u001b[0m\u001b[0;34m)\u001b[0m\u001b[0;34m\u001b[0m\u001b[0;34m\u001b[0m\u001b[0m\n\u001b[1;32m      8\u001b[0m   \u001b[0mplt\u001b[0m\u001b[0;34m.\u001b[0m\u001b[0mshow\u001b[0m\u001b[0;34m(\u001b[0m\u001b[0;34m)\u001b[0m\u001b[0;34m\u001b[0m\u001b[0;34m\u001b[0m\u001b[0m\n\u001b[0;32m----> 9\u001b[0;31m   \u001b[0mtime\u001b[0m\u001b[0;34m.\u001b[0m\u001b[0msleep\u001b[0m\u001b[0;34m(\u001b[0m\u001b[0;36m5\u001b[0m\u001b[0;34m)\u001b[0m\u001b[0;34m\u001b[0m\u001b[0;34m\u001b[0m\u001b[0m\n\u001b[0m",
            "\u001b[0;31mKeyboardInterrupt\u001b[0m: "
          ]
        }
      ],
      "source": [
        "while True:\n",
        "  day_new=np.arange(1,151)\n",
        "  day_pred=np.arange(151,166)\n",
        "  plt.plot(day_new,values_2_scaled)\n",
        "  #plt.plot(result)\n",
        "  plt.plot(day_pred,new_array_scaled)\n",
        "  print(\"Predictions\")\n",
        "  plt.show()\n",
        "  time.sleep(5)\n"
      ]
    },
    {
      "cell_type": "code",
      "execution_count": null,
      "id": "PnYX3bUDLOlz",
      "metadata": {
        "id": "PnYX3bUDLOlz"
      },
      "outputs": [],
      "source": []
    }
  ],
  "metadata": {
    "accelerator": "GPU",
    "colab": {
      "collapsed_sections": [],
      "provenance": []
    },
    "gpuClass": "standard",
    "kernelspec": {
      "display_name": "Python 3.9.12 ('base')",
      "language": "python",
      "name": "python3"
    },
    "language_info": {
      "codemirror_mode": {
        "name": "ipython",
        "version": 3
      },
      "file_extension": ".py",
      "mimetype": "text/x-python",
      "name": "python",
      "nbconvert_exporter": "python",
      "pygments_lexer": "ipython3",
      "version": "3.9.12"
    },
    "vscode": {
      "interpreter": {
        "hash": "8e168ebdcabf1927f45ed35888cf5e0fe2e247e367377aca7d4f039b9594d7ce"
      }
    }
  },
  "nbformat": 4,
  "nbformat_minor": 5
}
